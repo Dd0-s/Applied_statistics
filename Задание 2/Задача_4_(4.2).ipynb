{
 "cells": [
  {
   "cell_type": "markdown",
   "id": "d1c310e0",
   "metadata": {},
   "source": [
    "# Богданов Александр Иванович, Б05-003"
   ]
  },
  {
   "cell_type": "markdown",
   "id": "ae0ed888",
   "metadata": {},
   "source": [
    "## Задача 4.2"
   ]
  },
  {
   "cell_type": "markdown",
   "id": "537ab3c6",
   "metadata": {},
   "source": [
    "Получить аналитическую формулу для оценки правдоподобия последовательности слов из словаря мощности $d$ на основе языковой модели, в случаях:\n",
    "\n",
    "1. Если, все слова независимы и распределенны равномерно.\n",
    "2. Если известно распределение $p(w_i|w_{i-1}) = Dir(mu(w_{i-1}))$ где $Dir$ является распределением Дирихле с вектором параметров $mu(w_{i-1})$ размерности $d$. Причем компоненты вектора $mu(w_{i-1})$ задаются выражением: $mu_k = exp(-|k-j|)$, где $j$ это номер слова $w_{i-1}$ в словаре, а $k$ -- индекс слова в словаре.\n",
    "\n",
    "P.S. Подсказка по п.2. Для поиска распределения последовательности удобно использовать не правдоподобие, а логарифм правдоподобия. \n",
    "P.S. Зависимостями между словами на расстоянии больше двух пренебречь. P.S. В onehot векторах в распределении дирихле предположить, что вероятность слова $i$ это $1 - \\varepsilon$, а всех остальных $\\frac{\\varepsilon}{|d|}$."
   ]
  },
  {
   "cell_type": "markdown",
   "id": "a01501ec",
   "metadata": {},
   "source": [
    "## Решение|"
   ]
  },
  {
   "cell_type": "code",
   "execution_count": null,
   "id": "bc4f487a",
   "metadata": {},
   "outputs": [],
   "source": []
  }
 ],
 "metadata": {
  "kernelspec": {
   "display_name": "Python 3 (ipykernel)",
   "language": "python",
   "name": "python3"
  },
  "language_info": {
   "codemirror_mode": {
    "name": "ipython",
    "version": 3
   },
   "file_extension": ".py",
   "mimetype": "text/x-python",
   "name": "python",
   "nbconvert_exporter": "python",
   "pygments_lexer": "ipython3",
   "version": "3.11.5"
  }
 },
 "nbformat": 4,
 "nbformat_minor": 5
}
