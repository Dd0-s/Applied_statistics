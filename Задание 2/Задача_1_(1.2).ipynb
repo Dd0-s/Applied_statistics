{
 "cells": [
  {
   "cell_type": "markdown",
   "id": "06bae3e3",
   "metadata": {},
   "source": [
    "# Богданов Александр Иванович, Б05-003"
   ]
  },
  {
   "cell_type": "markdown",
   "id": "12c3516e",
   "metadata": {},
   "source": [
    "## Задача 1.2"
   ]
  },
  {
   "cell_type": "markdown",
   "id": "18bc1515",
   "metadata": {},
   "source": [
    "1. Построить граф методом Inductive search (допускается использование любого инструмента, в том числе тех, которые не были рассказаны на семинаре, например DirectLINGAM )\n",
    "2. Посчитать ACE/ATE между previous_cancellations (отменой предыдущих заказов) и known_client (клиент известен системе)\n",
    "3. Посчитать ACE/ATE между previous_cancellations (отменой предыдущих заказов) и known_client (клиент известен системе) напрямую, без использования графа\n",
    "4. Сравнить и проинтерпретировать результат\n",
    "5. Предложить свой граф зависимостей, исходя из здравого смысла\n",
    "6. Посчитать ACE/ATE между всеми наборами признаков без использования графа и с использованием своего графа. Объяснить разницу.\n",
    "7. Допускается использование подвыборок для построения графа."
   ]
  },
  {
   "cell_type": "markdown",
   "id": "00cd619b",
   "metadata": {},
   "source": [
    "## Решение|"
   ]
  },
  {
   "cell_type": "code",
   "execution_count": null,
   "id": "ac86a2b3",
   "metadata": {},
   "outputs": [],
   "source": []
  }
 ],
 "metadata": {
  "kernelspec": {
   "display_name": "Python 3 (ipykernel)",
   "language": "python",
   "name": "python3"
  },
  "language_info": {
   "codemirror_mode": {
    "name": "ipython",
    "version": 3
   },
   "file_extension": ".py",
   "mimetype": "text/x-python",
   "name": "python",
   "nbconvert_exporter": "python",
   "pygments_lexer": "ipython3",
   "version": "3.11.5"
  }
 },
 "nbformat": 4,
 "nbformat_minor": 5
}
