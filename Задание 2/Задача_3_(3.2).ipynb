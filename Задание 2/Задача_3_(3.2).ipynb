{
 "cells": [
  {
   "cell_type": "markdown",
   "id": "c8e01d01",
   "metadata": {},
   "source": [
    "# Богданов Александр Иванович, Б05-003"
   ]
  },
  {
   "cell_type": "markdown",
   "id": "b9c7db1e",
   "metadata": {},
   "source": [
    "## Задача 3.2"
   ]
  },
  {
   "cell_type": "markdown",
   "id": "65bb9487",
   "metadata": {},
   "source": [
    "Выборка: набор предложений на русском языке с указанием именованных сущностей (они же NE, named entity).\n",
    "\n",
    "Требуется:\n",
    "\n",
    "1. Рассмотреть последовательность именованных и неименованных сущностей как марковскую модель. Определить оптимальный порядок марковской модели.\n",
    "2. Обучить скрытую марковскую модель по выборке. Оценить точность предсказания, является ли слово именованной сущностью или нет, посчитать энтропию на выборке."
   ]
  },
  {
   "cell_type": "markdown",
   "id": "1a77ab35",
   "metadata": {},
   "source": [
    "## Решение|"
   ]
  },
  {
   "cell_type": "code",
   "execution_count": null,
   "id": "4bfc7044",
   "metadata": {},
   "outputs": [],
   "source": []
  }
 ],
 "metadata": {
  "kernelspec": {
   "display_name": "Python 3 (ipykernel)",
   "language": "python",
   "name": "python3"
  },
  "language_info": {
   "codemirror_mode": {
    "name": "ipython",
    "version": 3
   },
   "file_extension": ".py",
   "mimetype": "text/x-python",
   "name": "python",
   "nbconvert_exporter": "python",
   "pygments_lexer": "ipython3",
   "version": "3.11.5"
  }
 },
 "nbformat": 4,
 "nbformat_minor": 5
}
