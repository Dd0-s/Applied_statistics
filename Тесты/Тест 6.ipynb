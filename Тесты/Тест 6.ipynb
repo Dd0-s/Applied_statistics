{
 "cells": [
  {
   "cell_type": "markdown",
   "metadata": {
    "id": "SWpzzBKX5lab"
   },
   "source": [
    "# Библиотеки"
   ]
  },
  {
   "cell_type": "code",
   "execution_count": 9,
   "metadata": {
    "ExecuteTime": {
     "end_time": "2024-04-05T15:40:51.355719Z",
     "start_time": "2024-04-05T15:40:51.093367Z"
    },
    "id": "DVElVx3w5lag"
   },
   "outputs": [],
   "source": [
    "from zlib import crc32\n",
    "\n",
    "import numpy as np\n",
    "import pandas as pd\n",
    "import scipy.stats as st\n",
    "from statsmodels.formula.api import ols\n",
    "import statsmodels.api as sm\n",
    "import re"
   ]
  },
  {
   "cell_type": "markdown",
   "metadata": {
    "id": "W10bESh65lah"
   },
   "source": [
    "# Код генерации выборки"
   ]
  },
  {
   "cell_type": "code",
   "execution_count": 6,
   "metadata": {
    "ExecuteTime": {
     "end_time": "2024-04-05T15:39:29.515141Z",
     "start_time": "2024-04-05T15:39:29.507501Z"
    },
    "id": "-dRusc3I5lai"
   },
   "outputs": [],
   "source": [
    "EMAIL_REGEX = re.compile(r\"[^@]+@phystech.edu\")\n",
    "\n",
    "def generate_dataset(code):\n",
    "    rs = np.random.RandomState(code)\n",
    "    tip = rs.randint(low = 0, high = 4)\n",
    "    C1 = rs.choice([1, 5], size = 1000)\n",
    "    C2 = rs.choice([2, 4], size = 1000)\n",
    "    if tip == 0 :\n",
    "        data = rs.randn(1000)\n",
    "    if tip == 1:\n",
    "        data = []\n",
    "        for c1,c2 in zip(C1, C2):\n",
    "            if c1 == 1:\n",
    "                data.append(rs.randn(1) + 1)\n",
    "            if c1 == 5:\n",
    "                data.append(rs.randn(1) - 1)\n",
    "        data = np.array(data)\n",
    "    if tip == 2:\n",
    "        data = []\n",
    "        for c1,c2 in zip(C1, C2):\n",
    "            if c1==1:\n",
    "                c1 = 0\n",
    "            else:\n",
    "                c1= 1\n",
    "            if c2 ==2:\n",
    "                c2 = 0\n",
    "            else:\n",
    "                c2 = 1\n",
    "            data.append(rs.randn(1) + c1 + c2)\n",
    "    if tip == 3:# on c1, c2\n",
    "        data = []\n",
    "        for c1,c2 in zip(C1,C2):\n",
    "            if c1==1:\n",
    "                c1 = 0\n",
    "            else:\n",
    "                c1= 1\n",
    "            if c2 ==2:\n",
    "                c2 = 0\n",
    "            else:\n",
    "                c2 = 1\n",
    "            data.append(rs.randn(1) + c1 + c2 + 5*c1*c2)\n",
    "        data = np.array(data)\n",
    "    return np.hstack([np.array(data).reshape(1000, 1), C1.reshape(1000, 1), C2.reshape(1000, 1)])"
   ]
  },
  {
   "cell_type": "markdown",
   "metadata": {
    "id": "LXkXPYIz5laj"
   },
   "source": [
    "# Генерация выборки для вашей почты\n",
    "\n",
    "<span style=\"color:red\">\n",
    "    ВАЖНО!\n",
    "    Почта, которую укажете ниже и почта с которой Вы отправляете домашнее задание должна совпадать!\n",
    "    В момент проверки задания алгоритм генерирует выборку на основе почты из анкеты!\n",
    "</span>\n",
    "\n",
    "Внимательно проверьте почту для которой выполняется задание!"
   ]
  },
  {
   "cell_type": "code",
   "execution_count": 7,
   "metadata": {
    "ExecuteTime": {
     "end_time": "2024-04-05T15:39:46.847810Z",
     "start_time": "2024-04-05T15:39:30.763564Z"
    },
    "id": "h8bMsPHy5laj"
   },
   "outputs": [
    {
     "name": "stdout",
     "output_type": "stream",
     "text": [
      "Enter your mail: bogdanov.ai@phystech.edu\n"
     ]
    },
    {
     "data": {
      "text/plain": [
       "{'mail': 'bogdanov.ai@phystech.edu',\n",
       " 'id': 1162440694,\n",
       " 'data': array([[ 0.97312444,  1.        ,  2.        ],\n",
       "        [-2.88158553,  5.        ,  4.        ],\n",
       "        [-0.54258116,  5.        ,  2.        ],\n",
       "        ...,\n",
       "        [ 0.11977129,  1.        ,  2.        ],\n",
       "        [ 0.65151194,  1.        ,  2.        ],\n",
       "        [-2.12983409,  5.        ,  4.        ]])}"
      ]
     },
     "execution_count": 7,
     "metadata": {},
     "output_type": "execute_result"
    }
   ],
   "source": [
    "task = dict()\n",
    "task['mail'] = input(prompt='Enter your mail: ')\n",
    "assert EMAIL_REGEX.match(task['mail']), 'Not a mail in the phystech.edu domain'\n",
    "task['id'] = crc32(task['mail'].encode('utf-8'))\n",
    "task['data'] = generate_dataset(task['id'])\n",
    "\n",
    "task"
   ]
  },
  {
   "cell_type": "markdown",
   "metadata": {
    "id": "WprDKyMv5lak"
   },
   "source": [
    "# Работа с выборкой"
   ]
  },
  {
   "cell_type": "code",
   "execution_count": 11,
   "metadata": {
    "ExecuteTime": {
     "end_time": "2024-04-05T15:42:11.005757Z",
     "start_time": "2024-04-05T15:42:11.001777Z"
    },
    "id": "ZHQaq3RJ5lal"
   },
   "outputs": [],
   "source": [
    "data = pd.DataFrame(task['data'], columns=['f', 'C1', 'C2'])"
   ]
  },
  {
   "cell_type": "code",
   "execution_count": 13,
   "metadata": {
    "ExecuteTime": {
     "end_time": "2024-04-05T15:42:31.166220Z",
     "start_time": "2024-04-05T15:42:31.136726Z"
    }
   },
   "outputs": [
    {
     "data": {
      "text/html": [
       "<div>\n",
       "<style scoped>\n",
       "    .dataframe tbody tr th:only-of-type {\n",
       "        vertical-align: middle;\n",
       "    }\n",
       "\n",
       "    .dataframe tbody tr th {\n",
       "        vertical-align: top;\n",
       "    }\n",
       "\n",
       "    .dataframe thead th {\n",
       "        text-align: right;\n",
       "    }\n",
       "</style>\n",
       "<table border=\"1\" class=\"dataframe\">\n",
       "  <thead>\n",
       "    <tr style=\"text-align: right;\">\n",
       "      <th></th>\n",
       "      <th>df</th>\n",
       "      <th>sum_sq</th>\n",
       "      <th>mean_sq</th>\n",
       "      <th>F</th>\n",
       "      <th>PR(&gt;F)</th>\n",
       "    </tr>\n",
       "  </thead>\n",
       "  <tbody>\n",
       "    <tr>\n",
       "      <th>C(C1)</th>\n",
       "      <td>1.0</td>\n",
       "      <td>1026.429911</td>\n",
       "      <td>1026.429911</td>\n",
       "      <td>1010.802597</td>\n",
       "      <td>1.088994e-153</td>\n",
       "    </tr>\n",
       "    <tr>\n",
       "      <th>C(C2)</th>\n",
       "      <td>1.0</td>\n",
       "      <td>0.802681</td>\n",
       "      <td>0.802681</td>\n",
       "      <td>0.790461</td>\n",
       "      <td>3.741756e-01</td>\n",
       "    </tr>\n",
       "    <tr>\n",
       "      <th>C(C1):C(C2)</th>\n",
       "      <td>1.0</td>\n",
       "      <td>0.095791</td>\n",
       "      <td>0.095791</td>\n",
       "      <td>0.094333</td>\n",
       "      <td>7.588036e-01</td>\n",
       "    </tr>\n",
       "    <tr>\n",
       "      <th>Residual</th>\n",
       "      <td>996.0</td>\n",
       "      <td>1011.398461</td>\n",
       "      <td>1.015460</td>\n",
       "      <td>NaN</td>\n",
       "      <td>NaN</td>\n",
       "    </tr>\n",
       "  </tbody>\n",
       "</table>\n",
       "</div>"
      ],
      "text/plain": [
       "                df       sum_sq      mean_sq            F         PR(>F)\n",
       "C(C1)          1.0  1026.429911  1026.429911  1010.802597  1.088994e-153\n",
       "C(C2)          1.0     0.802681     0.802681     0.790461   3.741756e-01\n",
       "C(C1):C(C2)    1.0     0.095791     0.095791     0.094333   7.588036e-01\n",
       "Residual     996.0  1011.398461     1.015460          NaN            NaN"
      ]
     },
     "execution_count": 13,
     "metadata": {},
     "output_type": "execute_result"
    }
   ],
   "source": [
    "lm = ols('f ~ C(C1) * C(C2)', data=data).fit()\n",
    "table = sm.stats.anova_lm(lm, typ=1)\n",
    "table"
   ]
  },
  {
   "cell_type": "markdown",
   "metadata": {
    "id": "O5p71wQ9opPr"
   },
   "source": [
    "## Проверить с использованием двухфакторного дисперсионного анализа, влияет ли переменная C1 на переменную f в данной линейной модели?"
   ]
  },
  {
   "cell_type": "code",
   "execution_count": 30,
   "metadata": {
    "ExecuteTime": {
     "end_time": "2024-04-05T15:48:12.102354Z",
     "start_time": "2024-04-05T15:48:12.097167Z"
    },
    "id": "aeLtuYX3ooiF"
   },
   "outputs": [
    {
     "data": {
      "text/plain": [
       "True"
      ]
     },
     "execution_count": 30,
     "metadata": {},
     "output_type": "execute_result"
    }
   ],
   "source": [
    "table.loc['C(C1)', 'PR(>F)'] < 0.05"
   ]
  },
  {
   "cell_type": "markdown",
   "metadata": {
    "id": "lpAHvv8dotep"
   },
   "source": [
    "## Проверить с использованием двухфакторного дисперсионного анализа, влияет ли переменная C2 на переменную f в данной линейной модели?"
   ]
  },
  {
   "cell_type": "code",
   "execution_count": 31,
   "metadata": {
    "ExecuteTime": {
     "end_time": "2024-04-05T15:48:16.074247Z",
     "start_time": "2024-04-05T15:48:16.069504Z"
    },
    "id": "TqkkLtHgou9x"
   },
   "outputs": [
    {
     "data": {
      "text/plain": [
       "False"
      ]
     },
     "execution_count": 31,
     "metadata": {},
     "output_type": "execute_result"
    }
   ],
   "source": [
    "table.loc['C(C2)', 'PR(>F)'] < 0.05"
   ]
  },
  {
   "cell_type": "markdown",
   "metadata": {
    "id": "s3Fwto0Vov2t"
   },
   "source": [
    "## Проверить с использованием двухфакторного дисперсионного анализа, влияет ли межфакторное взаимодействие на переменную f в данной линейной модели?"
   ]
  },
  {
   "cell_type": "code",
   "execution_count": 33,
   "metadata": {
    "ExecuteTime": {
     "end_time": "2024-04-05T15:48:31.053289Z",
     "start_time": "2024-04-05T15:48:31.048820Z"
    },
    "id": "A0KMmlmyoxjq"
   },
   "outputs": [
    {
     "data": {
      "text/plain": [
       "False"
      ]
     },
     "execution_count": 33,
     "metadata": {},
     "output_type": "execute_result"
    }
   ],
   "source": [
    "table.loc['C(C1):C(C2)', 'PR(>F)'] < 0.05"
   ]
  }
 ],
 "metadata": {
  "colab": {
   "name": "sem6.ipynb",
   "provenance": []
  },
  "kernelspec": {
   "display_name": "Python 3 (ipykernel)",
   "language": "python",
   "name": "python3"
  },
  "language_info": {
   "codemirror_mode": {
    "name": "ipython",
    "version": 3
   },
   "file_extension": ".py",
   "mimetype": "text/x-python",
   "name": "python",
   "nbconvert_exporter": "python",
   "pygments_lexer": "ipython3",
   "version": "3.11.5"
  }
 },
 "nbformat": 4,
 "nbformat_minor": 1
}
