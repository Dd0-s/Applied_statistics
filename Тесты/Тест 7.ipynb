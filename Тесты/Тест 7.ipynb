{
 "cells": [
  {
   "cell_type": "markdown",
   "metadata": {
    "id": "SWpzzBKX5lab"
   },
   "source": [
    "# Библиотеки"
   ]
  },
  {
   "cell_type": "code",
   "execution_count": 2,
   "metadata": {
    "ExecuteTime": {
     "end_time": "2024-04-13T04:05:31.884652Z",
     "start_time": "2024-04-13T04:05:30.745514Z"
    },
    "id": "DVElVx3w5lag"
   },
   "outputs": [],
   "source": [
    "from zlib import crc32\n",
    "\n",
    "import numpy as np\n",
    "import pandas as pd\n",
    "import scipy.stats as st\n",
    "import re\n",
    "import statsmodels.api as sm\n",
    "from statsmodels.stats.diagnostic import het_breuschpagan\n",
    "import scipy.stats as st"
   ]
  },
  {
   "cell_type": "markdown",
   "metadata": {
    "id": "W10bESh65lah"
   },
   "source": [
    "# Код генерации выборки"
   ]
  },
  {
   "cell_type": "code",
   "execution_count": 3,
   "metadata": {
    "ExecuteTime": {
     "end_time": "2024-04-13T04:05:31.889103Z",
     "start_time": "2024-04-13T04:05:31.886210Z"
    },
    "id": "-dRusc3I5lai"
   },
   "outputs": [],
   "source": [
    "EMAIL_REGEX = re.compile(r\"[^@]+@phystech.edu\")\n",
    "\n",
    "def generate_dataset(code):\n",
    "    rs = np.random.RandomState(code)\n",
    "    tip = rs.randint(low=0, high=3)\n",
    "    if tip == 0:\n",
    "        w = [1, 1, 1, 1, 1, 0, 0, 0, 0, 0]\n",
    "    if tip == 1:\n",
    "        w= [1, 1, 1, 1, 1, 0, 0, 0, 0, 0][::-1]\n",
    "    if tip == 2:\n",
    "        w = [0]*10\n",
    "    x = rs.randn(1000, 10)\n",
    "    y = np.dot(x, w) + rs.randn(1000)*0.0001\n",
    "    y[100:] += 10*rs.randn(900)*rs.uniform(size = 900)\n",
    "    y -= np.min(y) - 0.01\n",
    "    return np.hstack([y.reshape(1000,1), x])"
   ]
  },
  {
   "cell_type": "markdown",
   "metadata": {
    "id": "LXkXPYIz5laj"
   },
   "source": [
    "# Генерация выборки для вашей почты\n",
    "\n",
    "<span style=\"color:red\">\n",
    "    ВАЖНО!\n",
    "    Почта, которую укажете ниже и почта с которой Вы отправляете домашнее задание должна совпадать!\n",
    "    В момент проверки задания алгоритм генерирует выборку на основе почты из анкеты!\n",
    "</span>\n",
    "\n",
    "Внимательно проверьте почту для которой выполняется задание!"
   ]
  },
  {
   "cell_type": "code",
   "execution_count": 4,
   "metadata": {
    "ExecuteTime": {
     "end_time": "2024-04-13T04:05:41.708785Z",
     "start_time": "2024-04-13T04:05:32.700927Z"
    },
    "id": "h8bMsPHy5laj"
   },
   "outputs": [
    {
     "name": "stdout",
     "output_type": "stream",
     "text": [
      "Enter your mail: bogdanov.ai@phystech.edu\n"
     ]
    },
    {
     "data": {
      "text/plain": [
       "{'mail': 'bogdanov.ai@phystech.edu',\n",
       " 'id': 1162440694,\n",
       " 'data': array([[18.55654613,  1.08945958,  0.32178445, ...,  2.66738059,\n",
       "         -0.45650835, -0.35949748],\n",
       "        [21.21694915, -1.39968299, -1.59509462, ..., -0.03786994,\n",
       "          1.55498625, -0.66885577],\n",
       "        [21.89284214,  0.3648031 , -0.64772248, ...,  1.80220501,\n",
       "          0.96381658, -0.06935707],\n",
       "        ...,\n",
       "        [20.50369098, -0.73637306, -0.89386267, ...,  0.60072037,\n",
       "          1.20160435,  0.23308067],\n",
       "        [19.9775419 , -0.34561843, -0.66330805, ...,  0.62327406,\n",
       "         -1.20261697,  0.37706688],\n",
       "        [12.90259693, -0.86797526,  1.52408046, ..., -0.62932746,\n",
       "          1.00534656,  0.23907955]])}"
      ]
     },
     "execution_count": 4,
     "metadata": {},
     "output_type": "execute_result"
    }
   ],
   "source": [
    "task = dict()\n",
    "task['mail'] = input(prompt='Enter your mail: ')\n",
    "assert EMAIL_REGEX.match(task['mail']), 'Not a mail in the phystech.edu domain'\n",
    "task['id'] = crc32(task['mail'].encode('utf-8'))\n",
    "task['data'] = generate_dataset(task['id'])\n",
    "\n",
    "task"
   ]
  },
  {
   "cell_type": "markdown",
   "metadata": {
    "id": "WprDKyMv5lak"
   },
   "source": [
    "# Работа с выборкой"
   ]
  },
  {
   "cell_type": "code",
   "execution_count": 5,
   "metadata": {
    "ExecuteTime": {
     "end_time": "2024-04-13T04:05:43.761687Z",
     "start_time": "2024-04-13T04:05:43.759578Z"
    },
    "id": "ZHQaq3RJ5lal"
   },
   "outputs": [],
   "source": [
    "data = task['data']"
   ]
  },
  {
   "cell_type": "markdown",
   "metadata": {
    "id": "aCkPXx6hpWTv"
   },
   "source": [
    "## Постройте линейную модель Y от X и свободного коэффициента. Проверьте, есть ли гетероскедастичность в выборке с использованием критерия Бройша-Пагана (использовать F-test, см. справку по критерию)"
   ]
  },
  {
   "cell_type": "code",
   "execution_count": 6,
   "metadata": {
    "ExecuteTime": {
     "end_time": "2024-04-13T04:05:44.122540Z",
     "start_time": "2024-04-13T04:05:44.119842Z"
    }
   },
   "outputs": [],
   "source": [
    "data = pd.DataFrame(data)\n",
    "column_names = ['Y', 'X0', 'X1', 'X2', 'X3', 'X4', 'X5', 'X6', 'X7', 'X8', 'X9']\n",
    "data.columns = column_names"
   ]
  },
  {
   "cell_type": "code",
   "execution_count": 7,
   "metadata": {
    "ExecuteTime": {
     "end_time": "2024-04-13T04:05:44.295973Z",
     "start_time": "2024-04-13T04:05:44.293929Z"
    }
   },
   "outputs": [],
   "source": [
    "X = data.drop('Y', axis=1)\n",
    "y = data['Y']"
   ]
  },
  {
   "cell_type": "code",
   "execution_count": 8,
   "metadata": {
    "ExecuteTime": {
     "end_time": "2024-04-13T04:05:44.515364Z",
     "start_time": "2024-04-13T04:05:44.471840Z"
    },
    "scrolled": false
   },
   "outputs": [
    {
     "data": {
      "text/html": [
       "<table class=\"simpletable\">\n",
       "<caption>OLS Regression Results</caption>\n",
       "<tr>\n",
       "  <th>Dep. Variable:</th>            <td>Y</td>        <th>  R-squared:         </th> <td>   0.115</td>\n",
       "</tr>\n",
       "<tr>\n",
       "  <th>Model:</th>                   <td>OLS</td>       <th>  Adj. R-squared:    </th> <td>   0.106</td>\n",
       "</tr>\n",
       "<tr>\n",
       "  <th>Method:</th>             <td>Least Squares</td>  <th>  F-statistic:       </th> <td>   12.81</td>\n",
       "</tr>\n",
       "<tr>\n",
       "  <th>Date:</th>             <td>Sat, 13 Apr 2024</td> <th>  Prob (F-statistic):</th> <td>3.30e-21</td>\n",
       "</tr>\n",
       "<tr>\n",
       "  <th>Time:</th>                 <td>07:05:44</td>     <th>  Log-Likelihood:    </th> <td> -3099.7</td>\n",
       "</tr>\n",
       "<tr>\n",
       "  <th>No. Observations:</th>      <td>  1000</td>      <th>  AIC:               </th> <td>   6221.</td>\n",
       "</tr>\n",
       "<tr>\n",
       "  <th>Df Residuals:</th>          <td>   989</td>      <th>  BIC:               </th> <td>   6275.</td>\n",
       "</tr>\n",
       "<tr>\n",
       "  <th>Df Model:</th>              <td>    10</td>      <th>                     </th>     <td> </td>   \n",
       "</tr>\n",
       "<tr>\n",
       "  <th>Covariance Type:</th>      <td>nonrobust</td>    <th>                     </th>     <td> </td>   \n",
       "</tr>\n",
       "</table>\n",
       "<table class=\"simpletable\">\n",
       "<tr>\n",
       "    <td></td>       <th>coef</th>     <th>std err</th>      <th>t</th>      <th>P>|t|</th>  <th>[0.025</th>    <th>0.975]</th>  \n",
       "</tr>\n",
       "<tr>\n",
       "  <th>const</th> <td>   18.2936</td> <td>    0.171</td> <td>  106.829</td> <td> 0.000</td> <td>   17.958</td> <td>   18.630</td>\n",
       "</tr>\n",
       "<tr>\n",
       "  <th>X0</th>    <td>   -0.2582</td> <td>    0.173</td> <td>   -1.491</td> <td> 0.136</td> <td>   -0.598</td> <td>    0.082</td>\n",
       "</tr>\n",
       "<tr>\n",
       "  <th>X1</th>    <td>   -0.0165</td> <td>    0.168</td> <td>   -0.098</td> <td> 0.922</td> <td>   -0.347</td> <td>    0.314</td>\n",
       "</tr>\n",
       "<tr>\n",
       "  <th>X2</th>    <td>    0.0946</td> <td>    0.171</td> <td>    0.551</td> <td> 0.581</td> <td>   -0.242</td> <td>    0.431</td>\n",
       "</tr>\n",
       "<tr>\n",
       "  <th>X3</th>    <td>   -0.1605</td> <td>    0.174</td> <td>   -0.922</td> <td> 0.357</td> <td>   -0.502</td> <td>    0.181</td>\n",
       "</tr>\n",
       "<tr>\n",
       "  <th>X4</th>    <td>   -0.2017</td> <td>    0.177</td> <td>   -1.141</td> <td> 0.254</td> <td>   -0.548</td> <td>    0.145</td>\n",
       "</tr>\n",
       "<tr>\n",
       "  <th>X5</th>    <td>    0.8524</td> <td>    0.171</td> <td>    4.994</td> <td> 0.000</td> <td>    0.517</td> <td>    1.187</td>\n",
       "</tr>\n",
       "<tr>\n",
       "  <th>X6</th>    <td>    0.8922</td> <td>    0.172</td> <td>    5.191</td> <td> 0.000</td> <td>    0.555</td> <td>    1.230</td>\n",
       "</tr>\n",
       "<tr>\n",
       "  <th>X7</th>    <td>    0.7475</td> <td>    0.165</td> <td>    4.527</td> <td> 0.000</td> <td>    0.423</td> <td>    1.072</td>\n",
       "</tr>\n",
       "<tr>\n",
       "  <th>X8</th>    <td>    0.9053</td> <td>    0.169</td> <td>    5.356</td> <td> 0.000</td> <td>    0.574</td> <td>    1.237</td>\n",
       "</tr>\n",
       "<tr>\n",
       "  <th>X9</th>    <td>    0.8212</td> <td>    0.180</td> <td>    4.567</td> <td> 0.000</td> <td>    0.468</td> <td>    1.174</td>\n",
       "</tr>\n",
       "</table>\n",
       "<table class=\"simpletable\">\n",
       "<tr>\n",
       "  <th>Omnibus:</th>       <td>90.244</td> <th>  Durbin-Watson:     </th> <td>   1.957</td>\n",
       "</tr>\n",
       "<tr>\n",
       "  <th>Prob(Omnibus):</th> <td> 0.000</td> <th>  Jarque-Bera (JB):  </th> <td> 300.470</td>\n",
       "</tr>\n",
       "<tr>\n",
       "  <th>Skew:</th>          <td> 0.403</td> <th>  Prob(JB):          </th> <td>5.67e-66</td>\n",
       "</tr>\n",
       "<tr>\n",
       "  <th>Kurtosis:</th>      <td> 5.561</td> <th>  Cond. No.          </th> <td>    1.19</td>\n",
       "</tr>\n",
       "</table><br/><br/>Notes:<br/>[1] Standard Errors assume that the covariance matrix of the errors is correctly specified."
      ],
      "text/latex": [
       "\\begin{center}\n",
       "\\begin{tabular}{lclc}\n",
       "\\toprule\n",
       "\\textbf{Dep. Variable:}    &        Y         & \\textbf{  R-squared:         } &     0.115   \\\\\n",
       "\\textbf{Model:}            &       OLS        & \\textbf{  Adj. R-squared:    } &     0.106   \\\\\n",
       "\\textbf{Method:}           &  Least Squares   & \\textbf{  F-statistic:       } &     12.81   \\\\\n",
       "\\textbf{Date:}             & Sat, 13 Apr 2024 & \\textbf{  Prob (F-statistic):} &  3.30e-21   \\\\\n",
       "\\textbf{Time:}             &     07:05:44     & \\textbf{  Log-Likelihood:    } &   -3099.7   \\\\\n",
       "\\textbf{No. Observations:} &        1000      & \\textbf{  AIC:               } &     6221.   \\\\\n",
       "\\textbf{Df Residuals:}     &         989      & \\textbf{  BIC:               } &     6275.   \\\\\n",
       "\\textbf{Df Model:}         &          10      & \\textbf{                     } &             \\\\\n",
       "\\textbf{Covariance Type:}  &    nonrobust     & \\textbf{                     } &             \\\\\n",
       "\\bottomrule\n",
       "\\end{tabular}\n",
       "\\begin{tabular}{lcccccc}\n",
       "               & \\textbf{coef} & \\textbf{std err} & \\textbf{t} & \\textbf{P$> |$t$|$} & \\textbf{[0.025} & \\textbf{0.975]}  \\\\\n",
       "\\midrule\n",
       "\\textbf{const} &      18.2936  &        0.171     &   106.829  &         0.000        &       17.958    &       18.630     \\\\\n",
       "\\textbf{X0}    &      -0.2582  &        0.173     &    -1.491  &         0.136        &       -0.598    &        0.082     \\\\\n",
       "\\textbf{X1}    &      -0.0165  &        0.168     &    -0.098  &         0.922        &       -0.347    &        0.314     \\\\\n",
       "\\textbf{X2}    &       0.0946  &        0.171     &     0.551  &         0.581        &       -0.242    &        0.431     \\\\\n",
       "\\textbf{X3}    &      -0.1605  &        0.174     &    -0.922  &         0.357        &       -0.502    &        0.181     \\\\\n",
       "\\textbf{X4}    &      -0.2017  &        0.177     &    -1.141  &         0.254        &       -0.548    &        0.145     \\\\\n",
       "\\textbf{X5}    &       0.8524  &        0.171     &     4.994  &         0.000        &        0.517    &        1.187     \\\\\n",
       "\\textbf{X6}    &       0.8922  &        0.172     &     5.191  &         0.000        &        0.555    &        1.230     \\\\\n",
       "\\textbf{X7}    &       0.7475  &        0.165     &     4.527  &         0.000        &        0.423    &        1.072     \\\\\n",
       "\\textbf{X8}    &       0.9053  &        0.169     &     5.356  &         0.000        &        0.574    &        1.237     \\\\\n",
       "\\textbf{X9}    &       0.8212  &        0.180     &     4.567  &         0.000        &        0.468    &        1.174     \\\\\n",
       "\\bottomrule\n",
       "\\end{tabular}\n",
       "\\begin{tabular}{lclc}\n",
       "\\textbf{Omnibus:}       & 90.244 & \\textbf{  Durbin-Watson:     } &    1.957  \\\\\n",
       "\\textbf{Prob(Omnibus):} &  0.000 & \\textbf{  Jarque-Bera (JB):  } &  300.470  \\\\\n",
       "\\textbf{Skew:}          &  0.403 & \\textbf{  Prob(JB):          } & 5.67e-66  \\\\\n",
       "\\textbf{Kurtosis:}      &  5.561 & \\textbf{  Cond. No.          } &     1.19  \\\\\n",
       "\\bottomrule\n",
       "\\end{tabular}\n",
       "%\\caption{OLS Regression Results}\n",
       "\\end{center}\n",
       "\n",
       "Notes: \\newline\n",
       " [1] Standard Errors assume that the covariance matrix of the errors is correctly specified."
      ],
      "text/plain": [
       "<class 'statsmodels.iolib.summary.Summary'>\n",
       "\"\"\"\n",
       "                            OLS Regression Results                            \n",
       "==============================================================================\n",
       "Dep. Variable:                      Y   R-squared:                       0.115\n",
       "Model:                            OLS   Adj. R-squared:                  0.106\n",
       "Method:                 Least Squares   F-statistic:                     12.81\n",
       "Date:                Sat, 13 Apr 2024   Prob (F-statistic):           3.30e-21\n",
       "Time:                        07:05:44   Log-Likelihood:                -3099.7\n",
       "No. Observations:                1000   AIC:                             6221.\n",
       "Df Residuals:                     989   BIC:                             6275.\n",
       "Df Model:                          10                                         \n",
       "Covariance Type:            nonrobust                                         \n",
       "==============================================================================\n",
       "                 coef    std err          t      P>|t|      [0.025      0.975]\n",
       "------------------------------------------------------------------------------\n",
       "const         18.2936      0.171    106.829      0.000      17.958      18.630\n",
       "X0            -0.2582      0.173     -1.491      0.136      -0.598       0.082\n",
       "X1            -0.0165      0.168     -0.098      0.922      -0.347       0.314\n",
       "X2             0.0946      0.171      0.551      0.581      -0.242       0.431\n",
       "X3            -0.1605      0.174     -0.922      0.357      -0.502       0.181\n",
       "X4            -0.2017      0.177     -1.141      0.254      -0.548       0.145\n",
       "X5             0.8524      0.171      4.994      0.000       0.517       1.187\n",
       "X6             0.8922      0.172      5.191      0.000       0.555       1.230\n",
       "X7             0.7475      0.165      4.527      0.000       0.423       1.072\n",
       "X8             0.9053      0.169      5.356      0.000       0.574       1.237\n",
       "X9             0.8212      0.180      4.567      0.000       0.468       1.174\n",
       "==============================================================================\n",
       "Omnibus:                       90.244   Durbin-Watson:                   1.957\n",
       "Prob(Omnibus):                  0.000   Jarque-Bera (JB):              300.470\n",
       "Skew:                           0.403   Prob(JB):                     5.67e-66\n",
       "Kurtosis:                       5.561   Cond. No.                         1.19\n",
       "==============================================================================\n",
       "\n",
       "Notes:\n",
       "[1] Standard Errors assume that the covariance matrix of the errors is correctly specified.\n",
       "\"\"\""
      ]
     },
     "execution_count": 8,
     "metadata": {},
     "output_type": "execute_result"
    }
   ],
   "source": [
    "model = sm.OLS(endog=y, exog=sm.add_constant(X)).fit()\n",
    "model.summary()"
   ]
  },
  {
   "cell_type": "code",
   "execution_count": 9,
   "metadata": {
    "ExecuteTime": {
     "end_time": "2024-04-13T04:05:44.641394Z",
     "start_time": "2024-04-13T04:05:44.637041Z"
    }
   },
   "outputs": [],
   "source": [
    "new_X = X\n",
    "new_X['Bias'] = 1"
   ]
  },
  {
   "cell_type": "code",
   "execution_count": 10,
   "metadata": {
    "ExecuteTime": {
     "end_time": "2024-04-13T04:05:44.876360Z",
     "start_time": "2024-04-13T04:05:44.796654Z"
    }
   },
   "outputs": [
    {
     "data": {
      "text/plain": [
       "True"
      ]
     },
     "execution_count": 10,
     "metadata": {},
     "output_type": "execute_result"
    }
   ],
   "source": [
    "het_breuschpagan(model.resid, new_X)[3] >= 0.05"
   ]
  },
  {
   "cell_type": "markdown",
   "metadata": {
    "id": "jHP6uX88pbPP"
   },
   "source": [
    "## Оптимальное значение lambda для преобразования Бокса-Кокса на переменную Y (использовать scipy.stats)"
   ]
  },
  {
   "cell_type": "code",
   "execution_count": 11,
   "metadata": {
    "ExecuteTime": {
     "end_time": "2024-04-13T04:05:45.130836Z",
     "start_time": "2024-04-13T04:05:45.126470Z"
    },
    "id": "8UfF7UwCpdQ2"
   },
   "outputs": [
    {
     "name": "stdout",
     "output_type": "stream",
     "text": [
      "Оптимальная lambda = 0.883\n"
     ]
    }
   ],
   "source": [
    "_, l = st.boxcox(y)\n",
    "print(f'Оптимальная lambda = {l.round(3)}')"
   ]
  },
  {
   "cell_type": "markdown",
   "metadata": {
    "id": "7Nf62g2ppdjI"
   },
   "source": [
    "## Постройте линейную модель Y от X и свободного коэффициента для первых 100 элементов выборки. Сколько переменных являются избыточными согласно t-критерию? Поправку на множественность гипотез проигнорировать"
   ]
  },
  {
   "cell_type": "code",
   "execution_count": 12,
   "metadata": {
    "ExecuteTime": {
     "end_time": "2024-04-13T04:05:45.477498Z",
     "start_time": "2024-04-13T04:05:45.450080Z"
    },
    "id": "Pe7Qr0p9pf5F"
   },
   "outputs": [
    {
     "data": {
      "text/html": [
       "<table class=\"simpletable\">\n",
       "<caption>OLS Regression Results</caption>\n",
       "<tr>\n",
       "  <th>Dep. Variable:</th>            <td>Y</td>        <th>  R-squared:         </th> <td>   1.000</td> \n",
       "</tr>\n",
       "<tr>\n",
       "  <th>Model:</th>                   <td>OLS</td>       <th>  Adj. R-squared:    </th> <td>   1.000</td> \n",
       "</tr>\n",
       "<tr>\n",
       "  <th>Method:</th>             <td>Least Squares</td>  <th>  F-statistic:       </th> <td>4.812e+09</td>\n",
       "</tr>\n",
       "<tr>\n",
       "  <th>Date:</th>             <td>Sat, 13 Apr 2024</td> <th>  Prob (F-statistic):</th>  <td>  0.00</td>  \n",
       "</tr>\n",
       "<tr>\n",
       "  <th>Time:</th>                 <td>07:05:45</td>     <th>  Log-Likelihood:    </th> <td>  786.38</td> \n",
       "</tr>\n",
       "<tr>\n",
       "  <th>No. Observations:</th>      <td>   100</td>      <th>  AIC:               </th> <td>  -1551.</td> \n",
       "</tr>\n",
       "<tr>\n",
       "  <th>Df Residuals:</th>          <td>    89</td>      <th>  BIC:               </th> <td>  -1522.</td> \n",
       "</tr>\n",
       "<tr>\n",
       "  <th>Df Model:</th>              <td>    10</td>      <th>                     </th>     <td> </td>    \n",
       "</tr>\n",
       "<tr>\n",
       "  <th>Covariance Type:</th>      <td>nonrobust</td>    <th>                     </th>     <td> </td>    \n",
       "</tr>\n",
       "</table>\n",
       "<table class=\"simpletable\">\n",
       "<tr>\n",
       "    <td></td>      <th>coef</th>     <th>std err</th>      <th>t</th>      <th>P>|t|</th>  <th>[0.025</th>    <th>0.975]</th>  \n",
       "</tr>\n",
       "<tr>\n",
       "  <th>X0</th>   <td>-7.746e-06</td> <td>  9.4e-06</td> <td>   -0.824</td> <td> 0.412</td> <td>-2.64e-05</td> <td> 1.09e-05</td>\n",
       "</tr>\n",
       "<tr>\n",
       "  <th>X1</th>   <td>-1.715e-05</td> <td> 9.29e-06</td> <td>   -1.846</td> <td> 0.068</td> <td>-3.56e-05</td> <td> 1.31e-06</td>\n",
       "</tr>\n",
       "<tr>\n",
       "  <th>X2</th>   <td> 5.147e-06</td> <td>    1e-05</td> <td>    0.514</td> <td> 0.608</td> <td>-1.47e-05</td> <td>  2.5e-05</td>\n",
       "</tr>\n",
       "<tr>\n",
       "  <th>X3</th>   <td>-4.285e-06</td> <td> 1.28e-05</td> <td>   -0.336</td> <td> 0.738</td> <td>-2.97e-05</td> <td> 2.11e-05</td>\n",
       "</tr>\n",
       "<tr>\n",
       "  <th>X4</th>   <td> 1.485e-05</td> <td> 1.31e-05</td> <td>    1.133</td> <td> 0.260</td> <td>-1.12e-05</td> <td> 4.09e-05</td>\n",
       "</tr>\n",
       "<tr>\n",
       "  <th>X5</th>   <td>    1.0000</td> <td> 9.72e-06</td> <td> 1.03e+05</td> <td> 0.000</td> <td>    1.000</td> <td>    1.000</td>\n",
       "</tr>\n",
       "<tr>\n",
       "  <th>X6</th>   <td>    1.0000</td> <td> 1.07e-05</td> <td> 9.39e+04</td> <td> 0.000</td> <td>    1.000</td> <td>    1.000</td>\n",
       "</tr>\n",
       "<tr>\n",
       "  <th>X7</th>   <td>    1.0000</td> <td> 9.88e-06</td> <td> 1.01e+05</td> <td> 0.000</td> <td>    1.000</td> <td>    1.000</td>\n",
       "</tr>\n",
       "<tr>\n",
       "  <th>X8</th>   <td>    1.0000</td> <td> 9.99e-06</td> <td>    1e+05</td> <td> 0.000</td> <td>    1.000</td> <td>    1.000</td>\n",
       "</tr>\n",
       "<tr>\n",
       "  <th>X9</th>   <td>    1.0000</td> <td> 1.12e-05</td> <td> 8.89e+04</td> <td> 0.000</td> <td>    1.000</td> <td>    1.000</td>\n",
       "</tr>\n",
       "<tr>\n",
       "  <th>Bias</th> <td>   18.0253</td> <td> 1.01e-05</td> <td> 1.78e+06</td> <td> 0.000</td> <td>   18.025</td> <td>   18.025</td>\n",
       "</tr>\n",
       "</table>\n",
       "<table class=\"simpletable\">\n",
       "<tr>\n",
       "  <th>Omnibus:</th>       <td> 2.332</td> <th>  Durbin-Watson:     </th> <td>   1.938</td>\n",
       "</tr>\n",
       "<tr>\n",
       "  <th>Prob(Omnibus):</th> <td> 0.312</td> <th>  Jarque-Bera (JB):  </th> <td>   1.879</td>\n",
       "</tr>\n",
       "<tr>\n",
       "  <th>Skew:</th>          <td>-0.328</td> <th>  Prob(JB):          </th> <td>   0.391</td>\n",
       "</tr>\n",
       "<tr>\n",
       "  <th>Kurtosis:</th>      <td> 3.142</td> <th>  Cond. No.          </th> <td>    1.89</td>\n",
       "</tr>\n",
       "</table><br/><br/>Notes:<br/>[1] Standard Errors assume that the covariance matrix of the errors is correctly specified."
      ],
      "text/latex": [
       "\\begin{center}\n",
       "\\begin{tabular}{lclc}\n",
       "\\toprule\n",
       "\\textbf{Dep. Variable:}    &        Y         & \\textbf{  R-squared:         } &     1.000   \\\\\n",
       "\\textbf{Model:}            &       OLS        & \\textbf{  Adj. R-squared:    } &     1.000   \\\\\n",
       "\\textbf{Method:}           &  Least Squares   & \\textbf{  F-statistic:       } & 4.812e+09   \\\\\n",
       "\\textbf{Date:}             & Sat, 13 Apr 2024 & \\textbf{  Prob (F-statistic):} &     0.00    \\\\\n",
       "\\textbf{Time:}             &     07:05:45     & \\textbf{  Log-Likelihood:    } &    786.38   \\\\\n",
       "\\textbf{No. Observations:} &         100      & \\textbf{  AIC:               } &    -1551.   \\\\\n",
       "\\textbf{Df Residuals:}     &          89      & \\textbf{  BIC:               } &    -1522.   \\\\\n",
       "\\textbf{Df Model:}         &          10      & \\textbf{                     } &             \\\\\n",
       "\\textbf{Covariance Type:}  &    nonrobust     & \\textbf{                     } &             \\\\\n",
       "\\bottomrule\n",
       "\\end{tabular}\n",
       "\\begin{tabular}{lcccccc}\n",
       "              & \\textbf{coef} & \\textbf{std err} & \\textbf{t} & \\textbf{P$> |$t$|$} & \\textbf{[0.025} & \\textbf{0.975]}  \\\\\n",
       "\\midrule\n",
       "\\textbf{X0}   &   -7.746e-06  &      9.4e-06     &    -0.824  &         0.412        &    -2.64e-05    &     1.09e-05     \\\\\n",
       "\\textbf{X1}   &   -1.715e-05  &     9.29e-06     &    -1.846  &         0.068        &    -3.56e-05    &     1.31e-06     \\\\\n",
       "\\textbf{X2}   &    5.147e-06  &        1e-05     &     0.514  &         0.608        &    -1.47e-05    &      2.5e-05     \\\\\n",
       "\\textbf{X3}   &   -4.285e-06  &     1.28e-05     &    -0.336  &         0.738        &    -2.97e-05    &     2.11e-05     \\\\\n",
       "\\textbf{X4}   &    1.485e-05  &     1.31e-05     &     1.133  &         0.260        &    -1.12e-05    &     4.09e-05     \\\\\n",
       "\\textbf{X5}   &       1.0000  &     9.72e-06     &  1.03e+05  &         0.000        &        1.000    &        1.000     \\\\\n",
       "\\textbf{X6}   &       1.0000  &     1.07e-05     &  9.39e+04  &         0.000        &        1.000    &        1.000     \\\\\n",
       "\\textbf{X7}   &       1.0000  &     9.88e-06     &  1.01e+05  &         0.000        &        1.000    &        1.000     \\\\\n",
       "\\textbf{X8}   &       1.0000  &     9.99e-06     &     1e+05  &         0.000        &        1.000    &        1.000     \\\\\n",
       "\\textbf{X9}   &       1.0000  &     1.12e-05     &  8.89e+04  &         0.000        &        1.000    &        1.000     \\\\\n",
       "\\textbf{Bias} &      18.0253  &     1.01e-05     &  1.78e+06  &         0.000        &       18.025    &       18.025     \\\\\n",
       "\\bottomrule\n",
       "\\end{tabular}\n",
       "\\begin{tabular}{lclc}\n",
       "\\textbf{Omnibus:}       &  2.332 & \\textbf{  Durbin-Watson:     } &    1.938  \\\\\n",
       "\\textbf{Prob(Omnibus):} &  0.312 & \\textbf{  Jarque-Bera (JB):  } &    1.879  \\\\\n",
       "\\textbf{Skew:}          & -0.328 & \\textbf{  Prob(JB):          } &    0.391  \\\\\n",
       "\\textbf{Kurtosis:}      &  3.142 & \\textbf{  Cond. No.          } &     1.89  \\\\\n",
       "\\bottomrule\n",
       "\\end{tabular}\n",
       "%\\caption{OLS Regression Results}\n",
       "\\end{center}\n",
       "\n",
       "Notes: \\newline\n",
       " [1] Standard Errors assume that the covariance matrix of the errors is correctly specified."
      ],
      "text/plain": [
       "<class 'statsmodels.iolib.summary.Summary'>\n",
       "\"\"\"\n",
       "                            OLS Regression Results                            \n",
       "==============================================================================\n",
       "Dep. Variable:                      Y   R-squared:                       1.000\n",
       "Model:                            OLS   Adj. R-squared:                  1.000\n",
       "Method:                 Least Squares   F-statistic:                 4.812e+09\n",
       "Date:                Sat, 13 Apr 2024   Prob (F-statistic):               0.00\n",
       "Time:                        07:05:45   Log-Likelihood:                 786.38\n",
       "No. Observations:                 100   AIC:                            -1551.\n",
       "Df Residuals:                      89   BIC:                            -1522.\n",
       "Df Model:                          10                                         \n",
       "Covariance Type:            nonrobust                                         \n",
       "==============================================================================\n",
       "                 coef    std err          t      P>|t|      [0.025      0.975]\n",
       "------------------------------------------------------------------------------\n",
       "X0         -7.746e-06    9.4e-06     -0.824      0.412   -2.64e-05    1.09e-05\n",
       "X1         -1.715e-05   9.29e-06     -1.846      0.068   -3.56e-05    1.31e-06\n",
       "X2          5.147e-06      1e-05      0.514      0.608   -1.47e-05     2.5e-05\n",
       "X3         -4.285e-06   1.28e-05     -0.336      0.738   -2.97e-05    2.11e-05\n",
       "X4          1.485e-05   1.31e-05      1.133      0.260   -1.12e-05    4.09e-05\n",
       "X5             1.0000   9.72e-06   1.03e+05      0.000       1.000       1.000\n",
       "X6             1.0000   1.07e-05   9.39e+04      0.000       1.000       1.000\n",
       "X7             1.0000   9.88e-06   1.01e+05      0.000       1.000       1.000\n",
       "X8             1.0000   9.99e-06      1e+05      0.000       1.000       1.000\n",
       "X9             1.0000   1.12e-05   8.89e+04      0.000       1.000       1.000\n",
       "Bias          18.0253   1.01e-05   1.78e+06      0.000      18.025      18.025\n",
       "==============================================================================\n",
       "Omnibus:                        2.332   Durbin-Watson:                   1.938\n",
       "Prob(Omnibus):                  0.312   Jarque-Bera (JB):                1.879\n",
       "Skew:                          -0.328   Prob(JB):                        0.391\n",
       "Kurtosis:                       3.142   Cond. No.                         1.89\n",
       "==============================================================================\n",
       "\n",
       "Notes:\n",
       "[1] Standard Errors assume that the covariance matrix of the errors is correctly specified.\n",
       "\"\"\""
      ]
     },
     "execution_count": 12,
     "metadata": {},
     "output_type": "execute_result"
    }
   ],
   "source": [
    "model100 = sm.OLS(endog=y[:100], exog=sm.add_constant(X[:100])).fit()\n",
    "model100.summary()"
   ]
  },
  {
   "cell_type": "code",
   "execution_count": 13,
   "metadata": {
    "ExecuteTime": {
     "end_time": "2024-04-13T04:05:45.635639Z",
     "start_time": "2024-04-13T04:05:45.630032Z"
    }
   },
   "outputs": [
    {
     "name": "stdout",
     "output_type": "stream",
     "text": [
      "Количество избыточных переменных = 5\n"
     ]
    }
   ],
   "source": [
    "print(f'Количество избыточных переменных = {len(model100.pvalues[model100.pvalues >= 0.05])}')"
   ]
  },
  {
   "cell_type": "markdown",
   "metadata": {
    "id": "m0VLMhIZ68Hz"
   },
   "source": [
    "## Имеет ли смысл данная модель согласно F-критерию?"
   ]
  },
  {
   "cell_type": "code",
   "execution_count": 17,
   "metadata": {
    "ExecuteTime": {
     "end_time": "2024-04-13T04:06:43.624179Z",
     "start_time": "2024-04-13T04:06:43.621144Z"
    },
    "id": "VPUuc7KD6-Uy"
   },
   "outputs": [
    {
     "name": "stdout",
     "output_type": "stream",
     "text": [
      "True\n"
     ]
    }
   ],
   "source": [
    "model100.f_test('X0 = X1 = X2 = X3 = X4 = X5 = X6 = X7 = X8 = X9 = 0')\n",
    "print(model100.f_pvalue < 0.05)"
   ]
  },
  {
   "cell_type": "markdown",
   "metadata": {
    "id": "BjuPLUcz6-_6"
   },
   "source": [
    "## Можно ли обнулить первые четыре переменные согласно критерию Вальда?"
   ]
  },
  {
   "cell_type": "code",
   "execution_count": 18,
   "metadata": {
    "ExecuteTime": {
     "end_time": "2024-04-13T04:07:19.179633Z",
     "start_time": "2024-04-13T04:07:19.176881Z"
    },
    "id": "HWlMQ90K7A4G"
   },
   "outputs": [
    {
     "name": "stdout",
     "output_type": "stream",
     "text": [
      "False\n"
     ]
    }
   ],
   "source": [
    "model100.wald_test('X0 = X1 = X2 = X3 = 0', scalar=False)\n",
    "print(model100.f_pvalue >= 0.05)"
   ]
  }
 ],
 "metadata": {
  "colab": {
   "name": "sem7.ipynb",
   "provenance": []
  },
  "kernelspec": {
   "display_name": "Python 3 (ipykernel)",
   "language": "python",
   "name": "python3"
  },
  "language_info": {
   "codemirror_mode": {
    "name": "ipython",
    "version": 3
   },
   "file_extension": ".py",
   "mimetype": "text/x-python",
   "name": "python",
   "nbconvert_exporter": "python",
   "pygments_lexer": "ipython3",
   "version": "3.11.5"
  }
 },
 "nbformat": 4,
 "nbformat_minor": 1
}
