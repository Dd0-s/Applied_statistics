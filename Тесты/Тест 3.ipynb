{
 "cells": [
  {
   "cell_type": "markdown",
   "metadata": {
    "id": "DpKLwddZA1Ms"
   },
   "source": [
    "# Библиотеки"
   ]
  },
  {
   "cell_type": "code",
   "execution_count": 48,
   "metadata": {
    "ExecuteTime": {
     "end_time": "2024-03-15T00:11:01.723189Z",
     "start_time": "2024-03-15T00:11:01.718472Z"
    },
    "id": "zGGrCqC9A1M2",
    "scrolled": false
   },
   "outputs": [],
   "source": [
    "from zlib import crc32\n",
    "\n",
    "import numpy as np\n",
    "import pandas as pd\n",
    "import scipy.stats as st\n",
    "import re\n",
    "import math\n",
    "from statsmodels.stats.descriptivestats import sign_test\n",
    "from arch.bootstrap import IIDBootstrap\n",
    "import itertools"
   ]
  },
  {
   "cell_type": "markdown",
   "metadata": {
    "id": "_Q32mOxcA1M4"
   },
   "source": [
    "# Код генерации выборки"
   ]
  },
  {
   "cell_type": "code",
   "execution_count": 2,
   "metadata": {
    "ExecuteTime": {
     "end_time": "2024-03-14T23:41:06.327797Z",
     "start_time": "2024-03-14T23:41:06.318170Z"
    },
    "id": "TNKY5YR6A1M5"
   },
   "outputs": [],
   "source": [
    "EMAIL_REGEX = re.compile(r\"[^@]+@phystech.edu\")\n",
    "\n",
    "def generate_dataset(code):\n",
    "    rs = np.random.RandomState(code%(2**32-1))\n",
    "    ars = np.random.RandomState(code%(2**16-1))\n",
    "    if rs.randint(low=0, high=2) == 0:\n",
    "        while True:\n",
    "            data = rs.randn(20)\n",
    "            if st.shapiro(data)[1] > 0.2 or ars.binomial(100, 0.05) > 10:\n",
    "                break\n",
    "    else:\n",
    "        while True:\n",
    "            data = np.concatenate([rs.randn(6) - 2, rs.randn(6) + 2])\n",
    "            if st.shapiro(data)[1] < 0.01 or ars.binomial(100, 0.05) > 10:\n",
    "                break\n",
    "    return data"
   ]
  },
  {
   "cell_type": "markdown",
   "metadata": {
    "id": "hI1IRUEhA1M5"
   },
   "source": [
    "# Генерация выборки для вашей почты\n",
    "\n",
    "<span style=\"color:red\">\n",
    "    ВАЖНО!\n",
    "    Почта, которую укажете ниже и почта с которой Вы отправляете домашнее задание должна совпадать!\n",
    "    В момент проверки задания алгоритм генерирует выборку на основе почты из анкеты!\n",
    "</span>\n",
    "\n",
    "Внимательно проверьте почту для которой выполняется задание!"
   ]
  },
  {
   "cell_type": "code",
   "execution_count": 3,
   "metadata": {
    "ExecuteTime": {
     "end_time": "2024-03-14T23:41:26.566156Z",
     "start_time": "2024-03-14T23:41:11.167428Z"
    },
    "id": "SL8h0MdxA1M6"
   },
   "outputs": [
    {
     "name": "stdout",
     "output_type": "stream",
     "text": [
      "Enter your mail: bogdanov.ai@phystech.edu\n"
     ]
    },
    {
     "data": {
      "text/plain": [
       "{'mail': 'bogdanov.ai@phystech.edu',\n",
       " 'id': 1162440694,\n",
       " 'data': array([-2.30553324, -2.56678427, -1.30157427, -0.90646724, -1.77345706,\n",
       "        -0.73034251,  2.59815099,  2.28058966,  1.13836052,  0.66810466,\n",
       "         3.20580377,  1.23182388])}"
      ]
     },
     "execution_count": 3,
     "metadata": {},
     "output_type": "execute_result"
    }
   ],
   "source": [
    "task = dict()\n",
    "task['mail'] = input(prompt='Enter your mail: ')\n",
    "assert EMAIL_REGEX.match(task['mail']), 'Not a mail in the phystech.edu domain'\n",
    "task['id'] = crc32(task['mail'].encode('utf-8'))\n",
    "task['data'] = generate_dataset(task['id'])\n",
    "\n",
    "task"
   ]
  },
  {
   "cell_type": "markdown",
   "metadata": {
    "id": "DSOAYM-EA1M7"
   },
   "source": [
    "# Работа с выборкой"
   ]
  },
  {
   "cell_type": "code",
   "execution_count": 26,
   "metadata": {
    "ExecuteTime": {
     "end_time": "2024-03-15T00:02:54.512471Z",
     "start_time": "2024-03-15T00:02:54.510084Z"
    },
    "id": "I7QGVouLA1M7"
   },
   "outputs": [],
   "source": [
    "data = task['data']"
   ]
  },
  {
   "cell_type": "markdown",
   "metadata": {
    "id": "-S0HB7RlA6ZZ"
   },
   "source": [
    "## Применим ли t-критерий для проверки равенства среднего нулю для данной выборки?"
   ]
  },
  {
   "cell_type": "code",
   "execution_count": 27,
   "metadata": {
    "ExecuteTime": {
     "end_time": "2024-03-15T00:02:54.935519Z",
     "start_time": "2024-03-15T00:02:54.929562Z"
    }
   },
   "outputs": [
    {
     "name": "stdout",
     "output_type": "stream",
     "text": [
      "True\n"
     ]
    }
   ],
   "source": [
    "if st.shapiro(data).pvalue < 0.05:\n",
    "    print(False)\n",
    "else:\n",
    "    print(True)"
   ]
  },
  {
   "cell_type": "markdown",
   "metadata": {
    "id": "ATkzUqWWA-U9"
   },
   "source": [
    "## p-value для критерия Уилкоксона (m0=0)"
   ]
  },
  {
   "cell_type": "code",
   "execution_count": 28,
   "metadata": {
    "ExecuteTime": {
     "end_time": "2024-03-15T00:02:55.671738Z",
     "start_time": "2024-03-15T00:02:55.664406Z"
    },
    "id": "BD5NteRJBf_f"
   },
   "outputs": [
    {
     "data": {
      "text/plain": [
       "0.90966796875"
      ]
     },
     "execution_count": 28,
     "metadata": {},
     "output_type": "execute_result"
    }
   ],
   "source": [
    "st.wilcoxon(data).pvalue"
   ]
  },
  {
   "cell_type": "markdown",
   "metadata": {
    "id": "KDWQSU7qBg6d"
   },
   "source": [
    "## p-value для критерия знаков (m0=0)"
   ]
  },
  {
   "cell_type": "code",
   "execution_count": 63,
   "metadata": {
    "ExecuteTime": {
     "end_time": "2024-03-15T00:18:31.239827Z",
     "start_time": "2024-03-15T00:18:31.234549Z"
    },
    "id": "u937hjs1Biid"
   },
   "outputs": [
    {
     "name": "stdout",
     "output_type": "stream",
     "text": [
      "1.0\n"
     ]
    }
   ],
   "source": [
    "_, pvalue = sign_test(data)\n",
    "print(pvalue)"
   ]
  },
  {
   "cell_type": "markdown",
   "metadata": {
    "id": "UlrCifVqBjcU"
   },
   "source": [
    "## Рассмотрим перестановочный критерий для среднего. Сколько перестановок возможно для данной выборки?"
   ]
  },
  {
   "cell_type": "code",
   "execution_count": 66,
   "metadata": {
    "ExecuteTime": {
     "end_time": "2024-03-15T14:38:27.557601Z",
     "start_time": "2024-03-15T14:38:27.552234Z"
    }
   },
   "outputs": [
    {
     "data": {
      "text/plain": [
       "4096"
      ]
     },
     "execution_count": 66,
     "metadata": {},
     "output_type": "execute_result"
    }
   ],
   "source": [
    "len(list(itertools.product([-1, 1], repeat=len(data))))"
   ]
  },
  {
   "cell_type": "markdown",
   "metadata": {
    "id": "ppGrXDhxBmGy"
   },
   "source": [
    "## Рассмотрим перестановочный критерий для проверки среднего (m0=0.5). Для какого количества перестановок статистика T будет иметь значение меньшее или равное статистике для оригинальной выборки?"
   ]
  },
  {
   "cell_type": "code",
   "execution_count": 61,
   "metadata": {
    "ExecuteTime": {
     "end_time": "2024-03-15T00:16:39.306861Z",
     "start_time": "2024-03-15T00:16:39.282024Z"
    },
    "id": "APA7DEUCBnzF"
   },
   "outputs": [
    {
     "name": "stdout",
     "output_type": "stream",
     "text": [
      "1065\n"
     ]
    }
   ],
   "source": [
    "t = (data - 0.5)\n",
    "T = np.sum(t)\n",
    "\n",
    "count = 0\n",
    "for v in itertools.product([-1, 1], repeat=len(data)):\n",
    "    if np.dot(t, v)<=T:\n",
    "        count+=1\n",
    "    \n",
    "print(good)"
   ]
  },
  {
   "cell_type": "markdown",
   "metadata": {
    "id": "xVpc9D5BBpSR"
   },
   "source": [
    "## Левая граница доверительного интервала для среднего выборки"
   ]
  },
  {
   "cell_type": "code",
   "execution_count": 43,
   "metadata": {
    "ExecuteTime": {
     "end_time": "2024-03-15T00:06:58.537098Z",
     "start_time": "2024-03-15T00:06:58.508839Z"
    },
    "id": "uMK5bHnSBsZ1"
   },
   "outputs": [
    {
     "name": "stdout",
     "output_type": "stream",
     "text": [
      "[-0.89887803]\n"
     ]
    }
   ],
   "source": [
    "bs = IIDBootstrap(data)\n",
    "print(bs.conf_int(np.mean, 1000, method='bca')[0])"
   ]
  },
  {
   "cell_type": "markdown",
   "metadata": {
    "id": "mO9_eRHjBtUG"
   },
   "source": [
    "## Правая граница доверительного интервала для среднего выборки"
   ]
  },
  {
   "cell_type": "code",
   "execution_count": 42,
   "metadata": {
    "ExecuteTime": {
     "end_time": "2024-03-15T00:06:56.910466Z",
     "start_time": "2024-03-15T00:06:56.883236Z"
    },
    "id": "vHRiKAy6Bu7n"
   },
   "outputs": [
    {
     "name": "stdout",
     "output_type": "stream",
     "text": [
      "[1.29027939]\n"
     ]
    }
   ],
   "source": [
    "bs = IIDBootstrap(data)\n",
    "print(bs.conf_int(np.mean, 1000, method='bca')[1])"
   ]
  }
 ],
 "metadata": {
  "colab": {
   "provenance": []
  },
  "kernelspec": {
   "display_name": "Python 3 (ipykernel)",
   "language": "python",
   "name": "python3"
  },
  "language_info": {
   "codemirror_mode": {
    "name": "ipython",
    "version": 3
   },
   "file_extension": ".py",
   "mimetype": "text/x-python",
   "name": "python",
   "nbconvert_exporter": "python",
   "pygments_lexer": "ipython3",
   "version": "3.11.5"
  }
 },
 "nbformat": 4,
 "nbformat_minor": 1
}
