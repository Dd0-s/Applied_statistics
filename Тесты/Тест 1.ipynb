{
 "cells": [
  {
   "cell_type": "markdown",
   "metadata": {
    "id": "SWpzzBKX5lab"
   },
   "source": [
    "# Библиотеки"
   ]
  },
  {
   "cell_type": "code",
   "execution_count": 12,
   "metadata": {
    "ExecuteTime": {
     "end_time": "2024-02-20T06:28:33.389506Z",
     "start_time": "2024-02-20T06:28:33.157975Z"
    },
    "id": "DVElVx3w5lag"
   },
   "outputs": [],
   "source": [
    "from zlib import crc32\n",
    "\n",
    "import numpy as np\n",
    "import pandas as pd\n",
    "import scipy.stats as st\n",
    "import statistics\n",
    "from collections import Counter"
   ]
  },
  {
   "cell_type": "markdown",
   "metadata": {
    "id": "W10bESh65lah"
   },
   "source": [
    "# Код генерации выборки"
   ]
  },
  {
   "cell_type": "code",
   "execution_count": 2,
   "metadata": {
    "ExecuteTime": {
     "end_time": "2024-02-20T06:24:26.586212Z",
     "start_time": "2024-02-20T06:24:26.578744Z"
    },
    "id": "-dRusc3I5lai"
   },
   "outputs": [],
   "source": [
    "import re\n",
    "EMAIL_REGEX = re.compile(r\"[^@]+@phystech.edu\")\n",
    "\n",
    "def generate_dataset(code):\n",
    "    rs = np.random.RandomState(code)\n",
    "    full_data = np.concatenate(\n",
    "        [\n",
    "            rs.randint(low=0, high=251, size=5000), \n",
    "            rs.randint(low=-250, high=0, size=5000)\n",
    "        ]\n",
    "    )\n",
    "    \n",
    "    mode_cnt = st.mode(full_data)[1] \n",
    "    counts = Counter(full_data.tolist())\n",
    "    \n",
    "    to_add = []\n",
    "    for i in range(rs.randint(low = 1, high = 5)):\n",
    "        obj_to_add = int(rs.randint(low=-250, high=251, size=1))\n",
    "        to_add += [obj_to_add for _ in range(0, int(mode_cnt - counts.get(obj_to_add, 0)))]\n",
    "        \n",
    "    full_data = np.concatenate([full_data, to_add])\n",
    "    rs.shuffle(full_data)\n",
    "    return np.array(full_data)"
   ]
  },
  {
   "cell_type": "markdown",
   "metadata": {
    "id": "LXkXPYIz5laj"
   },
   "source": [
    "# Генерация выборки для вашей почты\n",
    "\n",
    "<span style=\"color:red\">\n",
    "    ВАЖНО!\n",
    "    Почта, которую укажете ниже и почта с которой Вы отправляете домашнее задание должна совпадать!\n",
    "    В момент проверки задания алгоритм генерирует выборку на основе почты из анкеты!\n",
    "</span>\n",
    "\n",
    "Внимательно проверьте почту для которой выполняется задание!"
   ]
  },
  {
   "cell_type": "code",
   "execution_count": 3,
   "metadata": {
    "ExecuteTime": {
     "end_time": "2024-02-20T06:24:49.989335Z",
     "start_time": "2024-02-20T06:24:31.894212Z"
    },
    "id": "h8bMsPHy5laj"
   },
   "outputs": [
    {
     "name": "stdout",
     "output_type": "stream",
     "text": [
      "Enter your mail: bogdanov.ai@phystech.edu\n"
     ]
    },
    {
     "name": "stderr",
     "output_type": "stream",
     "text": [
      "/var/folders/kp/kc4vzmg90w7c931lgty_wm740000gn/T/ipykernel_61087/3594209315.py:18: DeprecationWarning: Conversion of an array with ndim > 0 to a scalar is deprecated, and will error in future. Ensure you extract a single element from your array before performing this operation. (Deprecated NumPy 1.25.)\n",
      "  obj_to_add = int(rs.randint(low=-250, high=251, size=1))\n"
     ]
    },
    {
     "data": {
      "text/plain": [
       "{'mail': 'bogdanov.ai@phystech.edu',\n",
       " 'id': 1162440694,\n",
       " 'data': array([ -86,  154, -178, ...,   71,   20, -125])}"
      ]
     },
     "execution_count": 3,
     "metadata": {},
     "output_type": "execute_result"
    }
   ],
   "source": [
    "task = dict()\n",
    "task['mail'] = input(prompt='Enter your mail: ')\n",
    "assert EMAIL_REGEX.match(task['mail']), 'Not a mail in the phystech.edu domain'\n",
    "task['id'] = crc32(task['mail'].encode('utf-8'))\n",
    "task['data'] = generate_dataset(task['id'])\n",
    "\n",
    "task"
   ]
  },
  {
   "cell_type": "markdown",
   "metadata": {
    "id": "WprDKyMv5lak"
   },
   "source": [
    "# Работа с выборкой"
   ]
  },
  {
   "cell_type": "code",
   "execution_count": 4,
   "metadata": {
    "ExecuteTime": {
     "end_time": "2024-02-20T06:25:09.374676Z",
     "start_time": "2024-02-20T06:25:09.371245Z"
    },
    "id": "ZHQaq3RJ5lal"
   },
   "outputs": [],
   "source": [
    "data = task['data']"
   ]
  },
  {
   "cell_type": "markdown",
   "metadata": {
    "id": "0fAnRfaYm7-e"
   },
   "source": [
    "## Среднее"
   ]
  },
  {
   "cell_type": "code",
   "execution_count": 6,
   "metadata": {
    "ExecuteTime": {
     "end_time": "2024-02-20T06:26:03.588754Z",
     "start_time": "2024-02-20T06:26:03.584311Z"
    },
    "id": "y3U23VKk5lal"
   },
   "outputs": [
    {
     "name": "stdout",
     "output_type": "stream",
     "text": [
      "mean=-0.8199520671060515\n"
     ]
    }
   ],
   "source": [
    "print('mean={}'.format(np.mean(data)))"
   ]
  },
  {
   "cell_type": "markdown",
   "metadata": {
    "id": "gWov4G9anCsg"
   },
   "source": [
    "## Медиана"
   ]
  },
  {
   "cell_type": "code",
   "execution_count": 8,
   "metadata": {
    "ExecuteTime": {
     "end_time": "2024-02-20T06:26:28.494497Z",
     "start_time": "2024-02-20T06:26:28.488639Z"
    },
    "id": "1Bjctcs9nFAQ"
   },
   "outputs": [
    {
     "name": "stdout",
     "output_type": "stream",
     "text": [
      "median=-1.0\n"
     ]
    }
   ],
   "source": [
    "print('median={}'.format(np.median(data)))"
   ]
  },
  {
   "cell_type": "markdown",
   "metadata": {
    "id": "phScuV9znFfK"
   },
   "source": [
    "## Дисперсия (несмещенная оценка)"
   ]
  },
  {
   "cell_type": "code",
   "execution_count": 10,
   "metadata": {
    "ExecuteTime": {
     "end_time": "2024-02-20T06:26:58.719561Z",
     "start_time": "2024-02-20T06:26:58.715420Z"
    },
    "id": "1TuORikNnJTh"
   },
   "outputs": [
    {
     "name": "stdout",
     "output_type": "stream",
     "text": [
      "std=143.98606964782837\n"
     ]
    }
   ],
   "source": [
    "print('std={}'.format(np.std(data, ddof=1)))"
   ]
  },
  {
   "cell_type": "markdown",
   "metadata": {
    "id": "TLgppdpgnJv8"
   },
   "source": [
    "## Мода (максимальная)"
   ]
  },
  {
   "cell_type": "code",
   "execution_count": 16,
   "metadata": {
    "ExecuteTime": {
     "end_time": "2024-02-20T06:29:20.299495Z",
     "start_time": "2024-02-20T06:29:20.294384Z"
    },
    "id": "xCuDpfV8nLoM"
   },
   "outputs": [
    {
     "name": "stdout",
     "output_type": "stream",
     "text": [
      "-73\n"
     ]
    }
   ],
   "source": [
    "print(max(statistics.multimode(data)))"
   ]
  },
  {
   "cell_type": "markdown",
   "metadata": {
    "id": "bbXfzbY4nMAh"
   },
   "source": [
    "## Число мод"
   ]
  },
  {
   "cell_type": "code",
   "execution_count": 14,
   "metadata": {
    "ExecuteTime": {
     "end_time": "2024-02-20T06:28:59.999880Z",
     "start_time": "2024-02-20T06:28:59.992291Z"
    },
    "id": "KQ8cSyEBnNtC"
   },
   "outputs": [
    {
     "name": "stdout",
     "output_type": "stream",
     "text": [
      "3\n"
     ]
    }
   ],
   "source": [
    "print(len(statistics.multimode(data)))"
   ]
  },
  {
   "cell_type": "markdown",
   "metadata": {
    "id": "OCSUIo2YnOLG"
   },
   "source": [
    "## Порядковая статистика с номером 42"
   ]
  },
  {
   "cell_type": "code",
   "execution_count": 15,
   "metadata": {
    "ExecuteTime": {
     "end_time": "2024-02-20T06:29:10.253622Z",
     "start_time": "2024-02-20T06:29:10.245852Z"
    },
    "id": "PVj68V9inQKc"
   },
   "outputs": [
    {
     "name": "stdout",
     "output_type": "stream",
     "text": [
      "-39.0\n"
     ]
    }
   ],
   "source": [
    "print(statistics.quantiles(data, n=100)[41])"
   ]
  },
  {
   "cell_type": "markdown",
   "metadata": {
    "id": "JJWuGUtEnQa4"
   },
   "source": [
    "## Медиана для неотрицательных"
   ]
  },
  {
   "cell_type": "code",
   "execution_count": 17,
   "metadata": {
    "ExecuteTime": {
     "end_time": "2024-02-20T06:29:47.799467Z",
     "start_time": "2024-02-20T06:29:47.795161Z"
    },
    "id": "Hv3kQsgFnSHt"
   },
   "outputs": [
    {
     "name": "stdout",
     "output_type": "stream",
     "text": [
      "124.0\n"
     ]
    }
   ],
   "source": [
    "print(np.median(data[data > 0]))"
   ]
  }
 ],
 "metadata": {
  "colab": {
   "name": "sem1.ipynb",
   "provenance": []
  },
  "kernelspec": {
   "display_name": "Python 3 (ipykernel)",
   "language": "python",
   "name": "python3"
  },
  "language_info": {
   "codemirror_mode": {
    "name": "ipython",
    "version": 3
   },
   "file_extension": ".py",
   "mimetype": "text/x-python",
   "name": "python",
   "nbconvert_exporter": "python",
   "pygments_lexer": "ipython3",
   "version": "3.11.5"
  }
 },
 "nbformat": 4,
 "nbformat_minor": 1
}
