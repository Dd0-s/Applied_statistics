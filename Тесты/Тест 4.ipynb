{
 "cells": [
  {
   "cell_type": "markdown",
   "metadata": {
    "id": "SWpzzBKX5lab"
   },
   "source": [
    "# Библиотеки"
   ]
  },
  {
   "cell_type": "code",
   "execution_count": 24,
   "metadata": {
    "ExecuteTime": {
     "end_time": "2024-03-22T13:46:38.854105Z",
     "start_time": "2024-03-22T13:46:38.849669Z"
    },
    "id": "DVElVx3w5lag"
   },
   "outputs": [],
   "source": [
    "from zlib import crc32\n",
    "\n",
    "import numpy as np\n",
    "import pandas as pd\n",
    "import scipy.stats as st\n",
    "from itertools import combinations\n",
    "from statsmodels.stats.multitest import multipletests\n",
    "import re"
   ]
  },
  {
   "cell_type": "markdown",
   "metadata": {
    "id": "W10bESh65lah"
   },
   "source": [
    "# Код генерации выборки"
   ]
  },
  {
   "cell_type": "code",
   "execution_count": 2,
   "metadata": {
    "ExecuteTime": {
     "end_time": "2024-03-22T11:09:02.814340Z",
     "start_time": "2024-03-22T11:09:02.811564Z"
    },
    "id": "-dRusc3I5lai"
   },
   "outputs": [],
   "source": [
    "EMAIL_REGEX = re.compile(r\"[^@]+@phystech.edu\")\n",
    "\n",
    "def generate_dataset(code):\n",
    "    rs = np.random.RandomState(code)\n",
    "    size = rs.randint(low=5, high=10)\n",
    "    data = rs.randn(30, size)\n",
    "    for i in range(size):\n",
    "        data[:, i] += rs.uniform()*2-1.0\n",
    "    return data"
   ]
  },
  {
   "cell_type": "markdown",
   "metadata": {
    "id": "LXkXPYIz5laj"
   },
   "source": [
    "# Генерация выборки для вашей почты\n",
    "\n",
    "<span style=\"color:red\">\n",
    "    ВАЖНО!\n",
    "    Почта, которую укажете ниже и почта с которой Вы отправляете домашнее задание должна совпадать!\n",
    "    В момент проверки задания алгоритм генерирует выборку на основе почты из анкеты!\n",
    "</span>\n",
    "\n",
    "Внимательно проверьте почту для которой выполняется задание!"
   ]
  },
  {
   "cell_type": "code",
   "execution_count": 3,
   "metadata": {
    "ExecuteTime": {
     "end_time": "2024-03-22T11:09:18.800696Z",
     "start_time": "2024-03-22T11:09:05.026908Z"
    },
    "id": "h8bMsPHy5laj"
   },
   "outputs": [
    {
     "name": "stdout",
     "output_type": "stream",
     "text": [
      "Enter your mail: bogdanov.ai@phystech.edu\n"
     ]
    },
    {
     "data": {
      "text/plain": [
       "{'mail': 'bogdanov.ai@phystech.edu',\n",
       " 'id': 1162440694,\n",
       " 'data': array([[ 1.75750145e+00, -6.29772492e-01, -7.95937049e-01,\n",
       "          5.14107649e-01,  2.71934149e-01,  2.45757706e-01],\n",
       "        [-1.31745727e+00,  1.71582365e+00,  3.86234055e-01,\n",
       "         -2.94497400e-01, -1.49196321e+00, -2.01468546e+00],\n",
       "        [ 9.06885919e-01,  2.09119883e-01,  2.22987192e+00,\n",
       "          1.89242468e+00,  4.23514654e-01, -4.57460779e-01],\n",
       "        [ 2.22302813e+00, -1.62041271e+00,  1.20754551e+00,\n",
       "         -5.82722395e-01,  2.26338741e+00,  6.98631501e-01],\n",
       "        [-2.85882677e-01,  5.53456073e-02,  1.00669115e+00,\n",
       "          1.86720509e+00,  8.71536359e-01, -4.88947907e-01],\n",
       "        [ 5.43645169e-01, -4.22883163e-01, -1.48516156e-01,\n",
       "         -8.52384555e-01, -1.79936191e+00, -4.35372859e-01],\n",
       "        [ 2.26000978e+00, -1.33038322e+00,  1.01764257e+00,\n",
       "         -2.59200218e-01,  2.37272533e+00, -4.88228617e-01],\n",
       "        [ 3.80484416e-01, -2.36386376e-01,  1.91019303e+00,\n",
       "          5.29333724e-01,  2.66796660e-01,  7.41635089e-04],\n",
       "        [-4.28528938e-01,  1.42640823e+00, -1.42365910e-01,\n",
       "          1.33641525e+00,  1.62097712e-01, -5.20506984e-01],\n",
       "        [ 5.86450146e-01,  4.62849411e-01,  1.93242503e+00,\n",
       "         -1.44302506e+00, -4.00087051e-01,  2.32928491e-01],\n",
       "        [ 7.47983580e-01, -2.31894458e-01,  7.98089473e-01,\n",
       "         -7.14971544e-01,  2.80448782e-01, -1.54831097e+00],\n",
       "        [-6.68889631e-01, -7.15367133e-01,  1.85169766e+00,\n",
       "          1.46525513e+00,  5.49927810e-01,  6.61567580e-01],\n",
       "        [ 5.70860546e-01, -1.13628100e+00,  3.69518495e-01,\n",
       "          3.85954716e-01,  7.04670976e-01, -3.01929526e-01],\n",
       "        [ 1.14383412e-01, -1.75956638e-01,  2.08508134e+00,\n",
       "          2.90578124e-03, -2.31756848e-01, -1.23821096e+00],\n",
       "        [ 1.28478060e+00,  8.50659735e-01,  5.68228477e-01,\n",
       "          1.03384684e+00,  2.35431268e-02, -2.00283783e-01],\n",
       "        [ 6.23341070e-01, -6.22938858e-01,  1.94635947e+00,\n",
       "         -2.14253521e-01,  1.14608079e+00, -1.30874833e+00],\n",
       "        [ 1.24785342e+00, -3.29410486e+00,  2.05103334e+00,\n",
       "          1.71150462e-01,  1.27803668e+00, -1.41441290e+00],\n",
       "        [-8.26925808e-01, -1.73838377e+00,  9.86925680e-01,\n",
       "         -7.38133018e-01,  4.13826717e-01, -2.24384557e+00],\n",
       "        [ 1.84561582e+00, -4.87879896e-01,  2.43506973e+00,\n",
       "         -1.20401085e+00,  9.66574145e-01,  2.80801236e-01],\n",
       "        [ 5.36097473e-01,  1.05393729e+00,  6.34106906e-01,\n",
       "         -2.01515775e+00, -6.21791363e-01, -1.79702441e-02],\n",
       "        [ 2.30583727e+00, -1.07235747e+00,  8.46730955e-01,\n",
       "         -4.77341358e-01,  1.40339722e+00,  9.65203097e-01],\n",
       "        [-5.07796267e-02,  1.53267350e-02,  1.50334334e+00,\n",
       "          2.59559055e-01,  1.42552653e+00, -6.67109918e-01],\n",
       "        [-1.35374009e+00, -1.97334845e-01,  9.76521377e-01,\n",
       "          9.06397901e-01, -9.66174834e-01, -9.53597848e-01],\n",
       "        [ 1.77299336e+00, -8.09044372e-01,  9.05149715e-01,\n",
       "          1.05406534e+00,  1.32364514e+00, -9.12297621e-01],\n",
       "        [ 1.47833194e+00,  2.63078889e-01,  1.80806330e+00,\n",
       "         -9.99015698e-01, -1.39203925e+00, -3.47350719e-01],\n",
       "        [ 2.14767124e-01, -1.49615914e+00,  2.20308197e-01,\n",
       "         -6.59112754e-01, -4.31932254e-02,  1.86070974e-01],\n",
       "        [ 1.37404210e+00, -1.91426295e+00, -7.24461387e-01,\n",
       "         -6.27797735e-01,  7.03640924e-01, -1.38736596e+00],\n",
       "        [ 1.87203021e-01, -7.46166669e-01,  1.48041053e-01,\n",
       "         -1.92377544e+00,  1.49436111e+00, -1.56290452e+00],\n",
       "        [ 1.12764806e+00, -2.37084612e-01, -1.99472360e-01,\n",
       "         -1.26522123e+00, -6.02820545e-01,  9.99284056e-01],\n",
       "        [ 2.64061595e+00, -1.60380343e+00,  2.50337207e-01,\n",
       "          4.83313026e-01,  1.05422813e+00, -1.08832747e-01]])}"
      ]
     },
     "execution_count": 3,
     "metadata": {},
     "output_type": "execute_result"
    }
   ],
   "source": [
    "task = dict()\n",
    "task['mail'] = input(prompt='Enter your mail: ')\n",
    "assert EMAIL_REGEX.match(task['mail']), 'Not a mail in the phystech.edu domain'\n",
    "task['id'] = crc32(task['mail'].encode('utf-8'))\n",
    "task['data'] = generate_dataset(task['id'])\n",
    "\n",
    "task"
   ]
  },
  {
   "cell_type": "markdown",
   "metadata": {
    "id": "WprDKyMv5lak"
   },
   "source": [
    "# Работа с выборкой"
   ]
  },
  {
   "cell_type": "code",
   "execution_count": 8,
   "metadata": {
    "ExecuteTime": {
     "end_time": "2024-03-22T13:39:10.498695Z",
     "start_time": "2024-03-22T13:39:10.493390Z"
    },
    "id": "ZHQaq3RJ5lal"
   },
   "outputs": [],
   "source": [
    "data = task['data']"
   ]
  },
  {
   "cell_type": "markdown",
   "metadata": {
    "id": "UCa_tccEB_p4"
   },
   "source": [
    "## Воспользуемся t-критерем для сравнения средних для всех пар столбцов из выборки. Для какого количества пар столбцов отвергается гипотеза о совпадении среднего?"
   ]
  },
  {
   "cell_type": "code",
   "execution_count": 26,
   "metadata": {
    "ExecuteTime": {
     "end_time": "2024-03-22T13:51:53.938007Z",
     "start_time": "2024-03-22T13:51:53.921401Z"
    },
    "id": "El_MUMwpB-Kn"
   },
   "outputs": [
    {
     "name": "stdout",
     "output_type": "stream",
     "text": [
      "Для 9 пар\n"
     ]
    }
   ],
   "source": [
    "def pairwise_ttest(data, alpha=0.05):\n",
    "\n",
    "    cols = 0\n",
    "    pvals = []\n",
    "    data = pd.DataFrame(data)\n",
    "    \n",
    "    for col1, col2 in combinations(data.columns, 2):\n",
    "        pvalue = st.ttest_ind(data[col1], data[col2])[1]\n",
    "        pvals.append(pvalue)\n",
    "        if pvalue <= 0.05:\n",
    "            cols += 1\n",
    "    return cols, pvals\n",
    "\n",
    "print(f'Для {pairwise_ttest(data)[0]} пар')"
   ]
  },
  {
   "cell_type": "markdown",
   "metadata": {
    "id": "YExSyaevCC3i"
   },
   "source": [
    "## Значение уровня значимости при введении поправки Бонферрони (alpha=0.05). Округлить до 3 знака после запятой."
   ]
  },
  {
   "cell_type": "code",
   "execution_count": 47,
   "metadata": {
    "ExecuteTime": {
     "end_time": "2024-03-22T14:09:20.972338Z",
     "start_time": "2024-03-22T14:09:20.956311Z"
    },
    "id": "dPBz86r_CER4"
   },
   "outputs": [
    {
     "name": "stdout",
     "output_type": "stream",
     "text": [
      "Уровень значимости = 0.003\n"
     ]
    }
   ],
   "source": [
    "pvals = pairwise_ttest(data)[1]\n",
    "\n",
    "p_new = multipletests(pvals, method='bonferroni')[-1]\n",
    "print(f'Уровень значимости = {p_new:0.3f}')"
   ]
  },
  {
   "cell_type": "markdown",
   "metadata": {
    "id": "00h-2d-TCFsx"
   },
   "source": [
    "## Для какого количества пар столбцов отвергается гипотеза о совпадении среднего при использовании поправки Бонферрони?"
   ]
  },
  {
   "cell_type": "code",
   "execution_count": 28,
   "metadata": {
    "ExecuteTime": {
     "end_time": "2024-03-22T13:51:58.139438Z",
     "start_time": "2024-03-22T13:51:58.124300Z"
    },
    "id": "iVvF448vCHOK"
   },
   "outputs": [
    {
     "name": "stdout",
     "output_type": "stream",
     "text": [
      "Отвергли для 7 пар столбцов\n"
     ]
    }
   ],
   "source": [
    "pvals = pairwise_ttest(data)[1]\n",
    "\n",
    "rejected = multipletests(pvals, method='bonferroni')[0].sum()\n",
    "print(f'Отвергли для {rejected} пар столбцов')"
   ]
  },
  {
   "cell_type": "markdown",
   "metadata": {
    "id": "xQFTt9Q5CH0d"
   },
   "source": [
    "## Для какого количества пар столбцов отвергается гипотеза о совпадении среднего при использовании метода Холма?"
   ]
  },
  {
   "cell_type": "code",
   "execution_count": 29,
   "metadata": {
    "ExecuteTime": {
     "end_time": "2024-03-22T13:52:16.230660Z",
     "start_time": "2024-03-22T13:52:15.988180Z"
    },
    "id": "pdi0bE2vCJZR"
   },
   "outputs": [
    {
     "name": "stdout",
     "output_type": "stream",
     "text": [
      "Отвергли для 8 пар столбцов\n"
     ]
    }
   ],
   "source": [
    "pvals = pairwise_ttest(data)[1]\n",
    "\n",
    "rejected = multipletests(pvals, method='holm')[0].sum()\n",
    "print(f'Отвергли для {rejected} пар столбцов')"
   ]
  },
  {
   "cell_type": "markdown",
   "metadata": {
    "id": "GAdKb8nACKd1"
   },
   "source": [
    "## Оценка m0 по методу Шведера-Спьётволла (lambda = 0.5)"
   ]
  },
  {
   "cell_type": "code",
   "execution_count": 51,
   "metadata": {
    "ExecuteTime": {
     "end_time": "2024-03-22T15:31:07.134162Z",
     "start_time": "2024-03-22T15:31:07.121352Z"
    },
    "id": "9f8wC5leCMNQ"
   },
   "outputs": [
    {
     "name": "stdout",
     "output_type": "stream",
     "text": [
      "mu_0 = 4.0\n"
     ]
    }
   ],
   "source": [
    "def shveder_spjetvoll(p_values, lmbd=0.5):\n",
    "    return (1 + (np.array(p_values) > lmbd).sum()) / (1 - lmbd)\n",
    "\n",
    "pvals = pairwise_ttest(data)[1]\n",
    "\n",
    "print(f'mu_0 = {shveder_spjetvoll(pvals)}')"
   ]
  }
 ],
 "metadata": {
  "colab": {
   "name": "sem4.ipynb",
   "provenance": []
  },
  "kernelspec": {
   "display_name": "Python 3 (ipykernel)",
   "language": "python",
   "name": "python3"
  },
  "language_info": {
   "codemirror_mode": {
    "name": "ipython",
    "version": 3
   },
   "file_extension": ".py",
   "mimetype": "text/x-python",
   "name": "python",
   "nbconvert_exporter": "python",
   "pygments_lexer": "ipython3",
   "version": "3.11.5"
  }
 },
 "nbformat": 4,
 "nbformat_minor": 1
}
