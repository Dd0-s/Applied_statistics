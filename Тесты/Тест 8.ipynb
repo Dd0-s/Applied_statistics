{
 "cells": [
  {
   "cell_type": "markdown",
   "metadata": {
    "id": "SWpzzBKX5lab"
   },
   "source": [
    "# Библиотеки"
   ]
  },
  {
   "cell_type": "code",
   "execution_count": 2,
   "metadata": {
    "ExecuteTime": {
     "end_time": "2024-04-19T15:41:17.689750Z",
     "start_time": "2024-04-19T15:41:15.434501Z"
    },
    "id": "DVElVx3w5lag"
   },
   "outputs": [],
   "source": [
    "from zlib import crc32\n",
    "\n",
    "import numpy as np\n",
    "import pandas as pd\n",
    "import scipy.stats as st\n",
    "import re\n",
    "import statsmodels.api as sm\n",
    "from sklearn.metrics import accuracy_score"
   ]
  },
  {
   "cell_type": "markdown",
   "metadata": {
    "id": "W10bESh65lah"
   },
   "source": [
    "# Код генерации выборки"
   ]
  },
  {
   "cell_type": "code",
   "execution_count": 3,
   "metadata": {
    "ExecuteTime": {
     "end_time": "2024-04-19T15:41:17.692929Z",
     "start_time": "2024-04-19T15:41:17.690709Z"
    },
    "id": "-dRusc3I5lai"
   },
   "outputs": [],
   "source": [
    "EMAIL_REGEX = re.compile(r\"[^@]+@phystech.edu\")\n",
    "\n",
    "def generate_dataset(code):\n",
    "    rs = np.random.RandomState(code)\n",
    "    tip = rs.randint(low=0, high=3)\n",
    "    if tip == 1:\n",
    "        w = [1, 1, 1, 1, 1, 0, 0, 0, 0, 0]\n",
    "    if tip == 2:\n",
    "        w= [1, 1, 1, 1, 1, 0, 0, 0, 0, 0][::-1]\n",
    "    if tip == 0:\n",
    "        w = [0]*10\n",
    "    x = rs.randn(1000, 10)\n",
    "    y = (np.dot(x, w)+rs.randn(1000)*1.0)\n",
    "    y[100:] += 1 * rs.randn(900) * rs.uniform(size = 900)\n",
    "    y = 1.0*(y >= 0)\n",
    "    return np.hstack([y.reshape(1000, 1), x])"
   ]
  },
  {
   "cell_type": "markdown",
   "metadata": {
    "id": "LXkXPYIz5laj"
   },
   "source": [
    "# Генерация выборки для вашей почты\n",
    "\n",
    "<span style=\"color:red\">\n",
    "    ВАЖНО!\n",
    "    Почта, которую укажете ниже и почта с которой Вы отправляете домашнее задание должна совпадать!\n",
    "    В момент проверки задания алгоритм генерирует выборку на основе почты из анкеты!\n",
    "</span>\n",
    "\n",
    "Внимательно проверьте почту для которой выполняется задание!"
   ]
  },
  {
   "cell_type": "code",
   "execution_count": 4,
   "metadata": {
    "ExecuteTime": {
     "end_time": "2024-04-19T15:41:28.018239Z",
     "start_time": "2024-04-19T15:41:17.693465Z"
    },
    "id": "h8bMsPHy5laj"
   },
   "outputs": [
    {
     "name": "stdout",
     "output_type": "stream",
     "text": [
      "Enter your mail: bogdanov.ai@phystech.edu\n"
     ]
    },
    {
     "data": {
      "text/plain": [
       "{'mail': 'bogdanov.ai@phystech.edu',\n",
       " 'id': 1162440694,\n",
       " 'data': array([[ 1.        ,  1.08945958,  0.32178445, ...,  2.66738059,\n",
       "         -0.45650835, -0.35949748],\n",
       "        [ 1.        , -1.39968299, -1.59509462, ..., -0.03786994,\n",
       "          1.55498625, -0.66885577],\n",
       "        [ 1.        ,  0.3648031 , -0.64772248, ...,  1.80220501,\n",
       "          0.96381658, -0.06935707],\n",
       "        ...,\n",
       "        [ 0.        , -0.73637306, -0.89386267, ...,  0.60072037,\n",
       "          1.20160435,  0.23308067],\n",
       "        [ 0.        , -0.34561843, -0.66330805, ...,  0.62327406,\n",
       "         -1.20261697,  0.37706688],\n",
       "        [ 1.        , -0.86797526,  1.52408046, ..., -0.62932746,\n",
       "          1.00534656,  0.23907955]])}"
      ]
     },
     "execution_count": 4,
     "metadata": {},
     "output_type": "execute_result"
    }
   ],
   "source": [
    "task = dict()\n",
    "task['mail'] = input(prompt='Enter your mail: ')\n",
    "assert EMAIL_REGEX.match(task['mail']), 'Not a mail in the phystech.edu domain'\n",
    "task['id'] = crc32(task['mail'].encode('utf-8'))\n",
    "task['data'] = generate_dataset(task['id'])\n",
    "\n",
    "task"
   ]
  },
  {
   "cell_type": "markdown",
   "metadata": {
    "id": "WprDKyMv5lak"
   },
   "source": [
    "# Работа с выборкой"
   ]
  },
  {
   "cell_type": "code",
   "execution_count": 5,
   "metadata": {
    "ExecuteTime": {
     "end_time": "2024-04-19T15:41:28.741796Z",
     "start_time": "2024-04-19T15:41:28.738271Z"
    },
    "id": "ZHQaq3RJ5lal"
   },
   "outputs": [],
   "source": [
    "data = task['data']"
   ]
  },
  {
   "cell_type": "markdown",
   "metadata": {
    "id": "8Xsdw9tP7HRn"
   },
   "source": [
    "## Постройте модель логистической регрессии Y от X и свободного коэффициента. Каково отношение шансов Y=1 к событию f(X) = 1, где f(X) - отклик?"
   ]
  },
  {
   "cell_type": "code",
   "execution_count": 6,
   "metadata": {
    "ExecuteTime": {
     "end_time": "2024-04-19T15:41:29.547396Z",
     "start_time": "2024-04-19T15:41:29.541528Z"
    },
    "id": "y3U23VKk5lal"
   },
   "outputs": [],
   "source": [
    "data = pd.DataFrame(data)\n",
    "column_names = ['Y', 'X0', 'X1', 'X2', 'X3', 'X4', 'X5', 'X6', 'X7', 'X8', 'X9']\n",
    "data.columns = column_names"
   ]
  },
  {
   "cell_type": "code",
   "execution_count": 7,
   "metadata": {
    "ExecuteTime": {
     "end_time": "2024-04-19T15:41:29.921795Z",
     "start_time": "2024-04-19T15:41:29.912131Z"
    }
   },
   "outputs": [],
   "source": [
    "X = data.drop('Y', axis=1)\n",
    "y = data['Y']"
   ]
  },
  {
   "cell_type": "code",
   "execution_count": 8,
   "metadata": {
    "ExecuteTime": {
     "end_time": "2024-04-19T15:41:30.484859Z",
     "start_time": "2024-04-19T15:41:30.318643Z"
    },
    "scrolled": false
   },
   "outputs": [
    {
     "name": "stdout",
     "output_type": "stream",
     "text": [
      "Optimization terminated successfully.\n",
      "         Current function value: 0.328067\n",
      "         Iterations 8\n"
     ]
    },
    {
     "data": {
      "text/html": [
       "<table class=\"simpletable\">\n",
       "<caption>Logit Regression Results</caption>\n",
       "<tr>\n",
       "  <th>Dep. Variable:</th>           <td>Y</td>        <th>  No. Observations:  </th>   <td>  1000</td>  \n",
       "</tr>\n",
       "<tr>\n",
       "  <th>Model:</th>                 <td>Logit</td>      <th>  Df Residuals:      </th>   <td>   989</td>  \n",
       "</tr>\n",
       "<tr>\n",
       "  <th>Method:</th>                 <td>MLE</td>       <th>  Df Model:          </th>   <td>    10</td>  \n",
       "</tr>\n",
       "<tr>\n",
       "  <th>Date:</th>            <td>Fri, 19 Apr 2024</td> <th>  Pseudo R-squ.:     </th>   <td>0.5266</td>  \n",
       "</tr>\n",
       "<tr>\n",
       "  <th>Time:</th>                <td>18:41:30</td>     <th>  Log-Likelihood:    </th>  <td> -328.07</td> \n",
       "</tr>\n",
       "<tr>\n",
       "  <th>converged:</th>             <td>True</td>       <th>  LL-Null:           </th>  <td> -693.05</td> \n",
       "</tr>\n",
       "<tr>\n",
       "  <th>Covariance Type:</th>     <td>nonrobust</td>    <th>  LLR p-value:       </th> <td>2.313e-150</td>\n",
       "</tr>\n",
       "</table>\n",
       "<table class=\"simpletable\">\n",
       "<tr>\n",
       "    <td></td>       <th>coef</th>     <th>std err</th>      <th>z</th>      <th>P>|z|</th>  <th>[0.025</th>    <th>0.975]</th>  \n",
       "</tr>\n",
       "<tr>\n",
       "  <th>const</th> <td>    0.0603</td> <td>    0.099</td> <td>    0.609</td> <td> 0.542</td> <td>   -0.134</td> <td>    0.254</td>\n",
       "</tr>\n",
       "<tr>\n",
       "  <th>X0</th>    <td>    1.4791</td> <td>    0.133</td> <td>   11.153</td> <td> 0.000</td> <td>    1.219</td> <td>    1.739</td>\n",
       "</tr>\n",
       "<tr>\n",
       "  <th>X1</th>    <td>    1.6276</td> <td>    0.134</td> <td>   12.126</td> <td> 0.000</td> <td>    1.365</td> <td>    1.891</td>\n",
       "</tr>\n",
       "<tr>\n",
       "  <th>X2</th>    <td>    1.5593</td> <td>    0.130</td> <td>   11.983</td> <td> 0.000</td> <td>    1.304</td> <td>    1.814</td>\n",
       "</tr>\n",
       "<tr>\n",
       "  <th>X3</th>    <td>    1.4852</td> <td>    0.133</td> <td>   11.129</td> <td> 0.000</td> <td>    1.224</td> <td>    1.747</td>\n",
       "</tr>\n",
       "<tr>\n",
       "  <th>X4</th>    <td>    1.5596</td> <td>    0.138</td> <td>   11.324</td> <td> 0.000</td> <td>    1.290</td> <td>    1.829</td>\n",
       "</tr>\n",
       "<tr>\n",
       "  <th>X5</th>    <td>   -0.0476</td> <td>    0.099</td> <td>   -0.482</td> <td> 0.630</td> <td>   -0.241</td> <td>    0.146</td>\n",
       "</tr>\n",
       "<tr>\n",
       "  <th>X6</th>    <td>    0.1210</td> <td>    0.098</td> <td>    1.233</td> <td> 0.218</td> <td>   -0.071</td> <td>    0.313</td>\n",
       "</tr>\n",
       "<tr>\n",
       "  <th>X7</th>    <td>   -0.0121</td> <td>    0.093</td> <td>   -0.130</td> <td> 0.897</td> <td>   -0.194</td> <td>    0.170</td>\n",
       "</tr>\n",
       "<tr>\n",
       "  <th>X8</th>    <td>    0.1159</td> <td>    0.101</td> <td>    1.150</td> <td> 0.250</td> <td>   -0.082</td> <td>    0.313</td>\n",
       "</tr>\n",
       "<tr>\n",
       "  <th>X9</th>    <td>   -0.1843</td> <td>    0.101</td> <td>   -1.819</td> <td> 0.069</td> <td>   -0.383</td> <td>    0.014</td>\n",
       "</tr>\n",
       "</table>"
      ],
      "text/latex": [
       "\\begin{center}\n",
       "\\begin{tabular}{lclc}\n",
       "\\toprule\n",
       "\\textbf{Dep. Variable:}   &        Y         & \\textbf{  No. Observations:  } &     1000    \\\\\n",
       "\\textbf{Model:}           &      Logit       & \\textbf{  Df Residuals:      } &      989    \\\\\n",
       "\\textbf{Method:}          &       MLE        & \\textbf{  Df Model:          } &       10    \\\\\n",
       "\\textbf{Date:}            & Fri, 19 Apr 2024 & \\textbf{  Pseudo R-squ.:     } &   0.5266    \\\\\n",
       "\\textbf{Time:}            &     18:41:30     & \\textbf{  Log-Likelihood:    } &   -328.07   \\\\\n",
       "\\textbf{converged:}       &       True       & \\textbf{  LL-Null:           } &   -693.05   \\\\\n",
       "\\textbf{Covariance Type:} &    nonrobust     & \\textbf{  LLR p-value:       } & 2.313e-150  \\\\\n",
       "\\bottomrule\n",
       "\\end{tabular}\n",
       "\\begin{tabular}{lcccccc}\n",
       "               & \\textbf{coef} & \\textbf{std err} & \\textbf{z} & \\textbf{P$> |$z$|$} & \\textbf{[0.025} & \\textbf{0.975]}  \\\\\n",
       "\\midrule\n",
       "\\textbf{const} &       0.0603  &        0.099     &     0.609  &         0.542        &       -0.134    &        0.254     \\\\\n",
       "\\textbf{X0}    &       1.4791  &        0.133     &    11.153  &         0.000        &        1.219    &        1.739     \\\\\n",
       "\\textbf{X1}    &       1.6276  &        0.134     &    12.126  &         0.000        &        1.365    &        1.891     \\\\\n",
       "\\textbf{X2}    &       1.5593  &        0.130     &    11.983  &         0.000        &        1.304    &        1.814     \\\\\n",
       "\\textbf{X3}    &       1.4852  &        0.133     &    11.129  &         0.000        &        1.224    &        1.747     \\\\\n",
       "\\textbf{X4}    &       1.5596  &        0.138     &    11.324  &         0.000        &        1.290    &        1.829     \\\\\n",
       "\\textbf{X5}    &      -0.0476  &        0.099     &    -0.482  &         0.630        &       -0.241    &        0.146     \\\\\n",
       "\\textbf{X6}    &       0.1210  &        0.098     &     1.233  &         0.218        &       -0.071    &        0.313     \\\\\n",
       "\\textbf{X7}    &      -0.0121  &        0.093     &    -0.130  &         0.897        &       -0.194    &        0.170     \\\\\n",
       "\\textbf{X8}    &       0.1159  &        0.101     &     1.150  &         0.250        &       -0.082    &        0.313     \\\\\n",
       "\\textbf{X9}    &      -0.1843  &        0.101     &    -1.819  &         0.069        &       -0.383    &        0.014     \\\\\n",
       "\\bottomrule\n",
       "\\end{tabular}\n",
       "%\\caption{Logit Regression Results}\n",
       "\\end{center}"
      ],
      "text/plain": [
       "<class 'statsmodels.iolib.summary.Summary'>\n",
       "\"\"\"\n",
       "                           Logit Regression Results                           \n",
       "==============================================================================\n",
       "Dep. Variable:                      Y   No. Observations:                 1000\n",
       "Model:                          Logit   Df Residuals:                      989\n",
       "Method:                           MLE   Df Model:                           10\n",
       "Date:                Fri, 19 Apr 2024   Pseudo R-squ.:                  0.5266\n",
       "Time:                        18:41:30   Log-Likelihood:                -328.07\n",
       "converged:                       True   LL-Null:                       -693.05\n",
       "Covariance Type:            nonrobust   LLR p-value:                2.313e-150\n",
       "==============================================================================\n",
       "                 coef    std err          z      P>|z|      [0.025      0.975]\n",
       "------------------------------------------------------------------------------\n",
       "const          0.0603      0.099      0.609      0.542      -0.134       0.254\n",
       "X0             1.4791      0.133     11.153      0.000       1.219       1.739\n",
       "X1             1.6276      0.134     12.126      0.000       1.365       1.891\n",
       "X2             1.5593      0.130     11.983      0.000       1.304       1.814\n",
       "X3             1.4852      0.133     11.129      0.000       1.224       1.747\n",
       "X4             1.5596      0.138     11.324      0.000       1.290       1.829\n",
       "X5            -0.0476      0.099     -0.482      0.630      -0.241       0.146\n",
       "X6             0.1210      0.098      1.233      0.218      -0.071       0.313\n",
       "X7            -0.0121      0.093     -0.130      0.897      -0.194       0.170\n",
       "X8             0.1159      0.101      1.150      0.250      -0.082       0.313\n",
       "X9            -0.1843      0.101     -1.819      0.069      -0.383       0.014\n",
       "==============================================================================\n",
       "\"\"\""
      ]
     },
     "execution_count": 8,
     "metadata": {},
     "output_type": "execute_result"
    }
   ],
   "source": [
    "model = sm.Logit(endog=y, exog=sm.add_constant(X)).fit()\n",
    "model.summary()"
   ]
  },
  {
   "cell_type": "code",
   "execution_count": 9,
   "metadata": {
    "ExecuteTime": {
     "end_time": "2024-04-19T15:41:31.299987Z",
     "start_time": "2024-04-19T15:41:31.261293Z"
    }
   },
   "outputs": [
    {
     "name": "stdout",
     "output_type": "stream",
     "text": [
      "1.02\n"
     ]
    }
   ],
   "source": [
    "p_endog = y.sum() / len(y)\n",
    "\n",
    "f = model.predict(sm.add_constant(X))\n",
    "response = list(map(round, f))\n",
    "p_resp = len(list(filter(lambda x: x == 1, response))) / len(response)\n",
    "\n",
    "OR = p_endog / (1 - p_endog) * (1 - p_resp) / p_resp\n",
    "\n",
    "print(f\"{OR:.2f}\")"
   ]
  },
  {
   "cell_type": "markdown",
   "metadata": {
    "id": "GvDxSeFJ7KBB"
   },
   "source": [
    "## Какова точность (Accuracy) классификации модели при пороге вероятности для классификации p0 = 0.5 ?"
   ]
  },
  {
   "cell_type": "code",
   "execution_count": 11,
   "metadata": {
    "ExecuteTime": {
     "end_time": "2024-04-19T15:41:47.719951Z",
     "start_time": "2024-04-19T15:41:47.713644Z"
    },
    "id": "jBTxkSL77Ld6"
   },
   "outputs": [
    {
     "name": "stdout",
     "output_type": "stream",
     "text": [
      "Точность: 0.84\n"
     ]
    }
   ],
   "source": [
    "print(f\"Точность: {accuracy_score(y, response).round(2)}\")"
   ]
  },
  {
   "cell_type": "markdown",
   "metadata": {
    "id": "Z6XS94qf7MhC"
   },
   "source": [
    "## Постройте модель логистической регрессии Y от X и свободного коэффициента для первых 100 элементов выборки. Имеет ли смысл данная модель согласно критерию Вальда? (p-value=0.05)"
   ]
  },
  {
   "cell_type": "code",
   "execution_count": 12,
   "metadata": {
    "ExecuteTime": {
     "end_time": "2024-04-19T15:41:48.420020Z",
     "start_time": "2024-04-19T15:41:48.388937Z"
    },
    "id": "2O5nyQ5G7ONc",
    "scrolled": false
   },
   "outputs": [
    {
     "data": {
      "text/html": [
       "<table class=\"simpletable\">\n",
       "<caption>OLS Regression Results</caption>\n",
       "<tr>\n",
       "  <th>Dep. Variable:</th>            <td>Y</td>        <th>  R-squared:         </th> <td>   0.631</td>\n",
       "</tr>\n",
       "<tr>\n",
       "  <th>Model:</th>                   <td>OLS</td>       <th>  Adj. R-squared:    </th> <td>   0.590</td>\n",
       "</tr>\n",
       "<tr>\n",
       "  <th>Method:</th>             <td>Least Squares</td>  <th>  F-statistic:       </th> <td>   15.23</td>\n",
       "</tr>\n",
       "<tr>\n",
       "  <th>Date:</th>             <td>Fri, 19 Apr 2024</td> <th>  Prob (F-statistic):</th> <td>1.80e-15</td>\n",
       "</tr>\n",
       "<tr>\n",
       "  <th>Time:</th>                 <td>18:41:48</td>     <th>  Log-Likelihood:    </th> <td> -21.983</td>\n",
       "</tr>\n",
       "<tr>\n",
       "  <th>No. Observations:</th>      <td>   100</td>      <th>  AIC:               </th> <td>   65.97</td>\n",
       "</tr>\n",
       "<tr>\n",
       "  <th>Df Residuals:</th>          <td>    89</td>      <th>  BIC:               </th> <td>   94.62</td>\n",
       "</tr>\n",
       "<tr>\n",
       "  <th>Df Model:</th>              <td>    10</td>      <th>                     </th>     <td> </td>   \n",
       "</tr>\n",
       "<tr>\n",
       "  <th>Covariance Type:</th>      <td>nonrobust</td>    <th>                     </th>     <td> </td>   \n",
       "</tr>\n",
       "</table>\n",
       "<table class=\"simpletable\">\n",
       "<tr>\n",
       "    <td></td>       <th>coef</th>     <th>std err</th>      <th>t</th>      <th>P>|t|</th>  <th>[0.025</th>    <th>0.975]</th>  \n",
       "</tr>\n",
       "<tr>\n",
       "  <th>const</th> <td>    0.5571</td> <td>    0.033</td> <td>   16.946</td> <td> 0.000</td> <td>    0.492</td> <td>    0.622</td>\n",
       "</tr>\n",
       "<tr>\n",
       "  <th>X0</th>    <td>    0.2084</td> <td>    0.030</td> <td>    6.842</td> <td> 0.000</td> <td>    0.148</td> <td>    0.269</td>\n",
       "</tr>\n",
       "<tr>\n",
       "  <th>X1</th>    <td>    0.1768</td> <td>    0.030</td> <td>    5.870</td> <td> 0.000</td> <td>    0.117</td> <td>    0.237</td>\n",
       "</tr>\n",
       "<tr>\n",
       "  <th>X2</th>    <td>    0.2098</td> <td>    0.032</td> <td>    6.469</td> <td> 0.000</td> <td>    0.145</td> <td>    0.274</td>\n",
       "</tr>\n",
       "<tr>\n",
       "  <th>X3</th>    <td>    0.1650</td> <td>    0.041</td> <td>    3.988</td> <td> 0.000</td> <td>    0.083</td> <td>    0.247</td>\n",
       "</tr>\n",
       "<tr>\n",
       "  <th>X4</th>    <td>    0.2516</td> <td>    0.042</td> <td>    5.926</td> <td> 0.000</td> <td>    0.167</td> <td>    0.336</td>\n",
       "</tr>\n",
       "<tr>\n",
       "  <th>X5</th>    <td>   -0.0159</td> <td>    0.032</td> <td>   -0.505</td> <td> 0.615</td> <td>   -0.079</td> <td>    0.047</td>\n",
       "</tr>\n",
       "<tr>\n",
       "  <th>X6</th>    <td>    0.0226</td> <td>    0.035</td> <td>    0.654</td> <td> 0.515</td> <td>   -0.046</td> <td>    0.091</td>\n",
       "</tr>\n",
       "<tr>\n",
       "  <th>X7</th>    <td>    0.0295</td> <td>    0.032</td> <td>    0.921</td> <td> 0.360</td> <td>   -0.034</td> <td>    0.093</td>\n",
       "</tr>\n",
       "<tr>\n",
       "  <th>X8</th>    <td>   -0.0361</td> <td>    0.032</td> <td>   -1.116</td> <td> 0.267</td> <td>   -0.100</td> <td>    0.028</td>\n",
       "</tr>\n",
       "<tr>\n",
       "  <th>X9</th>    <td>   -0.0883</td> <td>    0.036</td> <td>   -2.423</td> <td> 0.017</td> <td>   -0.161</td> <td>   -0.016</td>\n",
       "</tr>\n",
       "</table>\n",
       "<table class=\"simpletable\">\n",
       "<tr>\n",
       "  <th>Omnibus:</th>       <td> 3.414</td> <th>  Durbin-Watson:     </th> <td>   1.951</td>\n",
       "</tr>\n",
       "<tr>\n",
       "  <th>Prob(Omnibus):</th> <td> 0.181</td> <th>  Jarque-Bera (JB):  </th> <td>   1.968</td>\n",
       "</tr>\n",
       "<tr>\n",
       "  <th>Skew:</th>          <td>-0.001</td> <th>  Prob(JB):          </th> <td>   0.374</td>\n",
       "</tr>\n",
       "<tr>\n",
       "  <th>Kurtosis:</th>      <td> 2.313</td> <th>  Cond. No.          </th> <td>    1.89</td>\n",
       "</tr>\n",
       "</table><br/><br/>Notes:<br/>[1] Standard Errors assume that the covariance matrix of the errors is correctly specified."
      ],
      "text/latex": [
       "\\begin{center}\n",
       "\\begin{tabular}{lclc}\n",
       "\\toprule\n",
       "\\textbf{Dep. Variable:}    &        Y         & \\textbf{  R-squared:         } &     0.631   \\\\\n",
       "\\textbf{Model:}            &       OLS        & \\textbf{  Adj. R-squared:    } &     0.590   \\\\\n",
       "\\textbf{Method:}           &  Least Squares   & \\textbf{  F-statistic:       } &     15.23   \\\\\n",
       "\\textbf{Date:}             & Fri, 19 Apr 2024 & \\textbf{  Prob (F-statistic):} &  1.80e-15   \\\\\n",
       "\\textbf{Time:}             &     18:41:48     & \\textbf{  Log-Likelihood:    } &   -21.983   \\\\\n",
       "\\textbf{No. Observations:} &         100      & \\textbf{  AIC:               } &     65.97   \\\\\n",
       "\\textbf{Df Residuals:}     &          89      & \\textbf{  BIC:               } &     94.62   \\\\\n",
       "\\textbf{Df Model:}         &          10      & \\textbf{                     } &             \\\\\n",
       "\\textbf{Covariance Type:}  &    nonrobust     & \\textbf{                     } &             \\\\\n",
       "\\bottomrule\n",
       "\\end{tabular}\n",
       "\\begin{tabular}{lcccccc}\n",
       "               & \\textbf{coef} & \\textbf{std err} & \\textbf{t} & \\textbf{P$> |$t$|$} & \\textbf{[0.025} & \\textbf{0.975]}  \\\\\n",
       "\\midrule\n",
       "\\textbf{const} &       0.5571  &        0.033     &    16.946  &         0.000        &        0.492    &        0.622     \\\\\n",
       "\\textbf{X0}    &       0.2084  &        0.030     &     6.842  &         0.000        &        0.148    &        0.269     \\\\\n",
       "\\textbf{X1}    &       0.1768  &        0.030     &     5.870  &         0.000        &        0.117    &        0.237     \\\\\n",
       "\\textbf{X2}    &       0.2098  &        0.032     &     6.469  &         0.000        &        0.145    &        0.274     \\\\\n",
       "\\textbf{X3}    &       0.1650  &        0.041     &     3.988  &         0.000        &        0.083    &        0.247     \\\\\n",
       "\\textbf{X4}    &       0.2516  &        0.042     &     5.926  &         0.000        &        0.167    &        0.336     \\\\\n",
       "\\textbf{X5}    &      -0.0159  &        0.032     &    -0.505  &         0.615        &       -0.079    &        0.047     \\\\\n",
       "\\textbf{X6}    &       0.0226  &        0.035     &     0.654  &         0.515        &       -0.046    &        0.091     \\\\\n",
       "\\textbf{X7}    &       0.0295  &        0.032     &     0.921  &         0.360        &       -0.034    &        0.093     \\\\\n",
       "\\textbf{X8}    &      -0.0361  &        0.032     &    -1.116  &         0.267        &       -0.100    &        0.028     \\\\\n",
       "\\textbf{X9}    &      -0.0883  &        0.036     &    -2.423  &         0.017        &       -0.161    &       -0.016     \\\\\n",
       "\\bottomrule\n",
       "\\end{tabular}\n",
       "\\begin{tabular}{lclc}\n",
       "\\textbf{Omnibus:}       &  3.414 & \\textbf{  Durbin-Watson:     } &    1.951  \\\\\n",
       "\\textbf{Prob(Omnibus):} &  0.181 & \\textbf{  Jarque-Bera (JB):  } &    1.968  \\\\\n",
       "\\textbf{Skew:}          & -0.001 & \\textbf{  Prob(JB):          } &    0.374  \\\\\n",
       "\\textbf{Kurtosis:}      &  2.313 & \\textbf{  Cond. No.          } &     1.89  \\\\\n",
       "\\bottomrule\n",
       "\\end{tabular}\n",
       "%\\caption{OLS Regression Results}\n",
       "\\end{center}\n",
       "\n",
       "Notes: \\newline\n",
       " [1] Standard Errors assume that the covariance matrix of the errors is correctly specified."
      ],
      "text/plain": [
       "<class 'statsmodels.iolib.summary.Summary'>\n",
       "\"\"\"\n",
       "                            OLS Regression Results                            \n",
       "==============================================================================\n",
       "Dep. Variable:                      Y   R-squared:                       0.631\n",
       "Model:                            OLS   Adj. R-squared:                  0.590\n",
       "Method:                 Least Squares   F-statistic:                     15.23\n",
       "Date:                Fri, 19 Apr 2024   Prob (F-statistic):           1.80e-15\n",
       "Time:                        18:41:48   Log-Likelihood:                -21.983\n",
       "No. Observations:                 100   AIC:                             65.97\n",
       "Df Residuals:                      89   BIC:                             94.62\n",
       "Df Model:                          10                                         \n",
       "Covariance Type:            nonrobust                                         \n",
       "==============================================================================\n",
       "                 coef    std err          t      P>|t|      [0.025      0.975]\n",
       "------------------------------------------------------------------------------\n",
       "const          0.5571      0.033     16.946      0.000       0.492       0.622\n",
       "X0             0.2084      0.030      6.842      0.000       0.148       0.269\n",
       "X1             0.1768      0.030      5.870      0.000       0.117       0.237\n",
       "X2             0.2098      0.032      6.469      0.000       0.145       0.274\n",
       "X3             0.1650      0.041      3.988      0.000       0.083       0.247\n",
       "X4             0.2516      0.042      5.926      0.000       0.167       0.336\n",
       "X5            -0.0159      0.032     -0.505      0.615      -0.079       0.047\n",
       "X6             0.0226      0.035      0.654      0.515      -0.046       0.091\n",
       "X7             0.0295      0.032      0.921      0.360      -0.034       0.093\n",
       "X8            -0.0361      0.032     -1.116      0.267      -0.100       0.028\n",
       "X9            -0.0883      0.036     -2.423      0.017      -0.161      -0.016\n",
       "==============================================================================\n",
       "Omnibus:                        3.414   Durbin-Watson:                   1.951\n",
       "Prob(Omnibus):                  0.181   Jarque-Bera (JB):                1.968\n",
       "Skew:                          -0.001   Prob(JB):                        0.374\n",
       "Kurtosis:                       2.313   Cond. No.                         1.89\n",
       "==============================================================================\n",
       "\n",
       "Notes:\n",
       "[1] Standard Errors assume that the covariance matrix of the errors is correctly specified.\n",
       "\"\"\""
      ]
     },
     "execution_count": 12,
     "metadata": {},
     "output_type": "execute_result"
    }
   ],
   "source": [
    "model100 = sm.OLS(endog=y[:100], exog=sm.add_constant(X[:100])).fit()\n",
    "model100.summary()"
   ]
  },
  {
   "cell_type": "code",
   "execution_count": 13,
   "metadata": {
    "ExecuteTime": {
     "end_time": "2024-04-19T15:41:48.956144Z",
     "start_time": "2024-04-19T15:41:48.948014Z"
    }
   },
   "outputs": [
    {
     "name": "stdout",
     "output_type": "stream",
     "text": [
      "True\n"
     ]
    }
   ],
   "source": [
    "model100.wald_test('X0 = X1 = X2 = X3 = X4 = X5 = X6 = X7 = X8 = X9 = 0', scalar=False)\n",
    "print(model100.f_pvalue < 0.05)"
   ]
  },
  {
   "cell_type": "markdown",
   "metadata": {
    "id": "PTw7tK1H7QjS"
   },
   "source": [
    "## Можно ли обнулить первые четыре переменные согласно критерию Вальда? (p-value=0.05)"
   ]
  },
  {
   "cell_type": "code",
   "execution_count": 14,
   "metadata": {
    "ExecuteTime": {
     "end_time": "2024-04-19T15:41:50.202197Z",
     "start_time": "2024-04-19T15:41:50.195986Z"
    },
    "id": "gPNZTOF37SDn"
   },
   "outputs": [
    {
     "name": "stdout",
     "output_type": "stream",
     "text": [
      "False\n"
     ]
    }
   ],
   "source": [
    "model100.wald_test('X0 = X1 = X2 = X3 = 0', scalar=False)\n",
    "print(model100.f_pvalue >= 0.05)"
   ]
  }
 ],
 "metadata": {
  "colab": {
   "name": "sem8.ipynb",
   "provenance": []
  },
  "kernelspec": {
   "display_name": "Python 3 (ipykernel)",
   "language": "python",
   "name": "python3"
  },
  "language_info": {
   "codemirror_mode": {
    "name": "ipython",
    "version": 3
   },
   "file_extension": ".py",
   "mimetype": "text/x-python",
   "name": "python",
   "nbconvert_exporter": "python",
   "pygments_lexer": "ipython3",
   "version": "3.11.5"
  }
 },
 "nbformat": 4,
 "nbformat_minor": 1
}
