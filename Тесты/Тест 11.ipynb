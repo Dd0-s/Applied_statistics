{
 "cells": [
  {
   "cell_type": "markdown",
   "metadata": {
    "id": "SWpzzBKX5lab"
   },
   "source": [
    "# Библиотеки"
   ]
  },
  {
   "cell_type": "code",
   "execution_count": 22,
   "metadata": {
    "ExecuteTime": {
     "end_time": "2024-05-03T16:00:28.929963Z",
     "start_time": "2024-05-03T16:00:28.925014Z"
    },
    "id": "DVElVx3w5lag",
    "scrolled": true
   },
   "outputs": [],
   "source": [
    "from zlib import crc32\n",
    "\n",
    "import numpy as np\n",
    "import pandas as pd\n",
    "import scipy.stats as st\n",
    "import networkx as nx\n",
    "import re\n",
    "\n",
    "import collections.abc\n",
    "collections.Iterable = collections.abc.Iterable\n",
    "collections.Mapping = collections.abc.Mapping\n",
    "collections.MutableSet = collections.abc.MutableSet\n",
    "collections.MutableMapping = collections.abc.MutableMapping\n",
    "from causalgraphicalmodels import CausalGraphicalModel"
   ]
  },
  {
   "cell_type": "markdown",
   "metadata": {
    "id": "W10bESh65lah"
   },
   "source": [
    "# Код генерации выборки"
   ]
  },
  {
   "cell_type": "code",
   "execution_count": 2,
   "metadata": {
    "ExecuteTime": {
     "end_time": "2024-05-03T15:45:02.439616Z",
     "start_time": "2024-05-03T15:45:02.432355Z"
    },
    "id": "-dRusc3I5lai"
   },
   "outputs": [],
   "source": [
    "EMAIL_REGEX = re.compile(r\"[^@]+@phystech.edu\")\n",
    "\n",
    "def generate_dataset(code):\n",
    "    rs = np.random.RandomState(code)\n",
    "    g = nx.DiGraph(nodes=[str(i) for i in range(5)])\n",
    "    edges = []\n",
    "    for i in range(5):\n",
    "        for j in range(5):\n",
    "            if i == j:\n",
    "                continue\n",
    "            if rs.uniform() > 0.35:\n",
    "                g.add_edge(str(i),str(j))\n",
    "                if not nx.is_directed_acyclic_graph(g):\n",
    "                    g.remove_edge(str(i),str(j))\n",
    "                else:\n",
    "                    edges.append((str(i), str(j)))\n",
    "\n",
    "    edges = [[int(a[0]), int(a[1])] for a in edges]\n",
    "    edges = np.array(edges).astype(np.uint32)\n",
    "    return edges"
   ]
  },
  {
   "cell_type": "markdown",
   "metadata": {
    "id": "LXkXPYIz5laj"
   },
   "source": [
    "# Генерация выборки для вашей почты\n",
    "\n",
    "<span style=\"color:red\">\n",
    "    ВАЖНО!\n",
    "    Почта, которую укажете ниже и почта с которой Вы отправляете домашнее задание должна совпадать!\n",
    "    В момент проверки задания алгоритм генерирует выборку на основе почты из анкеты!\n",
    "</span>\n",
    "\n",
    "Внимательно проверьте почту для которой выполняется задание!"
   ]
  },
  {
   "cell_type": "code",
   "execution_count": 3,
   "metadata": {
    "ExecuteTime": {
     "end_time": "2024-05-03T15:45:12.276570Z",
     "start_time": "2024-05-03T15:45:03.909327Z"
    },
    "id": "h8bMsPHy5laj"
   },
   "outputs": [
    {
     "name": "stdout",
     "output_type": "stream",
     "text": [
      "Enter your mail: bogdanov.ai@phystech.edu\n"
     ]
    },
    {
     "data": {
      "text/plain": [
       "{'mail': 'bogdanov.ai@phystech.edu',\n",
       " 'id': 1162440694,\n",
       " 'data': array([[0, 1],\n",
       "        [0, 3],\n",
       "        [0, 4],\n",
       "        [1, 3],\n",
       "        [2, 1],\n",
       "        [2, 3],\n",
       "        [3, 4]], dtype=uint32)}"
      ]
     },
     "execution_count": 3,
     "metadata": {},
     "output_type": "execute_result"
    }
   ],
   "source": [
    "task = dict()\n",
    "task['mail'] = input(prompt='Enter your mail: ')\n",
    "assert EMAIL_REGEX.match(task['mail']), 'Not a mail in the phystech.edu domain'\n",
    "task['id'] = crc32(task['mail'].encode('utf-8'))\n",
    "task['data'] = generate_dataset(task['id'])\n",
    "\n",
    "task"
   ]
  },
  {
   "cell_type": "markdown",
   "metadata": {
    "id": "WprDKyMv5lak"
   },
   "source": [
    "# Работа с выборкой"
   ]
  },
  {
   "cell_type": "code",
   "execution_count": 4,
   "metadata": {
    "ExecuteTime": {
     "end_time": "2024-05-03T15:45:15.094874Z",
     "start_time": "2024-05-03T15:45:15.091601Z"
    },
    "id": "ZHQaq3RJ5lal"
   },
   "outputs": [],
   "source": [
    "data = task['data']"
   ]
  },
  {
   "cell_type": "code",
   "execution_count": 5,
   "metadata": {
    "ExecuteTime": {
     "end_time": "2024-05-03T15:46:25.327042Z",
     "start_time": "2024-05-03T15:46:25.321719Z"
    },
    "scrolled": true
   },
   "outputs": [
    {
     "data": {
      "text/plain": [
       "[('0', '1'),\n",
       " ('0', '3'),\n",
       " ('0', '4'),\n",
       " ('1', '3'),\n",
       " ('2', '1'),\n",
       " ('2', '3'),\n",
       " ('3', '4')]"
      ]
     },
     "execution_count": 5,
     "metadata": {},
     "output_type": "execute_result"
    }
   ],
   "source": [
    "edges = [tuple(tuple(map(str, x))) for x in data]\n",
    "edges"
   ]
  },
  {
   "cell_type": "code",
   "execution_count": 16,
   "metadata": {
    "ExecuteTime": {
     "end_time": "2024-05-03T15:55:18.761925Z",
     "start_time": "2024-05-03T15:55:17.967737Z"
    }
   },
   "outputs": [
    {
     "data": {
      "image/svg+xml": [
       "<?xml version=\"1.0\" encoding=\"UTF-8\" standalone=\"no\"?>\n",
       "<!DOCTYPE svg PUBLIC \"-//W3C//DTD SVG 1.1//EN\"\n",
       " \"http://www.w3.org/Graphics/SVG/1.1/DTD/svg11.dtd\">\n",
       "<!-- Generated by graphviz version 10.0.1 (20240210.2158)\n",
       " -->\n",
       "<!-- Pages: 1 -->\n",
       "<svg width=\"154pt\" height=\"260pt\"\n",
       " viewBox=\"0.00 0.00 154.00 260.00\" xmlns=\"http://www.w3.org/2000/svg\" xmlns:xlink=\"http://www.w3.org/1999/xlink\">\n",
       "<g id=\"graph0\" class=\"graph\" transform=\"scale(1 1) rotate(0) translate(4 256)\">\n",
       "<polygon fill=\"white\" stroke=\"none\" points=\"-4,4 -4,-256 150,-256 150,4 -4,4\"/>\n",
       "<!-- 3 -->\n",
       "<g id=\"node1\" class=\"node\">\n",
       "<title>3</title>\n",
       "<ellipse fill=\"none\" stroke=\"black\" cx=\"64\" cy=\"-90\" rx=\"27\" ry=\"18\"/>\n",
       "<text text-anchor=\"middle\" x=\"64\" y=\"-84.95\" font-family=\"Times,serif\" font-size=\"14.00\">3</text>\n",
       "</g>\n",
       "<!-- 4 -->\n",
       "<g id=\"node5\" class=\"node\">\n",
       "<title>4</title>\n",
       "<ellipse fill=\"none\" stroke=\"black\" cx=\"27\" cy=\"-18\" rx=\"27\" ry=\"18\"/>\n",
       "<text text-anchor=\"middle\" x=\"27\" y=\"-12.95\" font-family=\"Times,serif\" font-size=\"14.00\">4</text>\n",
       "</g>\n",
       "<!-- 3&#45;&gt;4 -->\n",
       "<g id=\"edge7\" class=\"edge\">\n",
       "<title>3&#45;&gt;4</title>\n",
       "<path fill=\"none\" stroke=\"black\" d=\"M55.42,-72.76C51.08,-64.55 45.7,-54.37 40.79,-45.09\"/>\n",
       "<polygon fill=\"black\" stroke=\"black\" points=\"44.01,-43.69 36.24,-36.49 37.82,-46.96 44.01,-43.69\"/>\n",
       "</g>\n",
       "<!-- 2 -->\n",
       "<g id=\"node2\" class=\"node\">\n",
       "<title>2</title>\n",
       "<ellipse fill=\"none\" stroke=\"black\" cx=\"119\" cy=\"-234\" rx=\"27\" ry=\"18\"/>\n",
       "<text text-anchor=\"middle\" x=\"119\" y=\"-228.95\" font-family=\"Times,serif\" font-size=\"14.00\">2</text>\n",
       "</g>\n",
       "<!-- 2&#45;&gt;3 -->\n",
       "<g id=\"edge6\" class=\"edge\">\n",
       "<title>2&#45;&gt;3</title>\n",
       "<path fill=\"none\" stroke=\"black\" d=\"M122.84,-215.81C126.13,-197.29 128.91,-167.32 119,-144 113.38,-130.79 102.68,-119.27 92.19,-110.38\"/>\n",
       "<polygon fill=\"black\" stroke=\"black\" points=\"94.38,-107.64 84.36,-104.2 90.04,-113.14 94.38,-107.64\"/>\n",
       "</g>\n",
       "<!-- 1 -->\n",
       "<g id=\"node4\" class=\"node\">\n",
       "<title>1</title>\n",
       "<ellipse fill=\"none\" stroke=\"black\" cx=\"83\" cy=\"-162\" rx=\"27\" ry=\"18\"/>\n",
       "<text text-anchor=\"middle\" x=\"83\" y=\"-156.95\" font-family=\"Times,serif\" font-size=\"14.00\">1</text>\n",
       "</g>\n",
       "<!-- 2&#45;&gt;1 -->\n",
       "<g id=\"edge5\" class=\"edge\">\n",
       "<title>2&#45;&gt;1</title>\n",
       "<path fill=\"none\" stroke=\"black\" d=\"M110.65,-216.76C106.42,-208.55 101.19,-198.37 96.42,-189.09\"/>\n",
       "<polygon fill=\"black\" stroke=\"black\" points=\"99.68,-187.79 92,-180.49 93.46,-190.99 99.68,-187.79\"/>\n",
       "</g>\n",
       "<!-- 0 -->\n",
       "<g id=\"node3\" class=\"node\">\n",
       "<title>0</title>\n",
       "<ellipse fill=\"none\" stroke=\"black\" cx=\"28\" cy=\"-234\" rx=\"27\" ry=\"18\"/>\n",
       "<text text-anchor=\"middle\" x=\"28\" y=\"-228.95\" font-family=\"Times,serif\" font-size=\"14.00\">0</text>\n",
       "</g>\n",
       "<!-- 0&#45;&gt;3 -->\n",
       "<g id=\"edge2\" class=\"edge\">\n",
       "<title>0&#45;&gt;3</title>\n",
       "<path fill=\"none\" stroke=\"black\" d=\"M31.14,-215.82C34.55,-197.8 40.41,-168.73 47,-144 49.2,-135.75 51.9,-126.88 54.51,-118.8\"/>\n",
       "<polygon fill=\"black\" stroke=\"black\" points=\"57.77,-120.09 57.58,-109.49 51.12,-117.9 57.77,-120.09\"/>\n",
       "</g>\n",
       "<!-- 0&#45;&gt;1 -->\n",
       "<g id=\"edge1\" class=\"edge\">\n",
       "<title>0&#45;&gt;1</title>\n",
       "<path fill=\"none\" stroke=\"black\" d=\"M40.21,-217.46C47.11,-208.67 55.91,-197.48 63.73,-187.53\"/>\n",
       "<polygon fill=\"black\" stroke=\"black\" points=\"66.47,-189.71 69.89,-179.68 60.96,-185.38 66.47,-189.71\"/>\n",
       "</g>\n",
       "<!-- 0&#45;&gt;4 -->\n",
       "<g id=\"edge3\" class=\"edge\">\n",
       "<title>0&#45;&gt;4</title>\n",
       "<path fill=\"none\" stroke=\"black\" d=\"M27.92,-215.85C27.75,-179.14 27.34,-92.66 27.13,-47.53\"/>\n",
       "<polygon fill=\"black\" stroke=\"black\" points=\"30.63,-47.73 27.09,-37.75 23.63,-47.76 30.63,-47.73\"/>\n",
       "</g>\n",
       "<!-- 1&#45;&gt;3 -->\n",
       "<g id=\"edge4\" class=\"edge\">\n",
       "<title>1&#45;&gt;3</title>\n",
       "<path fill=\"none\" stroke=\"black\" d=\"M78.4,-144.05C76.35,-136.49 73.87,-127.37 71.56,-118.85\"/>\n",
       "<polygon fill=\"black\" stroke=\"black\" points=\"74.95,-117.98 68.95,-109.25 68.2,-119.82 74.95,-117.98\"/>\n",
       "</g>\n",
       "</g>\n",
       "</svg>\n"
      ],
      "text/plain": [
       "<graphviz.graphs.Digraph at 0x2a10a6290>"
      ]
     },
     "execution_count": 16,
     "metadata": {},
     "output_type": "execute_result"
    }
   ],
   "source": [
    "G = CausalGraphicalModel(nodes=['0', '1', '2', '3', '4'], edges=edges)\n",
    "G.draw()"
   ]
  },
  {
   "cell_type": "markdown",
   "metadata": {
    "id": "jbUSkOk9xrPU"
   },
   "source": [
    "## Количество цепочек (из 3 вершин) внутри графа"
   ]
  },
  {
   "cell_type": "markdown",
   "metadata": {},
   "source": [
    "Как видно: 4."
   ]
  },
  {
   "cell_type": "markdown",
   "metadata": {
    "id": "_KIigKJsxuQL"
   },
   "source": [
    "## Количество вилок внутри графа"
   ]
  },
  {
   "cell_type": "markdown",
   "metadata": {},
   "source": [
    "Как видно: 4."
   ]
  },
  {
   "cell_type": "markdown",
   "metadata": {
    "id": "XuVfsakDxwra"
   },
   "source": [
    "## Количество коллайдеров внутри графа"
   ]
  },
  {
   "cell_type": "markdown",
   "metadata": {
    "ExecuteTime": {
     "end_time": "2024-05-03T16:02:10.113993Z",
     "start_time": "2024-05-03T16:02:10.106669Z"
    }
   },
   "source": [
    "Как видно: 5."
   ]
  }
 ],
 "metadata": {
  "colab": {
   "name": "sem11.ipynb",
   "provenance": []
  },
  "kernelspec": {
   "display_name": "Python 3 (ipykernel)",
   "language": "python",
   "name": "python3"
  },
  "language_info": {
   "codemirror_mode": {
    "name": "ipython",
    "version": 3
   },
   "file_extension": ".py",
   "mimetype": "text/x-python",
   "name": "python",
   "nbconvert_exporter": "python",
   "pygments_lexer": "ipython3",
   "version": "3.11.5"
  }
 },
 "nbformat": 4,
 "nbformat_minor": 1
}
