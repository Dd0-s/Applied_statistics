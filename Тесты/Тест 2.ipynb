{
 "cells": [
  {
   "cell_type": "markdown",
   "metadata": {
    "id": "SWpzzBKX5lab"
   },
   "source": [
    "# Библиотеки"
   ]
  },
  {
   "cell_type": "code",
   "execution_count": 13,
   "metadata": {
    "ExecuteTime": {
     "end_time": "2024-02-20T06:44:37.741746Z",
     "start_time": "2024-02-20T06:44:37.608574Z"
    },
    "id": "DVElVx3w5lag"
   },
   "outputs": [],
   "source": [
    "from zlib import crc32\n",
    "\n",
    "import numpy as np\n",
    "import pandas as pd\n",
    "import scipy.stats as st\n",
    "from scipy.stats import jarque_bera\n",
    "from scipy.stats import shapiro\n",
    "from sklearn import preprocessing"
   ]
  },
  {
   "cell_type": "markdown",
   "metadata": {
    "id": "W10bESh65lah"
   },
   "source": [
    "# Код генерации выборки"
   ]
  },
  {
   "cell_type": "code",
   "execution_count": 2,
   "metadata": {
    "ExecuteTime": {
     "end_time": "2024-02-20T06:31:15.501727Z",
     "start_time": "2024-02-20T06:31:15.495146Z"
    },
    "id": "-dRusc3I5lai"
   },
   "outputs": [],
   "source": [
    "import re\n",
    "EMAIL_REGEX = re.compile(r\"[^@]+@phystech.edu\")\n",
    "\n",
    "def generate_dataset(code):\n",
    "    rs = np.random.RandomState(code)\n",
    "    data = rs.randn(100)\n",
    "    noise_case = rs.randint(low = 0, high = 3)\n",
    "    max_attemp_num = 10000\n",
    "    if noise_case == 0:\n",
    "        bad = True\n",
    "        attemps = 0\n",
    "        while bad and attemps < max_attemp_num:\n",
    "            data2 = data + rs.laplace(size = (100)) * 0.25\n",
    "            p1 = jarque_bera(data2)[1]\n",
    "            p2 = shapiro(data2)[1]\n",
    "            \n",
    "            if p1 < 0.05 and p2 > 0.05:\n",
    "                bad = False\n",
    "        data = data2\n",
    "        if bad:\n",
    "            print ('could not')\n",
    "    elif noise_case == 1:\n",
    "        data = data + rs.gamma(1, size=(100))*0.5\n",
    "    elif noise_case == 2:\n",
    "        data = data +  rs.uniform()*1.5\n",
    "        \n",
    "    return data"
   ]
  },
  {
   "cell_type": "markdown",
   "metadata": {
    "id": "LXkXPYIz5laj"
   },
   "source": [
    "# Генерация выборки для вашей почты\n",
    "\n",
    "<span style=\"color:red\">\n",
    "    ВАЖНО!\n",
    "    Почта, которую укажете ниже и почта с которой Вы отправляете домашнее задание должна совпадать!\n",
    "    В момент проверки задания алгоритм генерирует выборку на основе почты из анкеты!\n",
    "</span>\n",
    "\n",
    "Внимательно проверьте почту для которой выполняется задание!"
   ]
  },
  {
   "cell_type": "code",
   "execution_count": 3,
   "metadata": {
    "ExecuteTime": {
     "end_time": "2024-02-20T06:31:30.182810Z",
     "start_time": "2024-02-20T06:31:18.745909Z"
    },
    "id": "h8bMsPHy5laj"
   },
   "outputs": [
    {
     "name": "stdout",
     "output_type": "stream",
     "text": [
      "Enter your mail: bogdanov.ai@phystech.edu\n"
     ]
    },
    {
     "data": {
      "text/plain": [
       "{'mail': 'bogdanov.ai@phystech.edu',\n",
       " 'id': 1162440694,\n",
       " 'data': array([-9.61774953e-01,  6.69269582e-01,  7.52536655e-01,  7.72096892e-01,\n",
       "         2.48307824e-01,  4.27275676e-01, -3.68268132e-01,  2.68664185e-01,\n",
       "         7.63657750e-01, -2.71434053e-01, -1.02881203e+00,  1.11595523e+00,\n",
       "        -7.36590113e-01,  1.56319505e+00,  1.89837670e+00,  7.23331331e-01,\n",
       "        -7.79337322e-01,  2.44787707e+00, -4.64604442e-01, -9.74178889e-01,\n",
       "        -7.33371037e-01,  7.73970306e-01,  3.18752138e-01,  7.51634790e-01,\n",
       "        -1.99153929e-01,  1.29853253e+00,  6.31625806e-02,  1.21256654e+00,\n",
       "         1.22007858e+00,  1.25859743e+00,  1.21085906e+00,  2.48274891e+00,\n",
       "         2.38067259e+00,  4.02601428e-01, -3.33556024e-01,  9.72038927e-01,\n",
       "         2.77289621e+00,  7.08850403e-01, -1.47917564e+00,  2.14859409e+00,\n",
       "         8.00274537e-01,  1.12240139e+00, -1.60297937e+00,  1.86434042e+00,\n",
       "         3.80100119e-01,  7.67117960e-01,  1.73131646e-01,  1.83609421e-03,\n",
       "        -6.46675174e-01,  6.73794539e-01,  1.98564082e+00,  3.16565108e-01,\n",
       "         2.29371223e+00,  7.74997921e-03, -7.01924487e-01,  1.23958156e+00,\n",
       "         6.73926471e-01,  4.45023111e-01, -4.90918980e-01,  4.18658522e-01,\n",
       "         4.68975001e-01,  8.06816191e-01,  8.56351213e-01,  4.76806469e-01,\n",
       "        -1.07977992e+00,  2.73864676e+00,  1.56770171e+00,  5.62762175e-01,\n",
       "         6.32877120e-01,  3.11959736e-01,  7.46844647e-01,  1.44940821e+00,\n",
       "         2.31564458e+00, -3.92397010e-01, -2.22706138e-01,  2.07705897e+00,\n",
       "        -4.73458343e-01, -3.86209822e-01, -7.06620263e-01, -1.38013889e+00,\n",
       "        -3.15613243e-01,  8.97369172e-01,  4.25443279e-01,  6.30830086e-01,\n",
       "         8.79009840e-01, -2.74462362e-01, -1.27342610e-01,  1.75640147e+00,\n",
       "         1.27565806e+00, -2.69985740e-01,  9.99170288e-01,  7.51234164e-01,\n",
       "         2.69746856e+00,  4.24686567e-01,  1.62909490e-01,  1.75256506e+00,\n",
       "        -1.44516661e+00,  5.81233689e-01,  6.82747651e-01,  3.89024908e+00])}"
      ]
     },
     "execution_count": 3,
     "metadata": {},
     "output_type": "execute_result"
    }
   ],
   "source": [
    "task = dict()\n",
    "task['mail'] = input(prompt='Enter your mail: ')\n",
    "assert EMAIL_REGEX.match(task['mail']), 'Not a mail in the phystech.edu domain'\n",
    "task['id'] = crc32(task['mail'].encode('utf-8'))\n",
    "task['data'] = generate_dataset(task['id'])\n",
    "\n",
    "task"
   ]
  },
  {
   "cell_type": "markdown",
   "metadata": {
    "id": "WprDKyMv5lak"
   },
   "source": [
    "# Работа с выборкой"
   ]
  },
  {
   "cell_type": "code",
   "execution_count": 4,
   "metadata": {
    "ExecuteTime": {
     "end_time": "2024-02-20T06:31:35.549114Z",
     "start_time": "2024-02-20T06:31:35.545325Z"
    },
    "id": "ZHQaq3RJ5lal"
   },
   "outputs": [],
   "source": [
    "data = task['data']"
   ]
  },
  {
   "cell_type": "markdown",
   "metadata": {
    "id": "uVTApKH3n9qR"
   },
   "source": [
    "## Выборочное среднее по выборке"
   ]
  },
  {
   "cell_type": "code",
   "execution_count": 5,
   "metadata": {
    "ExecuteTime": {
     "end_time": "2024-02-20T06:32:06.506922Z",
     "start_time": "2024-02-20T06:32:06.502772Z"
    },
    "id": "y3U23VKk5lal"
   },
   "outputs": [
    {
     "name": "stdout",
     "output_type": "stream",
     "text": [
      "mean=0.5876314864271288\n"
     ]
    }
   ],
   "source": [
    "print('mean={}'.format(np.mean(data)))"
   ]
  },
  {
   "cell_type": "markdown",
   "metadata": {
    "id": "0f0tGtoRoDwr"
   },
   "source": [
    "## Оценка стандартного отклонения (несмещенная)"
   ]
  },
  {
   "cell_type": "code",
   "execution_count": 6,
   "metadata": {
    "ExecuteTime": {
     "end_time": "2024-02-20T06:32:22.726094Z",
     "start_time": "2024-02-20T06:32:22.721692Z"
    },
    "id": "GJHHvYy8oGKR"
   },
   "outputs": [
    {
     "name": "stdout",
     "output_type": "stream",
     "text": [
      "std=1.0647148883376776\n"
     ]
    }
   ],
   "source": [
    "print('std={}'.format(np.std(data, ddof=1)))"
   ]
  },
  {
   "cell_type": "markdown",
   "metadata": {
    "id": "B-iCVoSOoHIu"
   },
   "source": [
    "## Можно ли отклонить гипотезу о нормальности выборки, используя критерий Харке-Бера (p<=0.05)?"
   ]
  },
  {
   "cell_type": "code",
   "execution_count": 43,
   "metadata": {
    "ExecuteTime": {
     "end_time": "2024-03-01T16:06:47.465529Z",
     "start_time": "2024-03-01T16:06:47.458717Z"
    },
    "id": "fZnIqQRloLQ6"
   },
   "outputs": [
    {
     "data": {
      "text/plain": [
       "False"
      ]
     },
     "execution_count": 43,
     "metadata": {},
     "output_type": "execute_result"
    }
   ],
   "source": [
    "jarque_bera(data).pvalue <= 0.05"
   ]
  },
  {
   "cell_type": "markdown",
   "metadata": {
    "id": "AdwUirsioMCO"
   },
   "source": [
    "## Можно ли отклонить гипотезу о нормальности выборки, используя критерий Шапиро-Уилка (p<=0.05)?"
   ]
  },
  {
   "cell_type": "code",
   "execution_count": 42,
   "metadata": {
    "ExecuteTime": {
     "end_time": "2024-03-01T16:06:45.278104Z",
     "start_time": "2024-03-01T16:06:45.272322Z"
    },
    "id": "OwrmJ1DYoODk"
   },
   "outputs": [
    {
     "data": {
      "text/plain": [
       "False"
      ]
     },
     "execution_count": 42,
     "metadata": {},
     "output_type": "execute_result"
    }
   ],
   "source": [
    "shapiro(data).pvalue <= 0.05"
   ]
  },
  {
   "cell_type": "markdown",
   "metadata": {
    "id": "VdqCVxSdoPIj"
   },
   "source": [
    "## Сумма единиц в бинаризованной выборке (threshold=0.5)"
   ]
  },
  {
   "cell_type": "code",
   "execution_count": 21,
   "metadata": {
    "ExecuteTime": {
     "end_time": "2024-02-20T06:48:02.742237Z",
     "start_time": "2024-02-20T06:48:02.736248Z"
    },
    "id": "w0H4by7QoQ6O"
   },
   "outputs": [
    {
     "name": "stdout",
     "output_type": "stream",
     "text": [
      "53.0\n"
     ]
    }
   ],
   "source": [
    "binarized_data = preprocessing.Binarizer(threshold=0.5).transform(data.reshape(1, -1))\n",
    "summa = binarized_data.sum()\n",
    "print(summa)"
   ]
  },
  {
   "cell_type": "markdown",
   "metadata": {
    "id": "0fqg5hORoRko"
   },
   "source": [
    "## Значение p-value для биномиального теста с двусторонней альтернативой (p0 = 0.5)"
   ]
  },
  {
   "cell_type": "code",
   "execution_count": 28,
   "metadata": {
    "ExecuteTime": {
     "end_time": "2024-02-20T06:51:45.788644Z",
     "start_time": "2024-02-20T06:51:45.783349Z"
    },
    "id": "yHMZJMjHoTWc"
   },
   "outputs": [
    {
     "name": "stdout",
     "output_type": "stream",
     "text": [
      "0.6172994135892521\n"
     ]
    }
   ],
   "source": [
    "print(st.binomtest(int(summa), len(data), 0.5, alternative='two-sided').pvalue)"
   ]
  }
 ],
 "metadata": {
  "colab": {
   "name": "sem2.ipynb",
   "provenance": []
  },
  "kernelspec": {
   "display_name": "Python 3 (ipykernel)",
   "language": "python",
   "name": "python3"
  },
  "language_info": {
   "codemirror_mode": {
    "name": "ipython",
    "version": 3
   },
   "file_extension": ".py",
   "mimetype": "text/x-python",
   "name": "python",
   "nbconvert_exporter": "python",
   "pygments_lexer": "ipython3",
   "version": "3.11.5"
  }
 },
 "nbformat": 4,
 "nbformat_minor": 1
}
