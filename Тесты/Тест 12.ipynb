{
 "cells": [
  {
   "cell_type": "markdown",
   "metadata": {
    "id": "SWpzzBKX5lab"
   },
   "source": [
    "# Библиотеки"
   ]
  },
  {
   "cell_type": "code",
   "execution_count": 29,
   "metadata": {
    "ExecuteTime": {
     "end_time": "2024-05-03T17:30:29.350841Z",
     "start_time": "2024-05-03T17:30:29.345438Z"
    },
    "id": "DVElVx3w5lag"
   },
   "outputs": [],
   "source": [
    "from zlib import crc32\n",
    "\n",
    "import numpy as np\n",
    "import pandas as pd\n",
    "import scipy.stats as st\n",
    "import re\n",
    "\n",
    "from nltk import lm\n",
    "from nltk.util import ngrams as nltk_ngrams\n",
    "from nltk.tag.hmm import HiddenMarkovModelTrainer"
   ]
  },
  {
   "cell_type": "markdown",
   "metadata": {
    "id": "W10bESh65lah"
   },
   "source": [
    "# Код генерации выборки"
   ]
  },
  {
   "cell_type": "code",
   "execution_count": 2,
   "metadata": {
    "ExecuteTime": {
     "end_time": "2024-05-03T17:18:18.094480Z",
     "start_time": "2024-05-03T17:18:18.088063Z"
    },
    "id": "-dRusc3I5lai"
   },
   "outputs": [],
   "source": [
    "EMAIL_REGEX = re.compile(r\"[^@]+@phystech.edu\")\n",
    "\n",
    "def generate_dataset(code):\n",
    "    rs = np.random.RandomState(code)\n",
    "    length = rs.randint(low = 25, high = 75)\n",
    "    proba = rs.uniform()\n",
    "    x = [(rs.uniform() > 0.5) * 1.0]\n",
    "    for i in range(length):\n",
    "        if rs.uniform() < proba:\n",
    "            x.append(x[-1])\n",
    "        else:\n",
    "            x.append(1 - x[-1])\n",
    "    return np.array(x)"
   ]
  },
  {
   "cell_type": "markdown",
   "metadata": {
    "id": "LXkXPYIz5laj"
   },
   "source": [
    "# Генерация выборки для вашей почты\n",
    "\n",
    "<span style=\"color:red\">\n",
    "    ВАЖНО!\n",
    "    Почта, которую укажете ниже и почта с которой Вы отправляете домашнее задание должна совпадать!\n",
    "    В момент проверки задания алгоритм генерирует выборку на основе почты из анкеты!\n",
    "</span>\n",
    "\n",
    "Внимательно проверьте почту для которой выполняется задание!"
   ]
  },
  {
   "cell_type": "code",
   "execution_count": 3,
   "metadata": {
    "ExecuteTime": {
     "end_time": "2024-05-03T17:18:29.052841Z",
     "start_time": "2024-05-03T17:18:19.516777Z"
    },
    "id": "h8bMsPHy5laj"
   },
   "outputs": [
    {
     "name": "stdout",
     "output_type": "stream",
     "text": [
      "Enter your mail: bogdanov.ai@phystech.edu\n"
     ]
    },
    {
     "data": {
      "text/plain": [
       "{'mail': 'bogdanov.ai@phystech.edu',\n",
       " 'id': 1162440694,\n",
       " 'data': array([1., 0., 1., 1., 1., 0., 0., 1., 0., 0., 0., 0., 0., 0., 0., 1., 1.,\n",
       "        0., 0., 0., 1., 0., 1., 1., 0., 0., 1., 1., 1., 0., 0., 1., 1., 1.,\n",
       "        0.])}"
      ]
     },
     "execution_count": 3,
     "metadata": {},
     "output_type": "execute_result"
    }
   ],
   "source": [
    "task = dict()\n",
    "task['mail'] = input(prompt='Enter your mail: ')\n",
    "assert EMAIL_REGEX.match(task['mail']), 'Not a mail in the phystech.edu domain'\n",
    "task['id'] = crc32(task['mail'].encode('utf-8'))\n",
    "task['data'] = generate_dataset(task['id'])\n",
    "\n",
    "task"
   ]
  },
  {
   "cell_type": "markdown",
   "metadata": {
    "id": "WprDKyMv5lak"
   },
   "source": [
    "# Работа с выборкой"
   ]
  },
  {
   "cell_type": "code",
   "execution_count": 72,
   "metadata": {
    "ExecuteTime": {
     "end_time": "2024-05-03T17:42:12.664753Z",
     "start_time": "2024-05-03T17:42:12.660690Z"
    },
    "id": "ZHQaq3RJ5lal"
   },
   "outputs": [],
   "source": [
    "data = task['data']"
   ]
  },
  {
   "cell_type": "markdown",
   "metadata": {
    "id": "TE4EROfTyAiX"
   },
   "source": [
    "## Оценка p(X_{i+1}= 0|X_{i}=0) методом максимального правдоподобия"
   ]
  },
  {
   "cell_type": "code",
   "execution_count": 102,
   "metadata": {
    "ExecuteTime": {
     "end_time": "2024-05-03T17:52:57.031318Z",
     "start_time": "2024-05-03T17:52:57.027343Z"
    },
    "id": "y3U23VKk5lal"
   },
   "outputs": [],
   "source": [
    "tokens = list(map(str, data))\n",
    "vocab = sorted(map(str, list(set(data))))"
   ]
  },
  {
   "cell_type": "code",
   "execution_count": 103,
   "metadata": {
    "ExecuteTime": {
     "end_time": "2024-05-03T17:52:57.315183Z",
     "start_time": "2024-05-03T17:52:57.311587Z"
    }
   },
   "outputs": [],
   "source": [
    "def make_tag(c):\n",
    "    return (c, c)"
   ]
  },
  {
   "cell_type": "code",
   "execution_count": 104,
   "metadata": {
    "ExecuteTime": {
     "end_time": "2024-05-03T17:52:57.654793Z",
     "start_time": "2024-05-03T17:52:57.650223Z"
    }
   },
   "outputs": [],
   "source": [
    "supervised = [make_tag(c) for c in data]\n",
    "trainer = HiddenMarkovModelTrainer(range(2), vocab)\n",
    "tagger = trainer.train_supervised([supervised])"
   ]
  },
  {
   "cell_type": "code",
   "execution_count": 105,
   "metadata": {
    "ExecuteTime": {
     "end_time": "2024-05-03T17:52:59.432373Z",
     "start_time": "2024-05-03T17:52:59.428173Z"
    }
   },
   "outputs": [
    {
     "name": "stdout",
     "output_type": "stream",
     "text": [
      "Оценка p(0|0) = 0.611\n"
     ]
    }
   ],
   "source": [
    "print(f'Оценка p(0|0) = {tagger._transitions[0].prob(0):.3f}')"
   ]
  },
  {
   "cell_type": "markdown",
   "metadata": {
    "id": "hFl8T0F3yEWM"
   },
   "source": [
    "## Отвергается ли нулевая гипотеза p(X_{i+1}= 0|X_{i}=0)=0.9?"
   ]
  },
  {
   "cell_type": "code",
   "execution_count": 109,
   "metadata": {
    "ExecuteTime": {
     "end_time": "2024-05-03T17:58:08.214829Z",
     "start_time": "2024-05-03T17:58:08.211070Z"
    }
   },
   "outputs": [],
   "source": [
    "T = 0\n",
    "for i in range(len(data) - 1):\n",
    "    if data[i] == 0 and data[i] == data[i+1]:\n",
    "        T += 1"
   ]
  },
  {
   "cell_type": "code",
   "execution_count": 114,
   "metadata": {
    "ExecuteTime": {
     "end_time": "2024-05-03T17:58:55.224757Z",
     "start_time": "2024-05-03T17:58:55.221346Z"
    },
    "id": "o4lQlzdfyE1J"
   },
   "outputs": [
    {
     "data": {
      "text/plain": [
       "1.3761493574495718e-16"
      ]
     },
     "execution_count": 114,
     "metadata": {},
     "output_type": "execute_result"
    }
   ],
   "source": [
    "n = len(data)\n",
    "p0 = 0.9\n",
    "st.binomtest(T, n, p0, alternative='less').pvalue"
   ]
  },
  {
   "cell_type": "markdown",
   "metadata": {
    "ExecuteTime": {
     "end_time": "2024-05-03T17:59:15.124651Z",
     "start_time": "2024-05-03T17:59:15.104706Z"
    }
   },
   "source": [
    "Отвергается"
   ]
  },
  {
   "cell_type": "markdown",
   "metadata": {
    "id": "w-yVspf6yFdZ"
   },
   "source": [
    "## Какова вероятность встретить Xi=2 с применением сглаживания Лапласа?"
   ]
  },
  {
   "cell_type": "code",
   "execution_count": 107,
   "metadata": {
    "ExecuteTime": {
     "end_time": "2024-05-03T17:53:03.904717Z",
     "start_time": "2024-05-03T17:53:03.900696Z"
    },
    "id": "VKl-3UzjyHJR"
   },
   "outputs": [],
   "source": [
    "laplace = lm.Laplace(order=1)\n",
    "laplace.fit([list(nltk_ngrams(tokens, 1))], vocabulary_text=vocab)"
   ]
  },
  {
   "cell_type": "code",
   "execution_count": 108,
   "metadata": {
    "ExecuteTime": {
     "end_time": "2024-05-03T17:53:04.932960Z",
     "start_time": "2024-05-03T17:53:04.928465Z"
    }
   },
   "outputs": [
    {
     "name": "stdout",
     "output_type": "stream",
     "text": [
      "Вероятность встретить X_i = 2 с Лапласом: 0.03\n"
     ]
    }
   ],
   "source": [
    "print(f\"Вероятность встретить X_i = 2 с Лапласом: {laplace.score('2'):.2f}\")"
   ]
  }
 ],
 "metadata": {
  "colab": {
   "name": "sem12.ipynb",
   "provenance": []
  },
  "kernelspec": {
   "display_name": "Python 3 (ipykernel)",
   "language": "python",
   "name": "python3"
  },
  "language_info": {
   "codemirror_mode": {
    "name": "ipython",
    "version": 3
   },
   "file_extension": ".py",
   "mimetype": "text/x-python",
   "name": "python",
   "nbconvert_exporter": "python",
   "pygments_lexer": "ipython3",
   "version": "3.11.5"
  }
 },
 "nbformat": 4,
 "nbformat_minor": 1
}
