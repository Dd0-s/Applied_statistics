{
 "cells": [
  {
   "cell_type": "markdown",
   "id": "88de931b",
   "metadata": {},
   "source": [
    "# Богданов Александр Иванович, Б05-003"
   ]
  },
  {
   "cell_type": "markdown",
   "id": "1308a8e9",
   "metadata": {},
   "source": [
    "## Задача 4.1"
   ]
  },
  {
   "cell_type": "markdown",
   "id": "228c4d3c",
   "metadata": {},
   "source": [
    "Рассмотрим данные из таблицы по числу заболевших и выздоровевших от короновируса в разных странах. Требуется проверить гипотезу о том, что число выздоровевших людей в странах не зависит от числа заболевших в стране.\n",
    "\n",
    "Требуется:\n",
    "\n",
    "1. записать задачу формально;\n",
    "2. предложить статистику для решения данной задачи;\n",
    "3. записать приближенно нулевое распределение данной статистики;\n",
    "4. записать явно правило принятия решения на основе статистики и нулевого распределения для обеспечения уровня значимости $\\alpha = 0.05$;\n",
    "5. проверить гипотезу по записанному критерию, для данных из условия. Противоречат ли они гипотезу?\n",
    "6. на уровне значимости alpha = 0.05 найти зависимость мощности критерия в зависимости от истинного значения статистики."
   ]
  },
  {
   "cell_type": "markdown",
   "id": "e2e82e0b",
   "metadata": {},
   "source": [
    "## Решение|"
   ]
  },
  {
   "cell_type": "code",
   "execution_count": 17,
   "id": "9412d754",
   "metadata": {
    "ExecuteTime": {
     "end_time": "2024-04-05T13:23:07.177276Z",
     "start_time": "2024-04-05T13:23:07.175793Z"
    }
   },
   "outputs": [],
   "source": [
    "import pandas as pd\n",
    "import numpy as np\n",
    "from scipy.stats import rankdata\n",
    "from scipy.stats import t\n",
    "from matplotlib import pyplot as plt"
   ]
  },
  {
   "cell_type": "markdown",
   "id": "9a62cf37",
   "metadata": {},
   "source": [
    "Загрузим данные."
   ]
  },
  {
   "cell_type": "code",
   "execution_count": 2,
   "id": "60f6aedf",
   "metadata": {
    "ExecuteTime": {
     "end_time": "2024-04-05T00:13:22.052179Z",
     "start_time": "2024-04-05T00:13:22.029604Z"
    }
   },
   "outputs": [
    {
     "data": {
      "text/html": [
       "<div>\n",
       "<style scoped>\n",
       "    .dataframe tbody tr th:only-of-type {\n",
       "        vertical-align: middle;\n",
       "    }\n",
       "\n",
       "    .dataframe tbody tr th {\n",
       "        vertical-align: top;\n",
       "    }\n",
       "\n",
       "    .dataframe thead th {\n",
       "        text-align: right;\n",
       "    }\n",
       "</style>\n",
       "<table border=\"1\" class=\"dataframe\">\n",
       "  <thead>\n",
       "    <tr style=\"text-align: right;\">\n",
       "      <th></th>\n",
       "      <th>Страна</th>\n",
       "      <th>заболевшие</th>\n",
       "      <th>выздоровевшие</th>\n",
       "    </tr>\n",
       "  </thead>\n",
       "  <tbody>\n",
       "    <tr>\n",
       "      <th>0</th>\n",
       "      <td>германия</td>\n",
       "      <td>2078</td>\n",
       "      <td>25</td>\n",
       "    </tr>\n",
       "    <tr>\n",
       "      <th>1</th>\n",
       "      <td>дания</td>\n",
       "      <td>617</td>\n",
       "      <td>1</td>\n",
       "    </tr>\n",
       "    <tr>\n",
       "      <th>2</th>\n",
       "      <td>малайзия</td>\n",
       "      <td>149</td>\n",
       "      <td>26</td>\n",
       "    </tr>\n",
       "    <tr>\n",
       "      <th>3</th>\n",
       "      <td>австрия</td>\n",
       "      <td>302</td>\n",
       "      <td>4</td>\n",
       "    </tr>\n",
       "    <tr>\n",
       "      <th>4</th>\n",
       "      <td>ирак</td>\n",
       "      <td>71</td>\n",
       "      <td>15</td>\n",
       "    </tr>\n",
       "    <tr>\n",
       "      <th>5</th>\n",
       "      <td>китай</td>\n",
       "      <td>80932</td>\n",
       "      <td>62901</td>\n",
       "    </tr>\n",
       "    <tr>\n",
       "      <th>6</th>\n",
       "      <td>италия</td>\n",
       "      <td>12462</td>\n",
       "      <td>1045</td>\n",
       "    </tr>\n",
       "    <tr>\n",
       "      <th>7</th>\n",
       "      <td>сша</td>\n",
       "      <td>1663</td>\n",
       "      <td>12</td>\n",
       "    </tr>\n",
       "    <tr>\n",
       "      <th>8</th>\n",
       "      <td>сингапур</td>\n",
       "      <td>178</td>\n",
       "      <td>96</td>\n",
       "    </tr>\n",
       "    <tr>\n",
       "      <th>9</th>\n",
       "      <td>австралия</td>\n",
       "      <td>128</td>\n",
       "      <td>21</td>\n",
       "    </tr>\n",
       "    <tr>\n",
       "      <th>10</th>\n",
       "      <td>великобритания</td>\n",
       "      <td>459</td>\n",
       "      <td>19</td>\n",
       "    </tr>\n",
       "    <tr>\n",
       "      <th>11</th>\n",
       "      <td>бахрейн</td>\n",
       "      <td>195</td>\n",
       "      <td>35</td>\n",
       "    </tr>\n",
       "    <tr>\n",
       "      <th>12</th>\n",
       "      <td>норвегия</td>\n",
       "      <td>702</td>\n",
       "      <td>1</td>\n",
       "    </tr>\n",
       "    <tr>\n",
       "      <th>13</th>\n",
       "      <td>корея</td>\n",
       "      <td>7869</td>\n",
       "      <td>333</td>\n",
       "    </tr>\n",
       "    <tr>\n",
       "      <th>14</th>\n",
       "      <td>франция</td>\n",
       "      <td>2284</td>\n",
       "      <td>12</td>\n",
       "    </tr>\n",
       "    <tr>\n",
       "      <th>15</th>\n",
       "      <td>кувейт</td>\n",
       "      <td>80</td>\n",
       "      <td>5</td>\n",
       "    </tr>\n",
       "    <tr>\n",
       "      <th>16</th>\n",
       "      <td>индия</td>\n",
       "      <td>73</td>\n",
       "      <td>4</td>\n",
       "    </tr>\n",
       "    <tr>\n",
       "      <th>17</th>\n",
       "      <td>таиланд</td>\n",
       "      <td>70</td>\n",
       "      <td>34</td>\n",
       "    </tr>\n",
       "    <tr>\n",
       "      <th>18</th>\n",
       "      <td>египет</td>\n",
       "      <td>67</td>\n",
       "      <td>27</td>\n",
       "    </tr>\n",
       "    <tr>\n",
       "      <th>19</th>\n",
       "      <td>швейцария</td>\n",
       "      <td>652</td>\n",
       "      <td>4</td>\n",
       "    </tr>\n",
       "    <tr>\n",
       "      <th>20</th>\n",
       "      <td>япония</td>\n",
       "      <td>639</td>\n",
       "      <td>118</td>\n",
       "    </tr>\n",
       "    <tr>\n",
       "      <th>21</th>\n",
       "      <td>израиль</td>\n",
       "      <td>131</td>\n",
       "      <td>4</td>\n",
       "    </tr>\n",
       "    <tr>\n",
       "      <th>22</th>\n",
       "      <td>канада</td>\n",
       "      <td>117</td>\n",
       "      <td>8</td>\n",
       "    </tr>\n",
       "    <tr>\n",
       "      <th>23</th>\n",
       "      <td>оаэ</td>\n",
       "      <td>85</td>\n",
       "      <td>17</td>\n",
       "    </tr>\n",
       "    <tr>\n",
       "      <th>24</th>\n",
       "      <td>иран</td>\n",
       "      <td>10075</td>\n",
       "      <td>2959</td>\n",
       "    </tr>\n",
       "    <tr>\n",
       "      <th>25</th>\n",
       "      <td>испания</td>\n",
       "      <td>2277</td>\n",
       "      <td>183</td>\n",
       "    </tr>\n",
       "  </tbody>\n",
       "</table>\n",
       "</div>"
      ],
      "text/plain": [
       "            Страна  заболевшие  выздоровевшие\n",
       "0         германия        2078             25\n",
       "1            дания         617              1\n",
       "2         малайзия         149             26\n",
       "3          австрия         302              4\n",
       "4             ирак          71             15\n",
       "5            китай       80932          62901\n",
       "6           италия       12462           1045\n",
       "7              сша        1663             12\n",
       "8         сингапур         178             96\n",
       "9        австралия         128             21\n",
       "10  великобритания         459             19\n",
       "11         бахрейн         195             35\n",
       "12        норвегия         702              1\n",
       "13           корея        7869            333\n",
       "14         франция        2284             12\n",
       "15          кувейт          80              5\n",
       "16           индия          73              4\n",
       "17         таиланд          70             34\n",
       "18          египет          67             27\n",
       "19       швейцария         652              4\n",
       "20          япония         639            118\n",
       "21         израиль         131              4\n",
       "22          канада         117              8\n",
       "23             оаэ          85             17\n",
       "24            иран       10075           2959\n",
       "25         испания        2277            183"
      ]
     },
     "execution_count": 2,
     "metadata": {},
     "output_type": "execute_result"
    }
   ],
   "source": [
    "data = pd.read_csv('data/corona.csv')\n",
    "data"
   ]
  },
  {
   "cell_type": "code",
   "execution_count": 3,
   "id": "cb1fa553",
   "metadata": {
    "ExecuteTime": {
     "end_time": "2024-04-05T00:14:31.229399Z",
     "start_time": "2024-04-05T00:14:31.225035Z"
    }
   },
   "outputs": [],
   "source": [
    "sick = data['заболевшие']\n",
    "recovered = data['выздоровевшие']"
   ]
  },
  {
   "cell_type": "markdown",
   "id": "02d3b019",
   "metadata": {},
   "source": [
    "Посмотрим на данные для того, чтобы понять какую корреляцию использовать"
   ]
  },
  {
   "cell_type": "code",
   "execution_count": 5,
   "id": "f480c4ad",
   "metadata": {
    "ExecuteTime": {
     "end_time": "2024-04-05T06:04:14.292365Z",
     "start_time": "2024-04-05T06:04:14.188757Z"
    }
   },
   "outputs": [
    {
     "data": {
      "image/png": "[encoded data removed]",
      "text/plain": [
       "<Figure size 640x480 with 1 Axes>"
      ]
     },
     "metadata": {},
     "output_type": "display_data"
    }
   ],
   "source": [
    "plt.scatter(sick, recovered)\n",
    "plt.xlabel('sick')\n",
    "plt.ylabel('recovered')\n",
    "plt.show()"
   ]
  },
  {
   "cell_type": "code",
   "execution_count": 8,
   "id": "aa63262a",
   "metadata": {
    "ExecuteTime": {
     "end_time": "2024-04-05T06:06:27.944696Z",
     "start_time": "2024-04-05T06:06:27.869395Z"
    }
   },
   "outputs": [
    {
     "data": {
      "image/png": "[encoded data removed]",
      "text/plain": [
       "<Figure size 640x480 with 1 Axes>"
      ]
     },
     "metadata": {},
     "output_type": "display_data"
    }
   ],
   "source": [
    "plt.scatter(np.log(sick), np.log(recovered))\n",
    "plt.xlabel('log(sick)')\n",
    "plt.ylabel('log(recovered)')\n",
    "plt.show()"
   ]
  },
  {
   "cell_type": "markdown",
   "id": "6bd02b9f",
   "metadata": {},
   "source": [
    "Линейная зависимость не прослеживается, поэтому исследовать корреляцию Пирсона не нужно. Будем исследовать корреляцию Спирмена, так как она прослеживается."
   ]
  },
  {
   "cell_type": "markdown",
   "id": "13d8e681",
   "metadata": {},
   "source": [
    "Воспользуемся критерием Стьюдента.\n",
    "\n",
    "Пусть даны две выборки: $X_1 = (x_{11}, \\dots, x_{1n})$, $X_2 = (x_{21}, \\dots, x_{2n})$, n = 26.\n",
    "\n",
    "Тогда ставится гипотеза и альтернатива:\n",
    "\n",
    "$$\n",
    "\\begin{equation*}\n",
    "    \\begin{cases}\n",
    "        H_0: \\  \\rho_{X_1 X_2} = 0 \\\\\n",
    "        H_1: \\  \\rho_{X_1 X_2} \\not = 0\n",
    "    \\end{cases}\n",
    "\\end{equation*}\n",
    "$$\n",
    "\n",
    "Возьмем статистику: $T = \\frac{\\hat{\\rho}_{X_1 X_2} \\sqrt{n - 2}}{\\sqrt{1 - \\hat{\\rho^2}_{X_1 X_2}}} \\sim St(n - 2)$, где $\\hat{\\rho}_{X_1 X_2} = 1 - \\frac{6}{n^3 - n}\\sum\\limits_{i = 1}^n (X_{1i} - X_{2i})^2$.\n",
    "\n",
    "Для проверки гипотезы на уровне значимости $\\alpha$: $\\tilde{T}_1 = St_{\\frac{\\alpha}{2}}(n - 2)$, $\\tilde{T}_2 = St_{1 - \\frac{\\alpha}{2}}(n - 2)$:\n",
    "\n",
    "$$\n",
    "\\begin{equation*}\n",
    "    \\begin{cases}\n",
    "        |T| < St_{1 - \\frac{\\alpha}{2}}(n - 2)\\ \\text{не отклоняем}\\ H_0 \\\\\n",
    "        |T| \\geq St_{1 - \\frac{\\alpha}{2}}(n - 2)\\ \\text{отклоняем}\\ H_0\n",
    "    \\end{cases}\n",
    "\\end{equation*}\n",
    "$$"
   ]
  },
  {
   "cell_type": "code",
   "execution_count": 16,
   "id": "d97c0346",
   "metadata": {
    "ExecuteTime": {
     "end_time": "2024-04-05T13:19:58.744492Z",
     "start_time": "2024-04-05T13:19:58.736717Z"
    }
   },
   "outputs": [
    {
     "data": {
      "text/plain": [
       "2.1510216794727075"
      ]
     },
     "execution_count": 16,
     "metadata": {},
     "output_type": "execute_result"
    }
   ],
   "source": [
    "n = len(sick)\n",
    "rho = 1 - 6 / (n**3 - n) * ((rankdata(sick) - rankdata(recovered))**2).sum()\n",
    "T = rho * np.sqrt(n - 2) / (1 - rho**2)\n",
    "T"
   ]
  },
  {
   "cell_type": "code",
   "execution_count": 19,
   "id": "6f4128ac",
   "metadata": {
    "ExecuteTime": {
     "end_time": "2024-04-05T13:23:33.915915Z",
     "start_time": "2024-04-05T13:23:33.910064Z"
    }
   },
   "outputs": [
    {
     "data": {
      "text/plain": [
       "2.063898561628021"
      ]
     },
     "execution_count": 19,
     "metadata": {},
     "output_type": "execute_result"
    }
   ],
   "source": [
    "t_quantile = t.ppf(1 - 0.05 / 2, n - 2)\n",
    "t_quantile"
   ]
  },
  {
   "cell_type": "markdown",
   "id": "7e1f3013",
   "metadata": {},
   "source": [
    "Теоретически мощность критерия не найти."
   ]
  }
 ],
 "metadata": {
  "kernelspec": {
   "display_name": "Python 3 (ipykernel)",
   "language": "python",
   "name": "python3"
  },
  "language_info": {
   "codemirror_mode": {
    "name": "ipython",
    "version": 3
   },
   "file_extension": ".py",
   "mimetype": "text/x-python",
   "name": "python",
   "nbconvert_exporter": "python",
   "pygments_lexer": "ipython3",
   "version": "3.11.5"
  }
 },
 "nbformat": 4,
 "nbformat_minor": 5
}
