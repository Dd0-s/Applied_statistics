{
 "cells": [
  {
   "cell_type": "markdown",
   "id": "31ea0708",
   "metadata": {},
   "source": [
    "# Богданов Александр Иванович, Б05-003"
   ]
  },
  {
   "cell_type": "markdown",
   "id": "34f1c489",
   "metadata": {},
   "source": [
    "## Задача 6.2"
   ]
  },
  {
   "cell_type": "markdown",
   "id": "b589c1a2",
   "metadata": {},
   "source": [
    "В городе Н. правительство решило начать борьбу с превышениями скорости автомобилей. Для выбора стратегии борьбы оно сначала решило провести исследования касательно того, влияет ли используемый водителем автомобиль на среднюю скорость передвижения.\n",
    "\n",
    "Для этого было сформировано 3 выборки по 20 человек, в каждой из которой людям выдали одинаковые автомобили марок Mitsubishi, Audi и BMW, соответственно. В течение месяца замерялась средняя скорость каждого из автомобилей.\n",
    "\n",
    "Каждая из пар групп была проверена двувыборочным критерием на равенство распределений, также была проведена поправка на множественность гипотез.\n",
    "\n",
    "Требуется:\n",
    "\n",
    "1. Описать, в чём недостаток подхода правительства;\n",
    "2. Предложить метод для более корректного решения задачи;\n",
    "3. Записать формальное условие задачи."
   ]
  },
  {
   "cell_type": "markdown",
   "id": "6a9d2eb4",
   "metadata": {},
   "source": [
    "## Решение|"
   ]
  },
  {
   "cell_type": "code",
   "execution_count": 37,
   "id": "27f505b5",
   "metadata": {
    "ExecuteTime": {
     "end_time": "2024-04-07T21:26:59.886580Z",
     "start_time": "2024-04-07T21:26:59.580140Z"
    }
   },
   "outputs": [],
   "source": [
    "import pandas as pd\n",
    "import numpy as np\n",
    "import scipy.stats as st\n",
    "import matplotlib.pyplot as plt"
   ]
  },
  {
   "cell_type": "markdown",
   "id": "1d6f6e65",
   "metadata": {},
   "source": [
    "1. Плохо, что люди знают, что они участвуют в исследовании - это означает, что они могут вести себя не как обычно. Надо было, например, найти людей, которые ездят на данных марках автомобилей, и следить за ними, чтобы они ничего не знали (для чистоты эксперимента).\n",
    "\n",
    "2. Использовать двувыборочные критерии, а потом делать поправку на множественность - плохо, так как решается более частная задача и непонятно, как определять размер эффекта для всех групп в совокупности.\n",
    "\n",
    "3. Надо сосредоточиться на равенстве средних, а не распределений."
   ]
  },
  {
   "cell_type": "markdown",
   "id": "031b8b6c",
   "metadata": {},
   "source": [
    "Надо использовать дисперсионный анализ, так как он позволит избежать множественное тестирование."
   ]
  },
  {
   "cell_type": "markdown",
   "id": "f5219f49",
   "metadata": {},
   "source": [
    "Предлагаю воспользоваться критерием Джонкхиера.\n",
    "\n",
    "Пусть есть выборки $X_1, X_2, X_3$, также можно считать, что $X_k \\sim F(x + \\Delta_k)$.\n",
    "\n",
    "Ставится гипотеза и альтернатива:\n",
    "$$\n",
    "\\begin{equation*}\n",
    "    \\begin{cases}\n",
    "        H_0: \\  \\Delta_1 = \\Delta_2 = \\Delta_3\\ (\\text{med}\\ X_1 = \\text{med}\\ X_2 = \\text{med}\\ X_3) \\\\\n",
    "        H_1: \\  \\text{med}\\ X_1 \\leq \\text{med}\\ X_2 \\leq \\text{med}\\ X_3\n",
    "    \\end{cases}\n",
    "\\end{equation*}\n",
    "$$\n",
    "\n",
    "Статистика: $T(X) = \\sum\\limits_{k = 1}^3 \\sum\\limits_{i = 1}^{20} a_{ki}$, где $a_{ki}$ - число наблюдений из первых $k − 1$ выборок меньших, чем $X_{ki}$.\n",
    "\n",
    "$T(X) \\sim N(\\mu, \\sigma^2)$ (можно так аппроксимировать), где $\\mu = 600$, $\\sigma = 5433$.\n",
    "\n",
    "Для проверки гипотезы на уровне значимости $\\alpha$: $\\tilde{T}_1 = N_{\\frac{\\alpha}{2}}(\\mu, \\sigma^2)$, $\\tilde{T}_2 = N_{1 - \\frac{\\alpha}{2}}(\\mu, \\sigma^2)$:\n",
    "\n",
    "$$\n",
    "\\begin{equation*}\n",
    "    \\begin{cases}\n",
    "        \\tilde{T}_1 < T < \\tilde{T}_2\\ \\text{не отклоняем}\\ H_0 \\\\\n",
    "        T \\leq \\tilde{T}_1\\ \\text{или}\\ \\tilde{T}_2 \\leq T\\ \\text{отклоняем}\\ H_0\n",
    "    \\end{cases}\n",
    "\\end{equation*}\n",
    "$$"
   ]
  },
  {
   "cell_type": "code",
   "execution_count": 15,
   "id": "08170062",
   "metadata": {
    "ExecuteTime": {
     "end_time": "2024-04-07T20:51:59.782594Z",
     "start_time": "2024-04-07T20:51:59.778189Z"
    }
   },
   "outputs": [
    {
     "name": "stdout",
     "output_type": "stream",
     "text": [
      "mu = 600\n",
      "sigma = 5433\n"
     ]
    }
   ],
   "source": [
    "mu = 1 / 4 * (60**2 - 3 * 20**2)\n",
    "print(f\"mu = {mu:.0f}\")\n",
    "sigma = 1 / 72 * (60**2 * (2 * 60 + 3) - 3 * 20**2 * (2 * 20 + 3))\n",
    "print(f\"sigma = {sigma:.0f}\")"
   ]
  },
  {
   "cell_type": "code",
   "execution_count": 3,
   "id": "0aee42c9",
   "metadata": {
    "ExecuteTime": {
     "end_time": "2024-04-07T19:40:35.397051Z",
     "start_time": "2024-04-07T19:40:35.370623Z"
    },
    "scrolled": false
   },
   "outputs": [
    {
     "data": {
      "text/html": [
       "<div>\n",
       "<style scoped>\n",
       "    .dataframe tbody tr th:only-of-type {\n",
       "        vertical-align: middle;\n",
       "    }\n",
       "\n",
       "    .dataframe tbody tr th {\n",
       "        vertical-align: top;\n",
       "    }\n",
       "\n",
       "    .dataframe thead th {\n",
       "        text-align: right;\n",
       "    }\n",
       "</style>\n",
       "<table border=\"1\" class=\"dataframe\">\n",
       "  <thead>\n",
       "    <tr style=\"text-align: right;\">\n",
       "      <th></th>\n",
       "      <th>mitsubishi</th>\n",
       "      <th>audi</th>\n",
       "      <th>bmw</th>\n",
       "    </tr>\n",
       "  </thead>\n",
       "  <tbody>\n",
       "    <tr>\n",
       "      <th>0</th>\n",
       "      <td>51</td>\n",
       "      <td>40</td>\n",
       "      <td>106</td>\n",
       "    </tr>\n",
       "    <tr>\n",
       "      <th>1</th>\n",
       "      <td>67</td>\n",
       "      <td>77</td>\n",
       "      <td>78</td>\n",
       "    </tr>\n",
       "    <tr>\n",
       "      <th>2</th>\n",
       "      <td>33</td>\n",
       "      <td>66</td>\n",
       "      <td>78</td>\n",
       "    </tr>\n",
       "    <tr>\n",
       "      <th>3</th>\n",
       "      <td>140</td>\n",
       "      <td>84</td>\n",
       "      <td>95</td>\n",
       "    </tr>\n",
       "    <tr>\n",
       "      <th>4</th>\n",
       "      <td>96</td>\n",
       "      <td>59</td>\n",
       "      <td>87</td>\n",
       "    </tr>\n",
       "    <tr>\n",
       "      <th>5</th>\n",
       "      <td>87</td>\n",
       "      <td>79</td>\n",
       "      <td>71</td>\n",
       "    </tr>\n",
       "    <tr>\n",
       "      <th>6</th>\n",
       "      <td>66</td>\n",
       "      <td>101</td>\n",
       "      <td>89</td>\n",
       "    </tr>\n",
       "    <tr>\n",
       "      <th>7</th>\n",
       "      <td>81</td>\n",
       "      <td>54</td>\n",
       "      <td>83</td>\n",
       "    </tr>\n",
       "    <tr>\n",
       "      <th>8</th>\n",
       "      <td>80</td>\n",
       "      <td>76</td>\n",
       "      <td>51</td>\n",
       "    </tr>\n",
       "    <tr>\n",
       "      <th>9</th>\n",
       "      <td>21</td>\n",
       "      <td>82</td>\n",
       "      <td>81</td>\n",
       "    </tr>\n",
       "    <tr>\n",
       "      <th>10</th>\n",
       "      <td>82</td>\n",
       "      <td>69</td>\n",
       "      <td>54</td>\n",
       "    </tr>\n",
       "    <tr>\n",
       "      <th>11</th>\n",
       "      <td>91</td>\n",
       "      <td>87</td>\n",
       "      <td>80</td>\n",
       "    </tr>\n",
       "    <tr>\n",
       "      <th>12</th>\n",
       "      <td>82</td>\n",
       "      <td>73</td>\n",
       "      <td>102</td>\n",
       "    </tr>\n",
       "    <tr>\n",
       "      <th>13</th>\n",
       "      <td>44</td>\n",
       "      <td>64</td>\n",
       "      <td>90</td>\n",
       "    </tr>\n",
       "    <tr>\n",
       "      <th>14</th>\n",
       "      <td>42</td>\n",
       "      <td>65</td>\n",
       "      <td>100</td>\n",
       "    </tr>\n",
       "    <tr>\n",
       "      <th>15</th>\n",
       "      <td>119</td>\n",
       "      <td>66</td>\n",
       "      <td>86</td>\n",
       "    </tr>\n",
       "    <tr>\n",
       "      <th>16</th>\n",
       "      <td>26</td>\n",
       "      <td>84</td>\n",
       "      <td>75</td>\n",
       "    </tr>\n",
       "    <tr>\n",
       "      <th>17</th>\n",
       "      <td>77</td>\n",
       "      <td>87</td>\n",
       "      <td>75</td>\n",
       "    </tr>\n",
       "    <tr>\n",
       "      <th>18</th>\n",
       "      <td>98</td>\n",
       "      <td>84</td>\n",
       "      <td>93</td>\n",
       "    </tr>\n",
       "    <tr>\n",
       "      <th>19</th>\n",
       "      <td>85</td>\n",
       "      <td>66</td>\n",
       "      <td>96</td>\n",
       "    </tr>\n",
       "  </tbody>\n",
       "</table>\n",
       "</div>"
      ],
      "text/plain": [
       "    mitsubishi  audi  bmw\n",
       "0           51    40  106\n",
       "1           67    77   78\n",
       "2           33    66   78\n",
       "3          140    84   95\n",
       "4           96    59   87\n",
       "5           87    79   71\n",
       "6           66   101   89\n",
       "7           81    54   83\n",
       "8           80    76   51\n",
       "9           21    82   81\n",
       "10          82    69   54\n",
       "11          91    87   80\n",
       "12          82    73  102\n",
       "13          44    64   90\n",
       "14          42    65  100\n",
       "15         119    66   86\n",
       "16          26    84   75\n",
       "17          77    87   75\n",
       "18          98    84   93\n",
       "19          85    66   96"
      ]
     },
     "execution_count": 3,
     "metadata": {},
     "output_type": "execute_result"
    }
   ],
   "source": [
    "data = pd.read_csv('data/gov.csv')\n",
    "data"
   ]
  },
  {
   "cell_type": "code",
   "execution_count": 27,
   "id": "a9fb836e",
   "metadata": {
    "ExecuteTime": {
     "end_time": "2024-04-07T21:19:11.672616Z",
     "start_time": "2024-04-07T21:19:11.668571Z"
    }
   },
   "outputs": [],
   "source": [
    "mitsubishi = data['mitsubishi'].to_numpy()\n",
    "audi = data['audi'].to_numpy()\n",
    "bmw = data['bmw'].to_numpy()"
   ]
  },
  {
   "cell_type": "code",
   "execution_count": 28,
   "id": "866579ce",
   "metadata": {
    "ExecuteTime": {
     "end_time": "2024-04-07T21:22:50.212729Z",
     "start_time": "2024-04-07T21:22:50.207330Z"
    }
   },
   "outputs": [],
   "source": [
    "A = []\n",
    "for car1 in mitsubishi:\n",
    "    count = 0\n",
    "    for car2 in audi:\n",
    "        if car1 < car2:\n",
    "            count += 1\n",
    "    A.append(count)\n",
    "    \n",
    "B = []\n",
    "for car1 in mitsubishi:\n",
    "    count = 0\n",
    "    for car2 in bmw:\n",
    "        if car1 < car2:\n",
    "            count += 1\n",
    "    B.append(count)\n",
    "    \n",
    "C = []\n",
    "for car1 in audi:\n",
    "    count = 0\n",
    "    for car2 in bmw:\n",
    "        if car1 < car2:\n",
    "            count += 1\n",
    "    C.append(count)"
   ]
  },
  {
   "cell_type": "code",
   "execution_count": 32,
   "id": "6a81471a",
   "metadata": {
    "ExecuteTime": {
     "end_time": "2024-04-07T21:24:17.897209Z",
     "start_time": "2024-04-07T21:24:17.894405Z"
    }
   },
   "outputs": [],
   "source": [
    "A = np.array(A)\n",
    "B = np.array(B)\n",
    "C = np.array(C)"
   ]
  },
  {
   "cell_type": "code",
   "execution_count": 35,
   "id": "801d90bb",
   "metadata": {
    "ExecuteTime": {
     "end_time": "2024-04-07T21:25:35.941819Z",
     "start_time": "2024-04-07T21:25:35.935272Z"
    }
   },
   "outputs": [],
   "source": [
    "T = 2 * (A.sum() + B.sum() + C.sum()) - 3 * 20**2\n",
    "T1 = st.norm(mu, sigma).ppf(0.05 / 2)\n",
    "T2 = st.norm(mu, sigma).ppf(1 - 0.05 / 2)"
   ]
  },
  {
   "cell_type": "code",
   "execution_count": 36,
   "id": "f8907948",
   "metadata": {
    "ExecuteTime": {
     "end_time": "2024-04-07T21:26:15.124120Z",
     "start_time": "2024-04-07T21:26:15.119790Z"
    }
   },
   "outputs": [
    {
     "name": "stdout",
     "output_type": "stream",
     "text": [
      "T = 220\n",
      "T1 = -10049.137649334296\n",
      "T2 = 11249.137649334292\n"
     ]
    }
   ],
   "source": [
    "print(f\"T = {T}\")\n",
    "print(f\"T1 = {T1}\")\n",
    "print(f\"T2 = {T2}\")"
   ]
  },
  {
   "cell_type": "markdown",
   "id": "fcc111a2",
   "metadata": {},
   "source": [
    "Как мы видим, гипотеза не отклоняется. Следовательно нельзя считать, что средняя скорость автомобилей разных марок различна."
   ]
  }
 ],
 "metadata": {
  "kernelspec": {
   "display_name": "Python 3 (ipykernel)",
   "language": "python",
   "name": "python3"
  },
  "language_info": {
   "codemirror_mode": {
    "name": "ipython",
    "version": 3
   },
   "file_extension": ".py",
   "mimetype": "text/x-python",
   "name": "python",
   "nbconvert_exporter": "python",
   "pygments_lexer": "ipython3",
   "version": "3.11.5"
  }
 },
 "nbformat": 4,
 "nbformat_minor": 5
}
