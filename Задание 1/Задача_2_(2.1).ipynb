{
 "cells": [
  {
   "cell_type": "markdown",
   "id": "61a8d63a",
   "metadata": {},
   "source": [
    "# Богданов Александр Иванович, Б05-003"
   ]
  },
  {
   "cell_type": "markdown",
   "id": "42a8d375",
   "metadata": {},
   "source": [
    "## Задача 2.1"
   ]
  },
  {
   "cell_type": "markdown",
   "id": "e6d56e38",
   "metadata": {},
   "source": [
    "Пусть задано два вектора ответов: \n",
    "\n",
    "y - истинный вектор ответов для некоторой выборки;\n",
    "\n",
    "$\\hat{y}$ - некоторой предсказательной модели. \n",
    "\n",
    "Наблюдатель хочет проверить гипотезу о том, что ровно в 25% случаев модель дает заниженные оценки. Предложите метод проверки данной гипотезы: запишите задачу формально, предложите статистику для решения данной задачи на уровне значимости $\\alpha = 0.05$. Также найдите зависимость мощности данного критерия в зависимости от истинного процента заниженных ответов."
   ]
  },
  {
   "cell_type": "markdown",
   "id": "a6fb7356",
   "metadata": {},
   "source": [
    "## Решение"
   ]
  },
  {
   "cell_type": "markdown",
   "id": "cb476719",
   "metadata": {},
   "source": [
    "Воспользуемся идеей двухвыборочного критерия знаков.\n",
    "\n",
    "Пусть есть выборки $y = (y_1, \\dots, y_n)$ и $\\hat{y} = (\\hat{y}_1, \\dots, \\hat{y}_n)$.\n",
    "\n",
    "Тогда ставится гипотеза и альтернатива ($p = \\mathbb{P}_0(\\hat{y} < y)$, $p_0 = 0.25$):\n",
    "\n",
    "$$\n",
    "\\begin{equation*}\n",
    "    \\begin{cases}\n",
    "        H_0: \\  p = p_0 \\\\\n",
    "        H_1: \\  p \\not = p_0\n",
    "    \\end{cases}\n",
    "\\end{equation*}\n",
    "$$\n",
    "\n",
    "Возьмем статистику двухвыборочного критерия знаков: $ T = \\sum\\limits_{i = 1}^n \\left[ \\hat{y}_i < y_i \\right] \\sim Bin(n, p_0) $.\n",
    "\n",
    "Для проверки гипотезы на уровне значимости $\\alpha$: $\\tilde{T}_1 = Bin_{\\frac{\\alpha}{2}}(n, p_0)$, $\\tilde{T}_2 = Bin_{1 - \\frac{\\alpha}{2}}(n, p_0)$:\n",
    "\n",
    "$$\n",
    "\\begin{equation*}\n",
    "    \\begin{cases}\n",
    "        \\tilde{T}_1 < T < \\tilde{T}_2\\ \\text{не отклоняем}\\ H_0 \\\\\n",
    "        T \\leq \\tilde{T}_1\\ \\text{или}\\ \\tilde{T}_2 \\leq T\\ \\text{отклоняем}\\ H_0\n",
    "    \\end{cases}\n",
    "\\end{equation*}\n",
    "$$\n",
    "\n",
    "$W(p) = \\mathbb{P}_1(T \\leq \\tilde{T}_1) + \\mathbb{P}_1(T \\geq \\tilde{T}_2) = 1 + F_{Bin(n, p)}(\\tilde{T}_1) - F_{Bin(n, p)}(\\tilde{T}_2)$."
   ]
  }
 ],
 "metadata": {
  "kernelspec": {
   "display_name": "Python 3 (ipykernel)",
   "language": "python",
   "name": "python3"
  },
  "language_info": {
   "codemirror_mode": {
    "name": "ipython",
    "version": 3
   },
   "file_extension": ".py",
   "mimetype": "text/x-python",
   "name": "python",
   "nbconvert_exporter": "python",
   "pygments_lexer": "ipython3",
   "version": "3.11.5"
  }
 },
 "nbformat": 4,
 "nbformat_minor": 5
}
