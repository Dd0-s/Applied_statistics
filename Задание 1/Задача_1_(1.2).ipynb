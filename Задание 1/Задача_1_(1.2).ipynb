{
 "cells": [
  {
   "cell_type": "markdown",
   "id": "5dc3a489",
   "metadata": {},
   "source": [
    "# Богданов Александр Иванович, Б05-003"
   ]
  },
  {
   "cell_type": "markdown",
   "id": "82406512",
   "metadata": {},
   "source": [
    "## Задача 1.2"
   ]
  },
  {
   "cell_type": "markdown",
   "id": "703801c0",
   "metadata": {},
   "source": [
    "Выборка: Ирисы Фишера\n",
    "\n",
    "Задана выборка описаний 150 экземпляров ириса разных видов. Описание каждого ириса состоит из четырех признаков:\n",
    "\n",
    "1. Длина наружной доли околоцветника (англ. sepal length);\n",
    "2. Ширина наружной доли околоцветника (англ. sepal width);\n",
    "3. Длина внутренней доли околоцветника (англ. petal length);\n",
    "4. Ширина внутренней доли околоцветника (англ. petal width).\n",
    "\n",
    "Требуется определить насколько в среднем различается каждая из этих характеристик между разными видами. Для каждой из данных характеристик выбрать подходящий размер эффекта из https://en.wikipedia.org/wiki/Effect_size#Types. Посчитать соответствующее значение."
   ]
  },
  {
   "cell_type": "markdown",
   "id": "485f08ac",
   "metadata": {},
   "source": [
    "## Решение|"
   ]
  },
  {
   "cell_type": "code",
   "execution_count": 56,
   "id": "57e7c62e",
   "metadata": {
    "ExecuteTime": {
     "end_time": "2024-04-05T19:21:31.841991Z",
     "start_time": "2024-04-05T19:21:31.838313Z"
    }
   },
   "outputs": [],
   "source": [
    "from sklearn.datasets import load_iris\n",
    "import pandas as pd"
   ]
  },
  {
   "cell_type": "markdown",
   "id": "0f7daffb",
   "metadata": {},
   "source": [
    "Загрузим данные"
   ]
  },
  {
   "cell_type": "code",
   "execution_count": 104,
   "id": "1d94deee",
   "metadata": {
    "ExecuteTime": {
     "end_time": "2024-04-05T19:47:44.960774Z",
     "start_time": "2024-04-05T19:47:44.942319Z"
    }
   },
   "outputs": [
    {
     "data": {
      "text/html": [
       "<div>\n",
       "<style scoped>\n",
       "    .dataframe tbody tr th:only-of-type {\n",
       "        vertical-align: middle;\n",
       "    }\n",
       "\n",
       "    .dataframe tbody tr th {\n",
       "        vertical-align: top;\n",
       "    }\n",
       "\n",
       "    .dataframe thead th {\n",
       "        text-align: right;\n",
       "    }\n",
       "</style>\n",
       "<table border=\"1\" class=\"dataframe\">\n",
       "  <thead>\n",
       "    <tr style=\"text-align: right;\">\n",
       "      <th></th>\n",
       "      <th>sepal length (cm)</th>\n",
       "      <th>sepal width (cm)</th>\n",
       "      <th>petal length (cm)</th>\n",
       "      <th>petal width (cm)</th>\n",
       "      <th>target</th>\n",
       "    </tr>\n",
       "  </thead>\n",
       "  <tbody>\n",
       "    <tr>\n",
       "      <th>0</th>\n",
       "      <td>5.1</td>\n",
       "      <td>3.5</td>\n",
       "      <td>1.4</td>\n",
       "      <td>0.2</td>\n",
       "      <td>0</td>\n",
       "    </tr>\n",
       "    <tr>\n",
       "      <th>1</th>\n",
       "      <td>4.9</td>\n",
       "      <td>3.0</td>\n",
       "      <td>1.4</td>\n",
       "      <td>0.2</td>\n",
       "      <td>0</td>\n",
       "    </tr>\n",
       "    <tr>\n",
       "      <th>2</th>\n",
       "      <td>4.7</td>\n",
       "      <td>3.2</td>\n",
       "      <td>1.3</td>\n",
       "      <td>0.2</td>\n",
       "      <td>0</td>\n",
       "    </tr>\n",
       "    <tr>\n",
       "      <th>3</th>\n",
       "      <td>4.6</td>\n",
       "      <td>3.1</td>\n",
       "      <td>1.5</td>\n",
       "      <td>0.2</td>\n",
       "      <td>0</td>\n",
       "    </tr>\n",
       "    <tr>\n",
       "      <th>4</th>\n",
       "      <td>5.0</td>\n",
       "      <td>3.6</td>\n",
       "      <td>1.4</td>\n",
       "      <td>0.2</td>\n",
       "      <td>0</td>\n",
       "    </tr>\n",
       "    <tr>\n",
       "      <th>...</th>\n",
       "      <td>...</td>\n",
       "      <td>...</td>\n",
       "      <td>...</td>\n",
       "      <td>...</td>\n",
       "      <td>...</td>\n",
       "    </tr>\n",
       "    <tr>\n",
       "      <th>145</th>\n",
       "      <td>6.7</td>\n",
       "      <td>3.0</td>\n",
       "      <td>5.2</td>\n",
       "      <td>2.3</td>\n",
       "      <td>2</td>\n",
       "    </tr>\n",
       "    <tr>\n",
       "      <th>146</th>\n",
       "      <td>6.3</td>\n",
       "      <td>2.5</td>\n",
       "      <td>5.0</td>\n",
       "      <td>1.9</td>\n",
       "      <td>2</td>\n",
       "    </tr>\n",
       "    <tr>\n",
       "      <th>147</th>\n",
       "      <td>6.5</td>\n",
       "      <td>3.0</td>\n",
       "      <td>5.2</td>\n",
       "      <td>2.0</td>\n",
       "      <td>2</td>\n",
       "    </tr>\n",
       "    <tr>\n",
       "      <th>148</th>\n",
       "      <td>6.2</td>\n",
       "      <td>3.4</td>\n",
       "      <td>5.4</td>\n",
       "      <td>2.3</td>\n",
       "      <td>2</td>\n",
       "    </tr>\n",
       "    <tr>\n",
       "      <th>149</th>\n",
       "      <td>5.9</td>\n",
       "      <td>3.0</td>\n",
       "      <td>5.1</td>\n",
       "      <td>1.8</td>\n",
       "      <td>2</td>\n",
       "    </tr>\n",
       "  </tbody>\n",
       "</table>\n",
       "<p>150 rows × 5 columns</p>\n",
       "</div>"
      ],
      "text/plain": [
       "     sepal length (cm)  sepal width (cm)  petal length (cm)  petal width (cm)  \\\n",
       "0                  5.1               3.5                1.4               0.2   \n",
       "1                  4.9               3.0                1.4               0.2   \n",
       "2                  4.7               3.2                1.3               0.2   \n",
       "3                  4.6               3.1                1.5               0.2   \n",
       "4                  5.0               3.6                1.4               0.2   \n",
       "..                 ...               ...                ...               ...   \n",
       "145                6.7               3.0                5.2               2.3   \n",
       "146                6.3               2.5                5.0               1.9   \n",
       "147                6.5               3.0                5.2               2.0   \n",
       "148                6.2               3.4                5.4               2.3   \n",
       "149                5.9               3.0                5.1               1.8   \n",
       "\n",
       "     target  \n",
       "0         0  \n",
       "1         0  \n",
       "2         0  \n",
       "3         0  \n",
       "4         0  \n",
       "..      ...  \n",
       "145       2  \n",
       "146       2  \n",
       "147       2  \n",
       "148       2  \n",
       "149       2  \n",
       "\n",
       "[150 rows x 5 columns]"
      ]
     },
     "execution_count": 104,
     "metadata": {},
     "output_type": "execute_result"
    }
   ],
   "source": [
    "data = load_iris(as_frame=True)\n",
    "iris_frame = pd.DataFrame(data.data)\n",
    "iris_frame.columns = data.feature_names\n",
    "iris_frame['target'] = data.target\n",
    "iris_frame"
   ]
  },
  {
   "cell_type": "markdown",
   "id": "0fb491eb",
   "metadata": {},
   "source": [
    "Самый интуитивно понятный эффект: Cohen's d. Поэтому буду использовать его."
   ]
  },
  {
   "cell_type": "code",
   "execution_count": 114,
   "id": "b0d52a22",
   "metadata": {
    "ExecuteTime": {
     "end_time": "2024-04-05T19:54:18.608658Z",
     "start_time": "2024-04-05T19:54:18.577012Z"
    }
   },
   "outputs": [
    {
     "name": "stdout",
     "output_type": "stream",
     "text": [
      "Размеры эффекта для sepal length (cm)\n",
      "              setosa  versicolor  virginica\n",
      "setosa      0.000000   -0.481283  -0.818699\n",
      "versicolor  0.481283    0.000000  -0.337416\n",
      "virginica   0.818699    0.337416   0.000000\n",
      "\n",
      "Размеры эффекта для sepal width (cm)\n",
      "              setosa  versicolor  virginica\n",
      "setosa      0.000000    0.340521   0.234949\n",
      "versicolor -0.340521    0.000000  -0.105572\n",
      "virginica  -0.234949    0.105572   0.000000\n",
      "\n",
      "Размеры эффекта для petal length (cm)\n",
      "              setosa  versicolor  virginica\n",
      "setosa      0.000000   -1.447990  -2.116611\n",
      "versicolor  1.447990    0.000000  -0.668621\n",
      "virginica   2.116611    0.668621   0.000000\n",
      "\n",
      "Размеры эффекта для petal width (cm)\n",
      "              setosa  versicolor  virginica\n",
      "setosa      0.000000   -0.558909  -0.921166\n",
      "versicolor  0.558909    0.000000  -0.362256\n",
      "virginica   0.921166    0.362256   0.000000\n",
      "\n"
     ]
    }
   ],
   "source": [
    "for number in range(4):\n",
    "    results = np.zeros((3, 3))\n",
    "    \n",
    "    for number1 in range(3):\n",
    "        for number2 in range(3):\n",
    "\n",
    "            x1 = iris_frame[iris_frame['target'] == number1].values[:, number]\n",
    "            mean1 = x1.mean()\n",
    "            var1 = np.var(x1, ddof=1)\n",
    "            \n",
    "            x2 = iris_frame[iris_frame['target'] == number2].values[:, number]\n",
    "            mean2 = x2.mean()\n",
    "            var2 = np.var(x2, ddof=1)\n",
    "\n",
    "            var = (len(x1) - 1) * var_1 + (len(x2) - 1) * var_2 / (len(x1) + len(x2) - 2)\n",
    "    \n",
    "            results[number1][number2] = (mean1 - mean2) / np.sqrt(var)\n",
    "\n",
    "    answer = pd.DataFrame(data=results, index=['setosa', 'versicolor', 'virginica'], columns=['setosa', 'versicolor', 'virginica'])\n",
    "\n",
    "    print(f'Размеры эффекта для {iris_frame.columns[number]}')\n",
    "    print(answer)\n",
    "    print()"
   ]
  },
  {
   "cell_type": "markdown",
   "id": "c9a9d84b",
   "metadata": {},
   "source": [
    "Как мы видим, размер эффекта только в одном случае очень маленький."
   ]
  }
 ],
 "metadata": {
  "kernelspec": {
   "display_name": "Python 3 (ipykernel)",
   "language": "python",
   "name": "python3"
  },
  "language_info": {
   "codemirror_mode": {
    "name": "ipython",
    "version": 3
   },
   "file_extension": ".py",
   "mimetype": "text/x-python",
   "name": "python",
   "nbconvert_exporter": "python",
   "pygments_lexer": "ipython3",
   "version": "3.11.5"
  }
 },
 "nbformat": 4,
 "nbformat_minor": 5
}
