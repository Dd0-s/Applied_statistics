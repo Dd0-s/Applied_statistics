{
 "cells": [
  {
   "cell_type": "markdown",
   "id": "da38c703",
   "metadata": {},
   "source": [
    "# Богданов Александр Иванович, Б05-003"
   ]
  },
  {
   "cell_type": "markdown",
   "id": "517baa07",
   "metadata": {},
   "source": [
    "## Задача 3.2"
   ]
  },
  {
   "cell_type": "markdown",
   "id": "48b0e831",
   "metadata": {},
   "source": [
    "Выборка: статистика бросков для игроков NBA\n",
    "\n",
    "Дана статистика бросков для игроков NBA. Выборка представляет собой статистику бросков для различных игроков NBA. Для каждого игрока известны:\n",
    "\n",
    "1. количество успешных бросков в домашних играх (score_home)\n",
    "2. количество бросков в домашних играх (atm_home)\n",
    "3. количество успешных бросков в гостевых играх (score_away)\n",
    "4. количество бросков в гостевых играх (atm_away)\n",
    "\n",
    "Требуется определить, есть ли разница в успехе бросков у игроков в домашних и гостевых играх. У какого процента игроков разница в успехе существенна?"
   ]
  },
  {
   "cell_type": "markdown",
   "id": "4165c105",
   "metadata": {},
   "source": [
    "## Решение"
   ]
  },
  {
   "cell_type": "code",
   "execution_count": 65,
   "id": "d918b71c",
   "metadata": {
    "ExecuteTime": {
     "end_time": "2024-04-04T14:06:37.197845Z",
     "start_time": "2024-04-04T14:06:37.193957Z"
    }
   },
   "outputs": [],
   "source": [
    "import pandas as pd\n",
    "import numpy as np\n",
    "from statsmodels.stats.descriptivestats import sign_test"
   ]
  },
  {
   "cell_type": "markdown",
   "id": "48ec6abb",
   "metadata": {},
   "source": [
    "Загрузим данные."
   ]
  },
  {
   "cell_type": "code",
   "execution_count": 49,
   "id": "9a1013d1",
   "metadata": {
    "ExecuteTime": {
     "end_time": "2024-04-04T13:44:16.078748Z",
     "start_time": "2024-04-04T13:44:16.059217Z"
    },
    "scrolled": false
   },
   "outputs": [
    {
     "data": {
      "text/html": [
       "<div>\n",
       "<style scoped>\n",
       "    .dataframe tbody tr th:only-of-type {\n",
       "        vertical-align: middle;\n",
       "    }\n",
       "\n",
       "    .dataframe tbody tr th {\n",
       "        vertical-align: top;\n",
       "    }\n",
       "\n",
       "    .dataframe thead th {\n",
       "        text-align: right;\n",
       "    }\n",
       "</style>\n",
       "<table border=\"1\" class=\"dataframe\">\n",
       "  <thead>\n",
       "    <tr style=\"text-align: right;\">\n",
       "      <th></th>\n",
       "      <th>player</th>\n",
       "      <th>team</th>\n",
       "      <th>atm_away</th>\n",
       "      <th>atm_home</th>\n",
       "      <th>score_away</th>\n",
       "      <th>score_home</th>\n",
       "      <th>atm_total</th>\n",
       "      <th>score_total</th>\n",
       "    </tr>\n",
       "  </thead>\n",
       "  <tbody>\n",
       "    <tr>\n",
       "      <th>7</th>\n",
       "      <td>A. Johnson</td>\n",
       "      <td>ATL</td>\n",
       "      <td>30</td>\n",
       "      <td>34</td>\n",
       "      <td>24</td>\n",
       "      <td>28</td>\n",
       "      <td>64</td>\n",
       "      <td>52</td>\n",
       "    </tr>\n",
       "    <tr>\n",
       "      <th>10</th>\n",
       "      <td>A. Johnson</td>\n",
       "      <td>TOR</td>\n",
       "      <td>63</td>\n",
       "      <td>57</td>\n",
       "      <td>44</td>\n",
       "      <td>38</td>\n",
       "      <td>120</td>\n",
       "      <td>82</td>\n",
       "    </tr>\n",
       "    <tr>\n",
       "      <th>15</th>\n",
       "      <td>Abdur-Rahim</td>\n",
       "      <td>SAC</td>\n",
       "      <td>114</td>\n",
       "      <td>124</td>\n",
       "      <td>84</td>\n",
       "      <td>90</td>\n",
       "      <td>238</td>\n",
       "      <td>174</td>\n",
       "    </tr>\n",
       "    <tr>\n",
       "      <th>22</th>\n",
       "      <td>Afflalo</td>\n",
       "      <td>DEN</td>\n",
       "      <td>236</td>\n",
       "      <td>284</td>\n",
       "      <td>189</td>\n",
       "      <td>227</td>\n",
       "      <td>520</td>\n",
       "      <td>416</td>\n",
       "    </tr>\n",
       "    <tr>\n",
       "      <th>23</th>\n",
       "      <td>Afflalo</td>\n",
       "      <td>DET</td>\n",
       "      <td>75</td>\n",
       "      <td>88</td>\n",
       "      <td>62</td>\n",
       "      <td>67</td>\n",
       "      <td>163</td>\n",
       "      <td>129</td>\n",
       "    </tr>\n",
       "    <tr>\n",
       "      <th>...</th>\n",
       "      <td>...</td>\n",
       "      <td>...</td>\n",
       "      <td>...</td>\n",
       "      <td>...</td>\n",
       "      <td>...</td>\n",
       "      <td>...</td>\n",
       "      <td>...</td>\n",
       "      <td>...</td>\n",
       "    </tr>\n",
       "    <tr>\n",
       "      <th>1687</th>\n",
       "      <td>Yi</td>\n",
       "      <td>NJN</td>\n",
       "      <td>54</td>\n",
       "      <td>79</td>\n",
       "      <td>44</td>\n",
       "      <td>59</td>\n",
       "      <td>133</td>\n",
       "      <td>103</td>\n",
       "    </tr>\n",
       "    <tr>\n",
       "      <th>1688</th>\n",
       "      <td>Yi</td>\n",
       "      <td>WAS</td>\n",
       "      <td>55</td>\n",
       "      <td>36</td>\n",
       "      <td>38</td>\n",
       "      <td>24</td>\n",
       "      <td>91</td>\n",
       "      <td>62</td>\n",
       "    </tr>\n",
       "    <tr>\n",
       "      <th>1690</th>\n",
       "      <td>Young</td>\n",
       "      <td>MEM</td>\n",
       "      <td>163</td>\n",
       "      <td>155</td>\n",
       "      <td>130</td>\n",
       "      <td>114</td>\n",
       "      <td>318</td>\n",
       "      <td>244</td>\n",
       "    </tr>\n",
       "    <tr>\n",
       "      <th>1691</th>\n",
       "      <td>Young</td>\n",
       "      <td>PHI</td>\n",
       "      <td>406</td>\n",
       "      <td>401</td>\n",
       "      <td>302</td>\n",
       "      <td>285</td>\n",
       "      <td>807</td>\n",
       "      <td>587</td>\n",
       "    </tr>\n",
       "    <tr>\n",
       "      <th>1692</th>\n",
       "      <td>Young</td>\n",
       "      <td>WAS</td>\n",
       "      <td>408</td>\n",
       "      <td>397</td>\n",
       "      <td>339</td>\n",
       "      <td>327</td>\n",
       "      <td>805</td>\n",
       "      <td>666</td>\n",
       "    </tr>\n",
       "  </tbody>\n",
       "</table>\n",
       "<p>936 rows × 8 columns</p>\n",
       "</div>"
      ],
      "text/plain": [
       "           player team  atm_away  atm_home  score_away  score_home  atm_total  \\\n",
       "7      A. Johnson  ATL        30        34          24          28         64   \n",
       "10     A. Johnson  TOR        63        57          44          38        120   \n",
       "15    Abdur-Rahim  SAC       114       124          84          90        238   \n",
       "22        Afflalo  DEN       236       284         189         227        520   \n",
       "23        Afflalo  DET        75        88          62          67        163   \n",
       "...           ...  ...       ...       ...         ...         ...        ...   \n",
       "1687           Yi  NJN        54        79          44          59        133   \n",
       "1688           Yi  WAS        55        36          38          24         91   \n",
       "1690        Young  MEM       163       155         130         114        318   \n",
       "1691        Young  PHI       406       401         302         285        807   \n",
       "1692        Young  WAS       408       397         339         327        805   \n",
       "\n",
       "      score_total  \n",
       "7              52  \n",
       "10             82  \n",
       "15            174  \n",
       "22            416  \n",
       "23            129  \n",
       "...           ...  \n",
       "1687          103  \n",
       "1688           62  \n",
       "1690          244  \n",
       "1691          587  \n",
       "1692          666  \n",
       "\n",
       "[936 rows x 8 columns]"
      ]
     },
     "execution_count": 49,
     "metadata": {},
     "output_type": "execute_result"
    }
   ],
   "source": [
    "data = pd.read_csv('data/nba.csv', index_col=0)\n",
    "data"
   ]
  },
  {
   "cell_type": "markdown",
   "id": "a0917c0c",
   "metadata": {},
   "source": [
    "Сгрупируем по игрокам и переведем всю статистику в проценты."
   ]
  },
  {
   "cell_type": "code",
   "execution_count": 50,
   "id": "f5039476",
   "metadata": {
    "ExecuteTime": {
     "end_time": "2024-04-04T13:44:18.020992Z",
     "start_time": "2024-04-04T13:44:18.005693Z"
    }
   },
   "outputs": [
    {
     "data": {
      "text/html": [
       "<div>\n",
       "<style scoped>\n",
       "    .dataframe tbody tr th:only-of-type {\n",
       "        vertical-align: middle;\n",
       "    }\n",
       "\n",
       "    .dataframe tbody tr th {\n",
       "        vertical-align: top;\n",
       "    }\n",
       "\n",
       "    .dataframe thead th {\n",
       "        text-align: right;\n",
       "    }\n",
       "</style>\n",
       "<table border=\"1\" class=\"dataframe\">\n",
       "  <thead>\n",
       "    <tr style=\"text-align: right;\">\n",
       "      <th></th>\n",
       "      <th>success_rate_home</th>\n",
       "      <th>success_rate_away</th>\n",
       "    </tr>\n",
       "  </thead>\n",
       "  <tbody>\n",
       "    <tr>\n",
       "      <th>0</th>\n",
       "      <td>0.725275</td>\n",
       "      <td>0.731183</td>\n",
       "    </tr>\n",
       "    <tr>\n",
       "      <th>1</th>\n",
       "      <td>0.725806</td>\n",
       "      <td>0.736842</td>\n",
       "    </tr>\n",
       "    <tr>\n",
       "      <th>2</th>\n",
       "      <td>0.790323</td>\n",
       "      <td>0.807074</td>\n",
       "    </tr>\n",
       "    <tr>\n",
       "      <th>3</th>\n",
       "      <td>0.795745</td>\n",
       "      <td>0.754171</td>\n",
       "    </tr>\n",
       "    <tr>\n",
       "      <th>4</th>\n",
       "      <td>0.723404</td>\n",
       "      <td>0.666667</td>\n",
       "    </tr>\n",
       "    <tr>\n",
       "      <th>...</th>\n",
       "      <td>...</td>\n",
       "      <td>...</td>\n",
       "    </tr>\n",
       "    <tr>\n",
       "      <th>453</th>\n",
       "      <td>0.724138</td>\n",
       "      <td>0.509091</td>\n",
       "    </tr>\n",
       "    <tr>\n",
       "      <th>454</th>\n",
       "      <td>0.711670</td>\n",
       "      <td>0.694553</td>\n",
       "    </tr>\n",
       "    <tr>\n",
       "      <th>455</th>\n",
       "      <td>0.853333</td>\n",
       "      <td>0.870536</td>\n",
       "    </tr>\n",
       "    <tr>\n",
       "      <th>456</th>\n",
       "      <td>0.792079</td>\n",
       "      <td>0.760479</td>\n",
       "    </tr>\n",
       "    <tr>\n",
       "      <th>457</th>\n",
       "      <td>0.761805</td>\n",
       "      <td>0.789150</td>\n",
       "    </tr>\n",
       "  </tbody>\n",
       "</table>\n",
       "<p>458 rows × 2 columns</p>\n",
       "</div>"
      ],
      "text/plain": [
       "     success_rate_home  success_rate_away\n",
       "0             0.725275           0.731183\n",
       "1             0.725806           0.736842\n",
       "2             0.790323           0.807074\n",
       "3             0.795745           0.754171\n",
       "4             0.723404           0.666667\n",
       "..                 ...                ...\n",
       "453           0.724138           0.509091\n",
       "454           0.711670           0.694553\n",
       "455           0.853333           0.870536\n",
       "456           0.792079           0.760479\n",
       "457           0.761805           0.789150\n",
       "\n",
       "[458 rows x 2 columns]"
      ]
     },
     "execution_count": 50,
     "metadata": {},
     "output_type": "execute_result"
    }
   ],
   "source": [
    "data = data.groupby('player').sum()\n",
    "\n",
    "data['success_rate_home'] = data['score_home'] / data['atm_home']\n",
    "data['success_rate_away'] = data['score_away'] / data['atm_away']\n",
    "\n",
    "data = data.drop(['team',\n",
    "                  'score_home',\n",
    "                  'score_away',\n",
    "                  'score_total',\n",
    "                  'atm_home',\n",
    "                  'atm_away',\n",
    "                  'atm_total'] , axis=1)\n",
    "\n",
    "data.index = np.arange(len(data))\n",
    "data"
   ]
  },
  {
   "cell_type": "code",
   "execution_count": 66,
   "id": "1ec8f119",
   "metadata": {
    "ExecuteTime": {
     "end_time": "2024-04-04T14:07:48.123496Z",
     "start_time": "2024-04-04T14:07:48.118757Z"
    }
   },
   "outputs": [],
   "source": [
    "success_rate_home = data['success_rate_home']\n",
    "success_rate_away = data['success_rate_away']"
   ]
  },
  {
   "cell_type": "markdown",
   "id": "4e122a4d",
   "metadata": {},
   "source": [
    "Воспользуемся одновыборочным критерием знаков"
   ]
  },
  {
   "cell_type": "code",
   "execution_count": 78,
   "id": "bf80d38c",
   "metadata": {
    "ExecuteTime": {
     "end_time": "2024-04-04T14:18:33.660277Z",
     "start_time": "2024-04-04T14:18:33.650997Z"
    }
   },
   "outputs": [
    {
     "name": "stdout",
     "output_type": "stream",
     "text": [
      "Критерий знаков: p-value = 0.483.\n"
     ]
    }
   ],
   "source": [
    "_, p = sign_test(success_rate_home - success_rate_away)\n",
    "print(f'Критерий знаков: p-value = {p:.3f}.')"
   ]
  },
  {
   "cell_type": "markdown",
   "id": "bfb73669",
   "metadata": {},
   "source": [
    "Так как p-value > 0.05, то гипотезу о том, что у игроков есть разница в бросках в гостевых и домашних играх мы не отклоняем."
   ]
  },
  {
   "cell_type": "markdown",
   "id": "1ab08034",
   "metadata": {
    "ExecuteTime": {
     "end_time": "2024-04-04T14:14:29.118908Z",
     "start_time": "2024-04-04T14:14:29.112446Z"
    }
   },
   "source": [
    "Будем считать, что разница в успехе существенна, если она больше дисперсии."
   ]
  },
  {
   "cell_type": "code",
   "execution_count": 77,
   "id": "e08ed86a",
   "metadata": {
    "ExecuteTime": {
     "end_time": "2024-04-04T14:18:32.042758Z",
     "start_time": "2024-04-04T14:18:32.037638Z"
    }
   },
   "outputs": [
    {
     "name": "stdout",
     "output_type": "stream",
     "text": [
      "У 21.18% игроков разница существенная.\n"
     ]
    }
   ],
   "source": [
    "threshold = np.std(success_rate_home - success_rate_away)\n",
    "percent = np.mean(np.abs(success_rate_home - success_rate_away) > threshold) * 100\n",
    "print(f'У {percent:.2f}% игроков разница существенная.')"
   ]
  }
 ],
 "metadata": {
  "kernelspec": {
   "display_name": "Python 3 (ipykernel)",
   "language": "python",
   "name": "python3"
  },
  "language_info": {
   "codemirror_mode": {
    "name": "ipython",
    "version": 3
   },
   "file_extension": ".py",
   "mimetype": "text/x-python",
   "name": "python",
   "nbconvert_exporter": "python",
   "pygments_lexer": "ipython3",
   "version": "3.11.5"
  }
 },
 "nbformat": 4,
 "nbformat_minor": 5
}
